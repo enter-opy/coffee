{
 "cells": [
  {
   "cell_type": "markdown",
   "id": "5023e6f6-aafc-4d8f-b1ee-849d759c115e",
   "metadata": {},
   "source": [
    "# Collaborative filtering model"
   ]
  },
  {
   "cell_type": "code",
   "execution_count": 55,
   "id": "b73a8643-7fc3-4a85-b51e-bcf90a393553",
   "metadata": {},
   "outputs": [],
   "source": [
    "import numpy as np\n",
    "import pandas as pd\n",
    "from scipy.sparse import coo_matrix\n",
    "from implicit.nearest_neighbours import bm25_weight\n",
    "from implicit.als import AlternatingLeastSquares\n",
    "import os"
   ]
  },
  {
   "cell_type": "code",
   "execution_count": 56,
   "id": "01d6ba9a-5cb6-4bd9-937a-75d5b312fd4e",
   "metadata": {},
   "outputs": [],
   "source": [
    "materials_root = \"materials\"\n",
    "working_root = \"working\""
   ]
  },
  {
   "cell_type": "markdown",
   "id": "bce65cb0-6370-480a-bda0-0fe4ba0b2e87",
   "metadata": {},
   "source": [
    "## Load data"
   ]
  },
  {
   "cell_type": "markdown",
   "id": "6ee15e0a-4f0c-4602-a5a3-e515d0190848",
   "metadata": {},
   "source": [
    "**Load `userid-artist-counts.csv`** for training the model."
   ]
  },
  {
   "cell_type": "code",
   "execution_count": 57,
   "id": "1f664bc3-528e-47e6-ba69-aaca6d126816",
   "metadata": {},
   "outputs": [
    {
     "data": {
      "text/html": [
       "<div>\n",
       "<style scoped>\n",
       "    .dataframe tbody tr th:only-of-type {\n",
       "        vertical-align: middle;\n",
       "    }\n",
       "\n",
       "    .dataframe tbody tr th {\n",
       "        vertical-align: top;\n",
       "    }\n",
       "\n",
       "    .dataframe thead th {\n",
       "        text-align: right;\n",
       "    }\n",
       "</style>\n",
       "<table border=\"1\" class=\"dataframe\">\n",
       "  <thead>\n",
       "    <tr style=\"text-align: right;\">\n",
       "      <th></th>\n",
       "      <th>userid</th>\n",
       "      <th>artist_mbids</th>\n",
       "      <th>count</th>\n",
       "    </tr>\n",
       "  </thead>\n",
       "  <tbody>\n",
       "    <tr>\n",
       "      <th>0</th>\n",
       "      <td>1</td>\n",
       "      <td>002e9f6e-13af-4347-83c5-f5ace70e0ec4</td>\n",
       "      <td>1</td>\n",
       "    </tr>\n",
       "    <tr>\n",
       "      <th>1</th>\n",
       "      <td>1</td>\n",
       "      <td>01252145-c9e8-4de5-a480-9b2bed05450a</td>\n",
       "      <td>14</td>\n",
       "    </tr>\n",
       "    <tr>\n",
       "      <th>2</th>\n",
       "      <td>1</td>\n",
       "      <td>02a7de68-2681-4d7e-8c36-6f2fdb37c07d</td>\n",
       "      <td>1</td>\n",
       "    </tr>\n",
       "    <tr>\n",
       "      <th>3</th>\n",
       "      <td>1</td>\n",
       "      <td>0383dadf-2a4e-4d10-a46a-e9e041da8eb3</td>\n",
       "      <td>12</td>\n",
       "    </tr>\n",
       "    <tr>\n",
       "      <th>4</th>\n",
       "      <td>1</td>\n",
       "      <td>03f93de6-6d62-4710-bcc7-9b3d7c3d95f5</td>\n",
       "      <td>1</td>\n",
       "    </tr>\n",
       "  </tbody>\n",
       "</table>\n",
       "</div>"
      ],
      "text/plain": [
       "   userid                          artist_mbids  count\n",
       "0       1  002e9f6e-13af-4347-83c5-f5ace70e0ec4      1\n",
       "1       1  01252145-c9e8-4de5-a480-9b2bed05450a     14\n",
       "2       1  02a7de68-2681-4d7e-8c36-6f2fdb37c07d      1\n",
       "3       1  0383dadf-2a4e-4d10-a46a-e9e041da8eb3     12\n",
       "4       1  03f93de6-6d62-4710-bcc7-9b3d7c3d95f5      1"
      ]
     },
     "execution_count": 57,
     "metadata": {},
     "output_type": "execute_result"
    }
   ],
   "source": [
    "data = pd.read_csv(os.path.join(working_root, \"userid-artist-counts.csv\"))\n",
    "data.head()"
   ]
  },
  {
   "cell_type": "markdown",
   "id": "adbe5a1b-536d-4127-b36b-4453958813b1",
   "metadata": {},
   "source": [
    "**Load `musicbrainz_artist.csv` for `artist_mbids` to `name` mapping.**"
   ]
  },
  {
   "cell_type": "code",
   "execution_count": 58,
   "id": "ddf7dbb6-4686-41a0-8df4-9d27cbc3efc2",
   "metadata": {},
   "outputs": [
    {
     "data": {
      "text/html": [
       "<div>\n",
       "<style scoped>\n",
       "    .dataframe tbody tr th:only-of-type {\n",
       "        vertical-align: middle;\n",
       "    }\n",
       "\n",
       "    .dataframe tbody tr th {\n",
       "        vertical-align: top;\n",
       "    }\n",
       "\n",
       "    .dataframe thead th {\n",
       "        text-align: right;\n",
       "    }\n",
       "</style>\n",
       "<table border=\"1\" class=\"dataframe\">\n",
       "  <thead>\n",
       "    <tr style=\"text-align: right;\">\n",
       "      <th></th>\n",
       "      <th>name</th>\n",
       "    </tr>\n",
       "    <tr>\n",
       "      <th>artist_mbid</th>\n",
       "      <th></th>\n",
       "    </tr>\n",
       "  </thead>\n",
       "  <tbody>\n",
       "    <tr>\n",
       "      <th>fadeb38c-833f-40bc-9d8c-a6383b38b1be</th>\n",
       "      <td>Доктор Сатана</td>\n",
       "    </tr>\n",
       "    <tr>\n",
       "      <th>49add228-eac5-4de8-836c-d75cde7369c3</th>\n",
       "      <td>Pete Moutso</td>\n",
       "    </tr>\n",
       "    <tr>\n",
       "      <th>165a49a0-2b3b-4078-a3c1-905afdc07c0a</th>\n",
       "      <td>Babyglock</td>\n",
       "    </tr>\n",
       "    <tr>\n",
       "      <th>7b4a548e-a01a-49b7-82e7-b49efeb9732c</th>\n",
       "      <td>Aric Leavitt</td>\n",
       "    </tr>\n",
       "    <tr>\n",
       "      <th>60aca66f-e91a-4cb5-9308-b6e293cd833e</th>\n",
       "      <td>Fonograff</td>\n",
       "    </tr>\n",
       "  </tbody>\n",
       "</table>\n",
       "</div>"
      ],
      "text/plain": [
       "                                               name\n",
       "artist_mbid                                        \n",
       "fadeb38c-833f-40bc-9d8c-a6383b38b1be  Доктор Сатана\n",
       "49add228-eac5-4de8-836c-d75cde7369c3    Pete Moutso\n",
       "165a49a0-2b3b-4078-a3c1-905afdc07c0a      Babyglock\n",
       "7b4a548e-a01a-49b7-82e7-b49efeb9732c   Aric Leavitt\n",
       "60aca66f-e91a-4cb5-9308-b6e293cd833e      Fonograff"
      ]
     },
     "execution_count": 58,
     "metadata": {},
     "output_type": "execute_result"
    }
   ],
   "source": [
    "musicbrainz_artist = pd.read_csv(os.path.join(materials_root, \"musicbrainz_artist.csv\"))\n",
    "musicbrainz_artist.set_index(\"artist_mbid\", inplace=True)\n",
    "musicbrainz_artist.head()"
   ]
  },
  {
   "cell_type": "markdown",
   "id": "38c2e1a5-d865-49b6-b69d-5417203800f9",
   "metadata": {},
   "source": [
    "**Process the date for training**"
   ]
  },
  {
   "cell_type": "code",
   "execution_count": 59,
   "id": "d5104787-2c47-4ea7-ae52-e695ce3a0683",
   "metadata": {},
   "outputs": [],
   "source": [
    "users = data[\"userid\"].astype(\"category\")\n",
    "artists = data[\"artist_mbids\"].astype(\"category\")\n",
    "plays = coo_matrix(\n",
    "        (data[\"count\"].astype(np.float32),\n",
    "        (\n",
    "            users.cat.codes.copy(),\n",
    "            artists.cat.codes.copy()\n",
    "        ),\n",
    "    )\n",
    ").tocsr()\n",
    "\n",
    "artist_user_plays = bm25_weight(plays, K1=100, B=0.8)\n",
    "user_plays = artist_user_plays.T.tocsr()"
   ]
  },
  {
   "cell_type": "markdown",
   "id": "e15ef839-8afb-4d39-b287-e73da4e46abb",
   "metadata": {},
   "source": [
    "## Model training"
   ]
  },
  {
   "cell_type": "code",
   "execution_count": 60,
   "id": "162db765-5b4e-45ae-89a8-fbfe50fc3c2b",
   "metadata": {},
   "outputs": [
    {
     "name": "stderr",
     "output_type": "stream",
     "text": [
      "100%|███████████████████████████████████████████████████████████████████████████████████████████████████████████████████████████████████████████████████████| 15/15 [00:01<00:00, 11.81it/s]\n"
     ]
    }
   ],
   "source": [
    "model = AlternatingLeastSquares(factors=64, regularization=0.05, alpha=2.0)\n",
    "model.fit(artist_user_plays.tocsr())"
   ]
  },
  {
   "cell_type": "markdown",
   "id": "c1c1841c-adda-4aba-843c-651e559e5adf",
   "metadata": {},
   "source": [
    "## Generate recommendations"
   ]
  },
  {
   "cell_type": "markdown",
   "id": "785b7519-1476-4048-a3c1-6035971c1599",
   "metadata": {},
   "source": [
    "**Recommendation example 1**"
   ]
  },
  {
   "cell_type": "code",
   "execution_count": 61,
   "id": "dedc7666-a3ea-4e92-81da-534b4fbdad0f",
   "metadata": {},
   "outputs": [],
   "source": [
    "userid = 123\n",
    "ids, scores = model.recommend(userid, user_plays[userid], N=10)"
   ]
  },
  {
   "cell_type": "code",
   "execution_count": 62,
   "id": "24ddf975-737f-469b-b11c-64549796ebed",
   "metadata": {},
   "outputs": [
    {
     "name": "stdout",
     "output_type": "stream",
     "text": [
      "Recommendations for user: 123\n"
     ]
    },
    {
     "data": {
      "text/html": [
       "<div>\n",
       "<style scoped>\n",
       "    .dataframe tbody tr th:only-of-type {\n",
       "        vertical-align: middle;\n",
       "    }\n",
       "\n",
       "    .dataframe tbody tr th {\n",
       "        vertical-align: top;\n",
       "    }\n",
       "\n",
       "    .dataframe thead th {\n",
       "        text-align: right;\n",
       "    }\n",
       "</style>\n",
       "<table border=\"1\" class=\"dataframe\">\n",
       "  <thead>\n",
       "    <tr style=\"text-align: right;\">\n",
       "      <th></th>\n",
       "      <th>artist</th>\n",
       "      <th>score</th>\n",
       "    </tr>\n",
       "  </thead>\n",
       "  <tbody>\n",
       "    <tr>\n",
       "      <th>0</th>\n",
       "      <td>Телевизор</td>\n",
       "      <td>1.202320</td>\n",
       "    </tr>\n",
       "    <tr>\n",
       "      <th>1</th>\n",
       "      <td>Heart</td>\n",
       "      <td>0.934325</td>\n",
       "    </tr>\n",
       "    <tr>\n",
       "      <th>2</th>\n",
       "      <td>TSHA</td>\n",
       "      <td>0.917736</td>\n",
       "    </tr>\n",
       "    <tr>\n",
       "      <th>3</th>\n",
       "      <td>Max Cooper</td>\n",
       "      <td>0.915201</td>\n",
       "    </tr>\n",
       "    <tr>\n",
       "      <th>4</th>\n",
       "      <td>上海アリス幻樂団</td>\n",
       "      <td>0.883574</td>\n",
       "    </tr>\n",
       "    <tr>\n",
       "      <th>5</th>\n",
       "      <td>Victor Ruiz</td>\n",
       "      <td>0.865356</td>\n",
       "    </tr>\n",
       "    <tr>\n",
       "      <th>6</th>\n",
       "      <td>The Felice Brothers</td>\n",
       "      <td>0.857405</td>\n",
       "    </tr>\n",
       "    <tr>\n",
       "      <th>7</th>\n",
       "      <td>J Mascis</td>\n",
       "      <td>0.853091</td>\n",
       "    </tr>\n",
       "    <tr>\n",
       "      <th>8</th>\n",
       "      <td>Lit</td>\n",
       "      <td>0.847989</td>\n",
       "    </tr>\n",
       "    <tr>\n",
       "      <th>9</th>\n",
       "      <td>Siouxsie and the Banshees</td>\n",
       "      <td>0.826713</td>\n",
       "    </tr>\n",
       "  </tbody>\n",
       "</table>\n",
       "</div>"
      ],
      "text/plain": [
       "                      artist     score\n",
       "0                  Телевизор  1.202320\n",
       "1                      Heart  0.934325\n",
       "2                       TSHA  0.917736\n",
       "3                 Max Cooper  0.915201\n",
       "4                   上海アリス幻樂団  0.883574\n",
       "5                Victor Ruiz  0.865356\n",
       "6        The Felice Brothers  0.857405\n",
       "7                   J Mascis  0.853091\n",
       "8                        Lit  0.847989\n",
       "9  Siouxsie and the Banshees  0.826713"
      ]
     },
     "execution_count": 62,
     "metadata": {},
     "output_type": "execute_result"
    }
   ],
   "source": [
    "print(f'Recommendations for user: {userid}')\n",
    "recommendation = pd.DataFrame({\"artist\": musicbrainz_artist.loc[artists[ids]]['name'].tolist(), \"score\": scores})\n",
    "recommendation.reset_index(drop=True, inplace=True)\n",
    "recommendation"
   ]
  },
  {
   "cell_type": "markdown",
   "id": "a6a5f4c8-1c28-4ff3-9586-0e4c447a0026",
   "metadata": {},
   "source": [
    "**Recommendation example 2**"
   ]
  },
  {
   "cell_type": "code",
   "execution_count": 63,
   "id": "fd126003-d071-45d0-8f62-43501ddfd306",
   "metadata": {},
   "outputs": [],
   "source": [
    "userid = 1234\n",
    "ids, scores = model.recommend(userid, user_plays[userid], N=10)"
   ]
  },
  {
   "cell_type": "code",
   "execution_count": 64,
   "id": "22f29e3c-99e1-4490-8a7f-57d8d83544a1",
   "metadata": {},
   "outputs": [
    {
     "name": "stdout",
     "output_type": "stream",
     "text": [
      "Recommendations for user: 1234\n"
     ]
    },
    {
     "data": {
      "text/html": [
       "<div>\n",
       "<style scoped>\n",
       "    .dataframe tbody tr th:only-of-type {\n",
       "        vertical-align: middle;\n",
       "    }\n",
       "\n",
       "    .dataframe tbody tr th {\n",
       "        vertical-align: top;\n",
       "    }\n",
       "\n",
       "    .dataframe thead th {\n",
       "        text-align: right;\n",
       "    }\n",
       "</style>\n",
       "<table border=\"1\" class=\"dataframe\">\n",
       "  <thead>\n",
       "    <tr style=\"text-align: right;\">\n",
       "      <th></th>\n",
       "      <th>artist</th>\n",
       "      <th>score</th>\n",
       "    </tr>\n",
       "  </thead>\n",
       "  <tbody>\n",
       "    <tr>\n",
       "      <th>0</th>\n",
       "      <td>The National</td>\n",
       "      <td>1.091855</td>\n",
       "    </tr>\n",
       "    <tr>\n",
       "      <th>1</th>\n",
       "      <td>Cole Porter</td>\n",
       "      <td>1.034392</td>\n",
       "    </tr>\n",
       "    <tr>\n",
       "      <th>2</th>\n",
       "      <td>Jeuce</td>\n",
       "      <td>0.980928</td>\n",
       "    </tr>\n",
       "    <tr>\n",
       "      <th>3</th>\n",
       "      <td>Beastie Boys</td>\n",
       "      <td>0.930126</td>\n",
       "    </tr>\n",
       "    <tr>\n",
       "      <th>4</th>\n",
       "      <td>Sybreed</td>\n",
       "      <td>0.924293</td>\n",
       "    </tr>\n",
       "    <tr>\n",
       "      <th>5</th>\n",
       "      <td>Omar Khorshid</td>\n",
       "      <td>0.923141</td>\n",
       "    </tr>\n",
       "    <tr>\n",
       "      <th>6</th>\n",
       "      <td>The Jesus and Mary Chain</td>\n",
       "      <td>0.896257</td>\n",
       "    </tr>\n",
       "    <tr>\n",
       "      <th>7</th>\n",
       "      <td>Silicone Soul</td>\n",
       "      <td>0.896157</td>\n",
       "    </tr>\n",
       "    <tr>\n",
       "      <th>8</th>\n",
       "      <td>Beyoncé</td>\n",
       "      <td>0.884745</td>\n",
       "    </tr>\n",
       "    <tr>\n",
       "      <th>9</th>\n",
       "      <td>Billy Idol</td>\n",
       "      <td>0.880577</td>\n",
       "    </tr>\n",
       "  </tbody>\n",
       "</table>\n",
       "</div>"
      ],
      "text/plain": [
       "                     artist     score\n",
       "0              The National  1.091855\n",
       "1               Cole Porter  1.034392\n",
       "2                     Jeuce  0.980928\n",
       "3              Beastie Boys  0.930126\n",
       "4                   Sybreed  0.924293\n",
       "5             Omar Khorshid  0.923141\n",
       "6  The Jesus and Mary Chain  0.896257\n",
       "7             Silicone Soul  0.896157\n",
       "8                   Beyoncé  0.884745\n",
       "9                Billy Idol  0.880577"
      ]
     },
     "execution_count": 64,
     "metadata": {},
     "output_type": "execute_result"
    }
   ],
   "source": [
    "print(f'Recommendations for user: {userid}')\n",
    "recommendation = pd.DataFrame({\"artist\": musicbrainz_artist.loc[artists[ids]]['name'].tolist(), \"score\": scores})\n",
    "recommendation.reset_index(drop=True, inplace=True)\n",
    "recommendation"
   ]
  },
  {
   "cell_type": "markdown",
   "id": "ee0ba785-8a57-4711-b905-d2b4ff347f3b",
   "metadata": {},
   "source": [
    "## Find similar artists"
   ]
  },
  {
   "cell_type": "markdown",
   "id": "55bd5c52-498b-43c9-a238-34fae8d46c47",
   "metadata": {},
   "source": [
    "**Similar artists example 1**"
   ]
  },
  {
   "cell_type": "code",
   "execution_count": 65,
   "id": "ea9b197b-9b53-4433-a929-f18e76368157",
   "metadata": {},
   "outputs": [],
   "source": [
    "artistid = \"03f93de6-6d62-4710-bcc7-9b3d7c3d95f5\"\n",
    "artistname = musicbrainz_artist.loc[artistid]['name']\n",
    "artist_idx = artists.index[artists == artistid].tolist()[0]"
   ]
  },
  {
   "cell_type": "code",
   "execution_count": 66,
   "id": "18889360-06ba-4b22-aa22-a7007774019e",
   "metadata": {},
   "outputs": [],
   "source": [
    "ids, scores = model.similar_items(artist_idx, N=10)"
   ]
  },
  {
   "cell_type": "code",
   "execution_count": 67,
   "id": "bd3f50ff-6012-420f-a727-102ca235e10f",
   "metadata": {},
   "outputs": [
    {
     "name": "stdout",
     "output_type": "stream",
     "text": [
      "Artists similar to Z‐Trip\n"
     ]
    },
    {
     "data": {
      "text/html": [
       "<div>\n",
       "<style scoped>\n",
       "    .dataframe tbody tr th:only-of-type {\n",
       "        vertical-align: middle;\n",
       "    }\n",
       "\n",
       "    .dataframe tbody tr th {\n",
       "        vertical-align: top;\n",
       "    }\n",
       "\n",
       "    .dataframe thead th {\n",
       "        text-align: right;\n",
       "    }\n",
       "</style>\n",
       "<table border=\"1\" class=\"dataframe\">\n",
       "  <thead>\n",
       "    <tr style=\"text-align: right;\">\n",
       "      <th></th>\n",
       "      <th>artist</th>\n",
       "      <th>score</th>\n",
       "    </tr>\n",
       "  </thead>\n",
       "  <tbody>\n",
       "    <tr>\n",
       "      <th>0</th>\n",
       "      <td>STÖNER</td>\n",
       "      <td>1.0</td>\n",
       "    </tr>\n",
       "    <tr>\n",
       "      <th>1</th>\n",
       "      <td>Pardon Moi</td>\n",
       "      <td>1.0</td>\n",
       "    </tr>\n",
       "    <tr>\n",
       "      <th>2</th>\n",
       "      <td>The Zutons</td>\n",
       "      <td>1.0</td>\n",
       "    </tr>\n",
       "    <tr>\n",
       "      <th>3</th>\n",
       "      <td>Kunal Ganjawala</td>\n",
       "      <td>1.0</td>\n",
       "    </tr>\n",
       "    <tr>\n",
       "      <th>4</th>\n",
       "      <td>Alizée</td>\n",
       "      <td>1.0</td>\n",
       "    </tr>\n",
       "    <tr>\n",
       "      <th>5</th>\n",
       "      <td>DJ Krush</td>\n",
       "      <td>1.0</td>\n",
       "    </tr>\n",
       "    <tr>\n",
       "      <th>6</th>\n",
       "      <td>Skarazula</td>\n",
       "      <td>1.0</td>\n",
       "    </tr>\n",
       "    <tr>\n",
       "      <th>7</th>\n",
       "      <td>Orquesta Sublime</td>\n",
       "      <td>1.0</td>\n",
       "    </tr>\n",
       "    <tr>\n",
       "      <th>8</th>\n",
       "      <td>Des’ree</td>\n",
       "      <td>1.0</td>\n",
       "    </tr>\n",
       "    <tr>\n",
       "      <th>9</th>\n",
       "      <td>N*E*R*D</td>\n",
       "      <td>1.0</td>\n",
       "    </tr>\n",
       "  </tbody>\n",
       "</table>\n",
       "</div>"
      ],
      "text/plain": [
       "             artist  score\n",
       "0            STÖNER    1.0\n",
       "1        Pardon Moi    1.0\n",
       "2        The Zutons    1.0\n",
       "3   Kunal Ganjawala    1.0\n",
       "4            Alizée    1.0\n",
       "5          DJ Krush    1.0\n",
       "6         Skarazula    1.0\n",
       "7  Orquesta Sublime    1.0\n",
       "8           Des’ree    1.0\n",
       "9           N*E*R*D    1.0"
      ]
     },
     "execution_count": 67,
     "metadata": {},
     "output_type": "execute_result"
    }
   ],
   "source": [
    "print(f'Artists similar to {artistname}')\n",
    "similar_artists = pd.DataFrame({\"artist\": musicbrainz_artist.loc[artists[ids]]['name'].tolist(), \"score\": scores})\n",
    "similar_artists.reset_index(drop=True, inplace=True)\n",
    "similar_artists"
   ]
  },
  {
   "cell_type": "markdown",
   "id": "791f07f8-870f-45b7-8d92-166de0d3b570",
   "metadata": {},
   "source": [
    "**Similar artists example 2**"
   ]
  },
  {
   "cell_type": "code",
   "execution_count": 68,
   "id": "20a57dc8-27f9-4c86-9ca4-78c7993c8161",
   "metadata": {},
   "outputs": [],
   "source": [
    "artistid = \"8f92558c-2baa-4758-8c38-615519e9deda\"\n",
    "artistname = musicbrainz_artist.loc[artistid]['name']\n",
    "artist_idx = artists.index[artists == artistid].tolist()[0]"
   ]
  },
  {
   "cell_type": "code",
   "execution_count": 69,
   "id": "42886ef4-6f8b-464b-88fd-c278f369575b",
   "metadata": {},
   "outputs": [],
   "source": [
    "ids, scores = model.similar_items(artist_idx, N=10)"
   ]
  },
  {
   "cell_type": "code",
   "execution_count": 70,
   "id": "410ff0bd-7838-4a0d-8409-4ecfe5a4ec02",
   "metadata": {},
   "outputs": [
    {
     "name": "stdout",
     "output_type": "stream",
     "text": [
      "Artists similar to The Clash\n"
     ]
    },
    {
     "data": {
      "text/html": [
       "<div>\n",
       "<style scoped>\n",
       "    .dataframe tbody tr th:only-of-type {\n",
       "        vertical-align: middle;\n",
       "    }\n",
       "\n",
       "    .dataframe tbody tr th {\n",
       "        vertical-align: top;\n",
       "    }\n",
       "\n",
       "    .dataframe thead th {\n",
       "        text-align: right;\n",
       "    }\n",
       "</style>\n",
       "<table border=\"1\" class=\"dataframe\">\n",
       "  <thead>\n",
       "    <tr style=\"text-align: right;\">\n",
       "      <th></th>\n",
       "      <th>artist</th>\n",
       "      <th>score</th>\n",
       "    </tr>\n",
       "  </thead>\n",
       "  <tbody>\n",
       "    <tr>\n",
       "      <th>0</th>\n",
       "      <td>The Clash</td>\n",
       "      <td>1.0</td>\n",
       "    </tr>\n",
       "    <tr>\n",
       "      <th>1</th>\n",
       "      <td>Labrinth</td>\n",
       "      <td>1.0</td>\n",
       "    </tr>\n",
       "    <tr>\n",
       "      <th>2</th>\n",
       "      <td>Peggy Gou</td>\n",
       "      <td>1.0</td>\n",
       "    </tr>\n",
       "    <tr>\n",
       "      <th>3</th>\n",
       "      <td>Cappella</td>\n",
       "      <td>1.0</td>\n",
       "    </tr>\n",
       "    <tr>\n",
       "      <th>4</th>\n",
       "      <td>Endel</td>\n",
       "      <td>1.0</td>\n",
       "    </tr>\n",
       "    <tr>\n",
       "      <th>5</th>\n",
       "      <td>Otu</td>\n",
       "      <td>1.0</td>\n",
       "    </tr>\n",
       "    <tr>\n",
       "      <th>6</th>\n",
       "      <td>Greg Puciato</td>\n",
       "      <td>1.0</td>\n",
       "    </tr>\n",
       "    <tr>\n",
       "      <th>7</th>\n",
       "      <td>Fleet Foxes</td>\n",
       "      <td>1.0</td>\n",
       "    </tr>\n",
       "    <tr>\n",
       "      <th>8</th>\n",
       "      <td>Merle Haggard</td>\n",
       "      <td>1.0</td>\n",
       "    </tr>\n",
       "    <tr>\n",
       "      <th>9</th>\n",
       "      <td>OceanLab</td>\n",
       "      <td>1.0</td>\n",
       "    </tr>\n",
       "  </tbody>\n",
       "</table>\n",
       "</div>"
      ],
      "text/plain": [
       "          artist  score\n",
       "0      The Clash    1.0\n",
       "1       Labrinth    1.0\n",
       "2      Peggy Gou    1.0\n",
       "3       Cappella    1.0\n",
       "4          Endel    1.0\n",
       "5            Otu    1.0\n",
       "6   Greg Puciato    1.0\n",
       "7    Fleet Foxes    1.0\n",
       "8  Merle Haggard    1.0\n",
       "9       OceanLab    1.0"
      ]
     },
     "execution_count": 70,
     "metadata": {},
     "output_type": "execute_result"
    }
   ],
   "source": [
    "print(f'Artists similar to {artistname}')\n",
    "similar_artists = pd.DataFrame({\"artist\": musicbrainz_artist.loc[artists[ids]]['name'].tolist(), \"score\": scores})\n",
    "similar_artists.reset_index(drop=True, inplace=True)\n",
    "similar_artists"
   ]
  },
  {
   "cell_type": "code",
   "execution_count": null,
   "id": "7394df26-aea3-4651-93f3-ccb7d57a9d44",
   "metadata": {},
   "outputs": [],
   "source": []
  }
 ],
 "metadata": {
  "kernelspec": {
   "display_name": "Python 3 (ipykernel)",
   "language": "python",
   "name": "python3"
  },
  "language_info": {
   "codemirror_mode": {
    "name": "ipython",
    "version": 3
   },
   "file_extension": ".py",
   "mimetype": "text/x-python",
   "name": "python",
   "nbconvert_exporter": "python",
   "pygments_lexer": "ipython3",
   "version": "3.10.16"
  }
 },
 "nbformat": 4,
 "nbformat_minor": 5
}
