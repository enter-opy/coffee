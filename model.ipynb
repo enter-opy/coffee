{
 "cells": [
  {
   "cell_type": "code",
   "execution_count": 4,
   "id": "b73a8643-7fc3-4a85-b51e-bcf90a393553",
   "metadata": {},
   "outputs": [],
   "source": [
    "import pandas as pd\n",
    "import listenbrainz_model as lb\n",
    "import os"
   ]
  },
  {
   "cell_type": "code",
   "execution_count": 6,
   "id": "01d6ba9a-5cb6-4bd9-937a-75d5b312fd4e",
   "metadata": {},
   "outputs": [],
   "source": [
    "working_root = \"amplab-working\""
   ]
  },
  {
   "cell_type": "code",
   "execution_count": 8,
   "id": "d5104787-2c47-4ea7-ae52-e695ce3a0683",
   "metadata": {},
   "outputs": [],
   "source": [
    "matrix_artists, matrix_users, plays = lb.load_data_matrix(os.path.join(working_root, \"userid-artist-counts.csv\"))"
   ]
  },
  {
   "cell_type": "code",
   "execution_count": 9,
   "id": "162db765-5b4e-45ae-89a8-fbfe50fc3c2b",
   "metadata": {},
   "outputs": [
    {
     "name": "stderr",
     "output_type": "stream",
     "text": [
      "100%|███████████████████████████████████████████████████████████████████████████████████████████████████████████████████████████████████████████████████████| 15/15 [00:02<00:00,  5.51it/s]\n"
     ]
    }
   ],
   "source": [
    "model = lb.build_model(plays)"
   ]
  },
  {
   "cell_type": "code",
   "execution_count": 10,
   "id": "82d72981-539e-4920-88e3-aed9af0e9f4b",
   "metadata": {},
   "outputs": [],
   "source": [
    "ids, scores = model.similar_items(lb.artist_index(matrix_artists, \"8f92558c-2baa-4758-8c38-615519e9deda\"), N=20)"
   ]
  },
  {
   "cell_type": "code",
   "execution_count": 11,
   "id": "0e2d9a46-1673-4799-9b73-04d44f5eed5a",
   "metadata": {},
   "outputs": [
    {
     "data": {
      "text/html": [
       "<div>\n",
       "<style scoped>\n",
       "    .dataframe tbody tr th:only-of-type {\n",
       "        vertical-align: middle;\n",
       "    }\n",
       "\n",
       "    .dataframe tbody tr th {\n",
       "        vertical-align: top;\n",
       "    }\n",
       "\n",
       "    .dataframe thead th {\n",
       "        text-align: right;\n",
       "    }\n",
       "</style>\n",
       "<table border=\"1\" class=\"dataframe\">\n",
       "  <thead>\n",
       "    <tr style=\"text-align: right;\">\n",
       "      <th></th>\n",
       "      <th>artist</th>\n",
       "      <th>score</th>\n",
       "    </tr>\n",
       "  </thead>\n",
       "  <tbody>\n",
       "    <tr>\n",
       "      <th>0</th>\n",
       "      <td>8f92558c-2baa-4758-8c38-615519e9deda</td>\n",
       "      <td>1.000000</td>\n",
       "    </tr>\n",
       "    <tr>\n",
       "      <th>1</th>\n",
       "      <td>e5db18cb-4b1f-496d-a308-548b611090d3</td>\n",
       "      <td>0.826580</td>\n",
       "    </tr>\n",
       "    <tr>\n",
       "      <th>2</th>\n",
       "      <td>d6ed7887-a401-47a8-893c-34b967444d26</td>\n",
       "      <td>0.812328</td>\n",
       "    </tr>\n",
       "    <tr>\n",
       "      <th>3</th>\n",
       "      <td>678d88b2-87b0-403b-b63d-5da7465aecc3</td>\n",
       "      <td>0.765288</td>\n",
       "    </tr>\n",
       "    <tr>\n",
       "      <th>4</th>\n",
       "      <td>17b53d9f-5c63-4a09-a593-dde4608e0db9</td>\n",
       "      <td>0.750701</td>\n",
       "    </tr>\n",
       "    <tr>\n",
       "      <th>5</th>\n",
       "      <td>9fdaa16b-a6c4-4831-b87c-bc9ca8ce7eaa</td>\n",
       "      <td>0.748951</td>\n",
       "    </tr>\n",
       "    <tr>\n",
       "      <th>6</th>\n",
       "      <td>b071f9fa-14b0-4217-8e97-eb41da73f598</td>\n",
       "      <td>0.746181</td>\n",
       "    </tr>\n",
       "    <tr>\n",
       "      <th>7</th>\n",
       "      <td>33b3c323-77c2-417c-a5b4-af7e6a111cc9</td>\n",
       "      <td>0.720404</td>\n",
       "    </tr>\n",
       "    <tr>\n",
       "      <th>8</th>\n",
       "      <td>f37b3f31-b1f8-4b88-8cb5-b34f709b17d7</td>\n",
       "      <td>0.719584</td>\n",
       "    </tr>\n",
       "    <tr>\n",
       "      <th>9</th>\n",
       "      <td>9efff43b-3b29-4082-824e-bc82f646f93d</td>\n",
       "      <td>0.714434</td>\n",
       "    </tr>\n",
       "    <tr>\n",
       "      <th>10</th>\n",
       "      <td>5441c29d-3602-4898-b1a1-b77fa23b8e50</td>\n",
       "      <td>0.712928</td>\n",
       "    </tr>\n",
       "    <tr>\n",
       "      <th>11</th>\n",
       "      <td>9e0e2b01-41db-4008-bd8b-988977d6019a</td>\n",
       "      <td>0.711103</td>\n",
       "    </tr>\n",
       "    <tr>\n",
       "      <th>12</th>\n",
       "      <td>109958eb-a335-4c5e-907e-597ff4c6af46</td>\n",
       "      <td>0.707014</td>\n",
       "    </tr>\n",
       "    <tr>\n",
       "      <th>13</th>\n",
       "      <td>592a3b6d-c42b-4567-99c9-ecf63bd66499</td>\n",
       "      <td>0.705876</td>\n",
       "    </tr>\n",
       "    <tr>\n",
       "      <th>14</th>\n",
       "      <td>4d5447d7-c61c-4120-ba1b-d7f471d385b9</td>\n",
       "      <td>0.701662</td>\n",
       "    </tr>\n",
       "    <tr>\n",
       "      <th>15</th>\n",
       "      <td>72c536dc-7137-4477-a521-567eeb840fa8</td>\n",
       "      <td>0.692891</td>\n",
       "    </tr>\n",
       "    <tr>\n",
       "      <th>16</th>\n",
       "      <td>0383dadf-2a4e-4d10-a46a-e9e041da8eb3</td>\n",
       "      <td>0.691319</td>\n",
       "    </tr>\n",
       "    <tr>\n",
       "      <th>17</th>\n",
       "      <td>191de76f-a224-445d-b041-54df16d65bf7</td>\n",
       "      <td>0.687512</td>\n",
       "    </tr>\n",
       "    <tr>\n",
       "      <th>18</th>\n",
       "      <td>b10bbbfc-cf9e-42e0-be17-e2c3e1d2600d</td>\n",
       "      <td>0.686729</td>\n",
       "    </tr>\n",
       "    <tr>\n",
       "      <th>19</th>\n",
       "      <td>d922d727-240a-4432-9a88-05a7cf9bc403</td>\n",
       "      <td>0.684832</td>\n",
       "    </tr>\n",
       "  </tbody>\n",
       "</table>\n",
       "</div>"
      ],
      "text/plain": [
       "                                  artist     score\n",
       "0   8f92558c-2baa-4758-8c38-615519e9deda  1.000000\n",
       "1   e5db18cb-4b1f-496d-a308-548b611090d3  0.826580\n",
       "2   d6ed7887-a401-47a8-893c-34b967444d26  0.812328\n",
       "3   678d88b2-87b0-403b-b63d-5da7465aecc3  0.765288\n",
       "4   17b53d9f-5c63-4a09-a593-dde4608e0db9  0.750701\n",
       "5   9fdaa16b-a6c4-4831-b87c-bc9ca8ce7eaa  0.748951\n",
       "6   b071f9fa-14b0-4217-8e97-eb41da73f598  0.746181\n",
       "7   33b3c323-77c2-417c-a5b4-af7e6a111cc9  0.720404\n",
       "8   f37b3f31-b1f8-4b88-8cb5-b34f709b17d7  0.719584\n",
       "9   9efff43b-3b29-4082-824e-bc82f646f93d  0.714434\n",
       "10  5441c29d-3602-4898-b1a1-b77fa23b8e50  0.712928\n",
       "11  9e0e2b01-41db-4008-bd8b-988977d6019a  0.711103\n",
       "12  109958eb-a335-4c5e-907e-597ff4c6af46  0.707014\n",
       "13  592a3b6d-c42b-4567-99c9-ecf63bd66499  0.705876\n",
       "14  4d5447d7-c61c-4120-ba1b-d7f471d385b9  0.701662\n",
       "15  72c536dc-7137-4477-a521-567eeb840fa8  0.692891\n",
       "16  0383dadf-2a4e-4d10-a46a-e9e041da8eb3  0.691319\n",
       "17  191de76f-a224-445d-b041-54df16d65bf7  0.687512\n",
       "18  b10bbbfc-cf9e-42e0-be17-e2c3e1d2600d  0.686729\n",
       "19  d922d727-240a-4432-9a88-05a7cf9bc403  0.684832"
      ]
     },
     "execution_count": 11,
     "metadata": {},
     "output_type": "execute_result"
    }
   ],
   "source": [
    "pd.DataFrame({\"artist\": matrix_artists[ids], \"score\": scores})"
   ]
  },
  {
   "cell_type": "code",
   "execution_count": null,
   "id": "dedc7666-a3ea-4e92-81da-534b4fbdad0f",
   "metadata": {},
   "outputs": [],
   "source": []
  }
 ],
 "metadata": {
  "kernelspec": {
   "display_name": "Python 3 (ipykernel)",
   "language": "python",
   "name": "python3"
  },
  "language_info": {
   "codemirror_mode": {
    "name": "ipython",
    "version": 3
   },
   "file_extension": ".py",
   "mimetype": "text/x-python",
   "name": "python",
   "nbconvert_exporter": "python",
   "pygments_lexer": "ipython3",
   "version": "3.10.16"
  }
 },
 "nbformat": 4,
 "nbformat_minor": 5
}
