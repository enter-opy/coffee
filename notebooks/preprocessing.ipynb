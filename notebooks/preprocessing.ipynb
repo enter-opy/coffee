{
 "cells": [
  {
   "cell_type": "markdown",
   "id": "5b61ae82-51da-416a-9938-20d315369877",
   "metadata": {},
   "source": [
    "# Preprocessing"
   ]
  },
  {
   "cell_type": "code",
   "execution_count": 1,
   "id": "49fa896d-3571-4ab9-b60a-b5fc694edb63",
   "metadata": {},
   "outputs": [],
   "source": [
    "import json\n",
    "import csv\n",
    "import os\n",
    "import shutil\n",
    "from tqdm import tqdm\n",
    "import pandas as pd"
   ]
  },
  {
   "cell_type": "code",
   "execution_count": 5,
   "id": "84912674-ca87-4c50-abd4-d14da9325ae5",
   "metadata": {},
   "outputs": [],
   "source": [
    "data_root = \"../materials\"\n",
    "working_root = \"../working\"\n",
    "scratch_root = \"../scratch\"\n",
    "\n",
    "os.makedirs(working_root, exist_ok=True)\n",
    "os.makedirs(scratch_root, exist_ok=True)"
   ]
  },
  {
   "cell_type": "markdown",
   "id": "643db23f-4198-4760-8b2f-82f17fd9dddd",
   "metadata": {},
   "source": [
    "**Unzip `x.listens.zst`**"
   ]
  },
  {
   "cell_type": "code",
   "execution_count": null,
   "id": "01292e4a-ec64-4ff2-86bd-74a056ee68a2",
   "metadata": {},
   "outputs": [],
   "source": [
    "for i in range(12):\n",
    "    src = os.path.join(data_root, f\"{i + 1}.listens.zst\")\n",
    "    \n",
    "    scratch_listen_1_compressed = shutil.copy2(src, scratch_root)\n",
    "    !unzstd {scratch_listen_1_compressed}"
   ]
  },
  {
   "cell_type": "markdown",
   "id": "9d5fc858-9fd3-40e4-9a3f-e1ce4a0c3552",
   "metadata": {},
   "source": [
    "## *User ID - MessyBrainz ID*\n",
    "\n",
    "1. Collect `user_id` - `recording_msid` mappings from ListenBrainz dataset\n",
    "2. Save to `userid-msid.csv`"
   ]
  },
  {
   "cell_type": "markdown",
   "id": "5614264a-6b5f-498c-8123-b9ca06b741a8",
   "metadata": {},
   "source": [
    "**Write `userid-msid.csv`**"
   ]
  },
  {
   "cell_type": "code",
   "execution_count": 3,
   "id": "874f75ff-0054-41e9-82cc-3c3b465f6fa1",
   "metadata": {},
   "outputs": [
    {
     "name": "stderr",
     "output_type": "stream",
     "text": [
      "7645939it [02:18, 55392.84it/s]\n",
      "7342694it [02:12, 55231.99it/s]\n",
      "7423517it [02:13, 55776.04it/s]\n"
     ]
    }
   ],
   "source": [
    "data = []\n",
    "num_months = 3\n",
    "\n",
    "for i in reversed(range(12)):\n",
    "    with open(os.path.join(scratch_root, f\"{i + 1}.listens\")) as fp:\n",
    "        for line in tqdm(fp):\n",
    "            j = json.loads(line)\n",
    "            user_id = j['user_id']\n",
    "            recording_msid = j['recording_msid']\n",
    "            data.append([user_id, recording_msid])\n",
    "\n",
    "    if i <= 12 - num_months:\n",
    "        break\n",
    "\n",
    "with open(os.path.join(working_root, \"userid-msid.csv\"), \"w\", newline='', encoding='utf-8') as fp:\n",
    "    w = csv.writer(fp)\n",
    "    w.writerows(data)"
   ]
  },
  {
   "cell_type": "code",
   "execution_count": 2,
   "id": "47724823-74e1-4d97-8ac8-491c70a14369",
   "metadata": {},
   "outputs": [],
   "source": [
    "json = None"
   ]
  },
  {
   "cell_type": "markdown",
   "id": "89677f63-0282-4e8c-93bb-d61cc56a3dc4",
   "metadata": {},
   "source": [
    "**Read `userid-msid.csv`**"
   ]
  },
  {
   "cell_type": "code",
   "execution_count": 4,
   "id": "d020e7a0-0b22-4dac-9c34-b3ef0b243583",
   "metadata": {},
   "outputs": [
    {
     "data": {
      "text/html": [
       "<div>\n",
       "<style scoped>\n",
       "    .dataframe tbody tr th:only-of-type {\n",
       "        vertical-align: middle;\n",
       "    }\n",
       "\n",
       "    .dataframe tbody tr th {\n",
       "        vertical-align: top;\n",
       "    }\n",
       "\n",
       "    .dataframe thead th {\n",
       "        text-align: right;\n",
       "    }\n",
       "</style>\n",
       "<table border=\"1\" class=\"dataframe\">\n",
       "  <thead>\n",
       "    <tr style=\"text-align: right;\">\n",
       "      <th></th>\n",
       "      <th>userid</th>\n",
       "      <th>msid</th>\n",
       "    </tr>\n",
       "  </thead>\n",
       "  <tbody>\n",
       "    <tr>\n",
       "      <th>0</th>\n",
       "      <td>21562</td>\n",
       "      <td>5371ebac-540e-4962-945f-cd583a81ae1f</td>\n",
       "    </tr>\n",
       "    <tr>\n",
       "      <th>1</th>\n",
       "      <td>30309</td>\n",
       "      <td>af3d7151-5bae-4c95-a398-e10bccc4220d</td>\n",
       "    </tr>\n",
       "    <tr>\n",
       "      <th>2</th>\n",
       "      <td>36460</td>\n",
       "      <td>0e97eba4-8776-4e1f-8573-025a82973d54</td>\n",
       "    </tr>\n",
       "    <tr>\n",
       "      <th>3</th>\n",
       "      <td>33714</td>\n",
       "      <td>16b99e42-c034-42ee-85c5-7fd0ba2b2c2d</td>\n",
       "    </tr>\n",
       "    <tr>\n",
       "      <th>4</th>\n",
       "      <td>19877</td>\n",
       "      <td>9bed3aaf-9fed-429e-8975-78b22603ad82</td>\n",
       "    </tr>\n",
       "  </tbody>\n",
       "</table>\n",
       "</div>"
      ],
      "text/plain": [
       "   userid                                  msid\n",
       "0   21562  5371ebac-540e-4962-945f-cd583a81ae1f\n",
       "1   30309  af3d7151-5bae-4c95-a398-e10bccc4220d\n",
       "2   36460  0e97eba4-8776-4e1f-8573-025a82973d54\n",
       "3   33714  16b99e42-c034-42ee-85c5-7fd0ba2b2c2d\n",
       "4   19877  9bed3aaf-9fed-429e-8975-78b22603ad82"
      ]
     },
     "execution_count": 4,
     "metadata": {},
     "output_type": "execute_result"
    }
   ],
   "source": [
    "data = pd.read_csv(os.path.join(working_root, \"userid-msid.csv\"), header=None)\n",
    "data.columns = [\"userid\", \"msid\"]\n",
    "data.head()"
   ]
  },
  {
   "cell_type": "code",
   "execution_count": 5,
   "id": "052cdc0f-5d04-403b-a869-b4181e4d0b40",
   "metadata": {},
   "outputs": [
    {
     "data": {
      "text/plain": [
       "userid    22412150.0\n",
       "Name: count, dtype: float64"
      ]
     },
     "execution_count": 5,
     "metadata": {},
     "output_type": "execute_result"
    }
   ],
   "source": [
    "data.describe().loc['count']"
   ]
  },
  {
   "cell_type": "markdown",
   "id": "e35f32be-a540-4a0f-ab53-b9d9ae98e1c6",
   "metadata": {},
   "source": [
    "## Unique *MessyBrainz ID* mappings\n",
    "\n",
    "1. Remove duplicates from `listenbrainz_msid_mapping.csv`\n",
    "2. Save to `small_msid_mapping.csv`"
   ]
  },
  {
   "cell_type": "markdown",
   "id": "6e7bdc58-b311-42c9-a6df-422fd4d6f5c4",
   "metadata": {},
   "source": [
    "**Unzip `listenbrainz_msid_mapping.csv.zst`**"
   ]
  },
  {
   "cell_type": "code",
   "execution_count": null,
   "id": "b32395b8-a9ec-4c0b-8221-36d7dcf308b7",
   "metadata": {},
   "outputs": [],
   "source": [
    "src = os.path.join(data_root, \"listenbrainz_msid_mapping.csv.zst\")\n",
    "listenbrainz_msid_mapping_fn = shutil.copy2(src, scratch_root)\n",
    "!unzstd {listenbrainz_msid_mapping_fn}"
   ]
  },
  {
   "cell_type": "code",
   "execution_count": 7,
   "id": "cb77cb73-2de7-4aa5-a63a-6c7733eb98f6",
   "metadata": {},
   "outputs": [
    {
     "name": "stdout",
     "output_type": "stream",
     "text": [
      "Unique msids: 6300126\n"
     ]
    }
   ],
   "source": [
    "unique_msids = set(data['msid'])\n",
    "print(f\"Unique msids: {len(unique_msids)}\")"
   ]
  },
  {
   "cell_type": "markdown",
   "id": "a3f9802c-6b4a-4c35-a4d0-79b9ebe5ffe7",
   "metadata": {},
   "source": [
    "**Write `small_msid_mapping.csv`**"
   ]
  },
  {
   "cell_type": "code",
   "execution_count": 8,
   "id": "363548b9-0c87-4473-ad9c-9483db380dbe",
   "metadata": {},
   "outputs": [],
   "source": [
    "with open(os.path.join(scratch_root, \"listenbrainz_msid_mapping.csv\")) as r_fp, open(os.path.join(scratch_root, \"small_msid_mapping.csv\"), \"w\") as w_fp:\n",
    "    r = csv.reader(r_fp)\n",
    "    w = csv.writer(w_fp)\n",
    "    header = next(r)\n",
    "    w.writerow(header)\n",
    "    for line in r:\n",
    "        if line[0] in unique_msids and (line[2] == \"exact_match\" or line[2] == \"high_quality\"):\n",
    "            w.writerow(line)\n",
    "\n",
    "unique_msids = None"
   ]
  },
  {
   "cell_type": "code",
   "execution_count": 3,
   "id": "7c4f50e5-9a27-44a3-adcd-6b0eb1705a96",
   "metadata": {},
   "outputs": [],
   "source": [
    "csv = None"
   ]
  },
  {
   "cell_type": "markdown",
   "id": "fb3c280f-107c-4499-812a-7e43c8d407d0",
   "metadata": {},
   "source": [
    "**Read `small_msid_mapping.csv`**"
   ]
  },
  {
   "cell_type": "code",
   "execution_count": 7,
   "id": "27b55f60-fd87-45bf-8e55-709d54762ff1",
   "metadata": {},
   "outputs": [
    {
     "data": {
      "text/html": [
       "<div>\n",
       "<style scoped>\n",
       "    .dataframe tbody tr th:only-of-type {\n",
       "        vertical-align: middle;\n",
       "    }\n",
       "\n",
       "    .dataframe tbody tr th {\n",
       "        vertical-align: top;\n",
       "    }\n",
       "\n",
       "    .dataframe thead th {\n",
       "        text-align: right;\n",
       "    }\n",
       "</style>\n",
       "<table border=\"1\" class=\"dataframe\">\n",
       "  <thead>\n",
       "    <tr style=\"text-align: right;\">\n",
       "      <th></th>\n",
       "      <th>recording_mbid</th>\n",
       "    </tr>\n",
       "    <tr>\n",
       "      <th>recording_msid</th>\n",
       "      <th></th>\n",
       "    </tr>\n",
       "  </thead>\n",
       "  <tbody>\n",
       "    <tr>\n",
       "      <th>61612055-12bd-4225-8f11-b8036021d72a</th>\n",
       "      <td>66a08ebb-1d9c-4434-bd23-806dda6d2a8d</td>\n",
       "    </tr>\n",
       "    <tr>\n",
       "      <th>881427b4-cfa5-4223-8fa3-288aa944525c</th>\n",
       "      <td>43a21737-0462-423d-9105-c5f63d67b5b0</td>\n",
       "    </tr>\n",
       "    <tr>\n",
       "      <th>97c45bd5-d372-4502-add8-a8daba5e4c6e</th>\n",
       "      <td>834b5aa5-8ef0-465d-94d4-026c099d6e76</td>\n",
       "    </tr>\n",
       "    <tr>\n",
       "      <th>fb988713-ad8d-4a59-be17-ba04b0a1fcc0</th>\n",
       "      <td>f03e2d04-c97e-4173-a612-daa17bd3f552</td>\n",
       "    </tr>\n",
       "    <tr>\n",
       "      <th>8c3197d8-8965-423f-8fd7-f847a665c6d3</th>\n",
       "      <td>fc9bcf57-db4b-4d9e-9006-87576b9def0b</td>\n",
       "    </tr>\n",
       "  </tbody>\n",
       "</table>\n",
       "</div>"
      ],
      "text/plain": [
       "                                                            recording_mbid\n",
       "recording_msid                                                            \n",
       "61612055-12bd-4225-8f11-b8036021d72a  66a08ebb-1d9c-4434-bd23-806dda6d2a8d\n",
       "881427b4-cfa5-4223-8fa3-288aa944525c  43a21737-0462-423d-9105-c5f63d67b5b0\n",
       "97c45bd5-d372-4502-add8-a8daba5e4c6e  834b5aa5-8ef0-465d-94d4-026c099d6e76\n",
       "fb988713-ad8d-4a59-be17-ba04b0a1fcc0  f03e2d04-c97e-4173-a612-daa17bd3f552\n",
       "8c3197d8-8965-423f-8fd7-f847a665c6d3  fc9bcf57-db4b-4d9e-9006-87576b9def0b"
      ]
     },
     "execution_count": 7,
     "metadata": {},
     "output_type": "execute_result"
    }
   ],
   "source": [
    "smallmapping = pd.read_csv(os.path.join(scratch_root, \"small_msid_mapping.csv\"))\n",
    "smallmapping = smallmapping.drop(\"match_type\", axis=1)\n",
    "smallmapping.set_index(\"recording_msid\", inplace=True)\n",
    "smallmapping.head()"
   ]
  },
  {
   "cell_type": "markdown",
   "id": "d33391e7-0cfd-46ac-8a12-aa936b560e40",
   "metadata": {},
   "source": [
    "## Convert *User ID - MessyBrainz ID* into *User ID - MusicBrainz Recording ID*"
   ]
  },
  {
   "cell_type": "code",
   "execution_count": 8,
   "id": "1ba4be56-d995-4e75-b5da-4c00b2400ade",
   "metadata": {},
   "outputs": [
    {
     "name": "stderr",
     "output_type": "stream",
     "text": [
      "22412150it [17:40, 21124.50it/s]\n"
     ]
    },
    {
     "data": {
      "text/html": [
       "<div>\n",
       "<style scoped>\n",
       "    .dataframe tbody tr th:only-of-type {\n",
       "        vertical-align: middle;\n",
       "    }\n",
       "\n",
       "    .dataframe tbody tr th {\n",
       "        vertical-align: top;\n",
       "    }\n",
       "\n",
       "    .dataframe thead th {\n",
       "        text-align: right;\n",
       "    }\n",
       "</style>\n",
       "<table border=\"1\" class=\"dataframe\">\n",
       "  <thead>\n",
       "    <tr style=\"text-align: right;\">\n",
       "      <th></th>\n",
       "      <th>userid</th>\n",
       "      <th>mbid</th>\n",
       "    </tr>\n",
       "  </thead>\n",
       "  <tbody>\n",
       "    <tr>\n",
       "      <th>0</th>\n",
       "      <td>21562</td>\n",
       "      <td>9c047e87-039a-43a4-9994-34940477423c</td>\n",
       "    </tr>\n",
       "    <tr>\n",
       "      <th>1</th>\n",
       "      <td>30309</td>\n",
       "      <td>bf4b404c-1a90-4df0-b8e7-291d54efd62e</td>\n",
       "    </tr>\n",
       "    <tr>\n",
       "      <th>3</th>\n",
       "      <td>33714</td>\n",
       "      <td>1712fd13-69b1-47bb-8eba-97211153c061</td>\n",
       "    </tr>\n",
       "    <tr>\n",
       "      <th>4</th>\n",
       "      <td>19877</td>\n",
       "      <td>873557c7-114d-4ec2-93a4-68a08c62586e</td>\n",
       "    </tr>\n",
       "    <tr>\n",
       "      <th>5</th>\n",
       "      <td>32780</td>\n",
       "      <td>f2d73d9b-383c-4dd1-9d79-3935bbf8d4ac</td>\n",
       "    </tr>\n",
       "  </tbody>\n",
       "</table>\n",
       "</div>"
      ],
      "text/plain": [
       "   userid                                  mbid\n",
       "0   21562  9c047e87-039a-43a4-9994-34940477423c\n",
       "1   30309  bf4b404c-1a90-4df0-b8e7-291d54efd62e\n",
       "3   33714  1712fd13-69b1-47bb-8eba-97211153c061\n",
       "4   19877  873557c7-114d-4ec2-93a4-68a08c62586e\n",
       "5   32780  f2d73d9b-383c-4dd1-9d79-3935bbf8d4ac"
      ]
     },
     "execution_count": 8,
     "metadata": {},
     "output_type": "execute_result"
    }
   ],
   "source": [
    "recording_mbids = []\n",
    "for index, row in tqdm(data.iterrows()):\n",
    "    if row[\"msid\"] in smallmapping.index:\n",
    "        recording_mbid = smallmapping.loc[row[\"msid\"]][\"recording_mbid\"]\n",
    "    else:\n",
    "        recording_mbid = None\n",
    "    recording_mbids.append(recording_mbid)\n",
    "\n",
    "smallmapping = None\n",
    "data[\"mbid\"] = recording_mbids\n",
    "recording_mbids = None\n",
    "data = data.drop(\"msid\", axis=1)\n",
    "data = data.dropna(subset=[\"mbid\"])\n",
    "data.head()"
   ]
  },
  {
   "cell_type": "code",
   "execution_count": 9,
   "id": "5b239712-78c1-45d8-8194-f1eb43541994",
   "metadata": {},
   "outputs": [
    {
     "data": {
      "text/plain": [
       "userid    15655861.0\n",
       "Name: count, dtype: float64"
      ]
     },
     "execution_count": 9,
     "metadata": {},
     "output_type": "execute_result"
    }
   ],
   "source": [
    "data.describe().loc['count']"
   ]
  },
  {
   "cell_type": "markdown",
   "id": "433c9845-544f-4590-a082-b2394b305ce9",
   "metadata": {},
   "source": [
    "## Find *canonical IDs*"
   ]
  },
  {
   "cell_type": "markdown",
   "id": "8aa41cad-94d5-436a-bd20-428e736a414f",
   "metadata": {},
   "source": [
    "**Unzip `canonical_recording_redirect.csv`**"
   ]
  },
  {
   "cell_type": "code",
   "execution_count": null,
   "id": "e2cdde7d-7786-426e-9a0a-9891e0247bbe",
   "metadata": {},
   "outputs": [],
   "source": [
    "src = os.path.join(data_root, \"canonical_recording_redirect.csv.zst\")\n",
    "cannonical_msid_mapping_fn = shutil.copy2(src, scratch_root)\n",
    "!unzstd {cannonical_msid_mapping_fn}"
   ]
  },
  {
   "cell_type": "markdown",
   "id": "77c8bd16-d98c-4773-9884-50e05f9ce059",
   "metadata": {},
   "source": [
    "**Read `canonical_recording_redirect.csv`**"
   ]
  },
  {
   "cell_type": "code",
   "execution_count": 10,
   "id": "839cc258-b328-4c79-9eb5-31361127e39d",
   "metadata": {},
   "outputs": [
    {
     "data": {
      "text/html": [
       "<div>\n",
       "<style scoped>\n",
       "    .dataframe tbody tr th:only-of-type {\n",
       "        vertical-align: middle;\n",
       "    }\n",
       "\n",
       "    .dataframe tbody tr th {\n",
       "        vertical-align: top;\n",
       "    }\n",
       "\n",
       "    .dataframe thead th {\n",
       "        text-align: right;\n",
       "    }\n",
       "</style>\n",
       "<table border=\"1\" class=\"dataframe\">\n",
       "  <thead>\n",
       "    <tr style=\"text-align: right;\">\n",
       "      <th></th>\n",
       "      <th>canonical_recording_mbid</th>\n",
       "    </tr>\n",
       "    <tr>\n",
       "      <th>recording_mbid</th>\n",
       "      <th></th>\n",
       "    </tr>\n",
       "  </thead>\n",
       "  <tbody>\n",
       "    <tr>\n",
       "      <th>f3f8a7b8-a376-450c-8139-934d2393d49a</th>\n",
       "      <td>ecb125d7-d23e-4d76-8282-745713563110</td>\n",
       "    </tr>\n",
       "    <tr>\n",
       "      <th>a20f4c73-1f7a-48e7-903b-a34721c13629</th>\n",
       "      <td>ecb125d7-d23e-4d76-8282-745713563110</td>\n",
       "    </tr>\n",
       "    <tr>\n",
       "      <th>17344c3d-d600-4bb8-ac2d-93cab18ced4e</th>\n",
       "      <td>ecb125d7-d23e-4d76-8282-745713563110</td>\n",
       "    </tr>\n",
       "    <tr>\n",
       "      <th>7bf54872-7e1b-450c-9af4-385bcba33b78</th>\n",
       "      <td>ecb125d7-d23e-4d76-8282-745713563110</td>\n",
       "    </tr>\n",
       "    <tr>\n",
       "      <th>910f5db3-9a25-44ba-8f07-9956123c8e00</th>\n",
       "      <td>ecb125d7-d23e-4d76-8282-745713563110</td>\n",
       "    </tr>\n",
       "  </tbody>\n",
       "</table>\n",
       "</div>"
      ],
      "text/plain": [
       "                                                  canonical_recording_mbid\n",
       "recording_mbid                                                            \n",
       "f3f8a7b8-a376-450c-8139-934d2393d49a  ecb125d7-d23e-4d76-8282-745713563110\n",
       "a20f4c73-1f7a-48e7-903b-a34721c13629  ecb125d7-d23e-4d76-8282-745713563110\n",
       "17344c3d-d600-4bb8-ac2d-93cab18ced4e  ecb125d7-d23e-4d76-8282-745713563110\n",
       "7bf54872-7e1b-450c-9af4-385bcba33b78  ecb125d7-d23e-4d76-8282-745713563110\n",
       "910f5db3-9a25-44ba-8f07-9956123c8e00  ecb125d7-d23e-4d76-8282-745713563110"
      ]
     },
     "execution_count": 10,
     "metadata": {},
     "output_type": "execute_result"
    }
   ],
   "source": [
    "cannonicalmapping = pd.read_csv(os.path.join(scratch_root, \"canonical_recording_redirect.csv\"))\n",
    "cannonicalmapping = cannonicalmapping.drop(\"canonical_release_mbid\", axis=1)\n",
    "cannonicalmapping.set_index(\"recording_mbid\", inplace=True)\n",
    "cannonicalmapping.head()"
   ]
  },
  {
   "cell_type": "markdown",
   "id": "24612bc0-d7f7-4b1c-9ae8-53480713f891",
   "metadata": {},
   "source": [
    "### Replace `recording_mbid` with `canonical_recording_redirect.csv`"
   ]
  },
  {
   "cell_type": "code",
   "execution_count": 11,
   "id": "356ddd8a-11a4-48cf-a889-70f73eb68b30",
   "metadata": {},
   "outputs": [
    {
     "name": "stderr",
     "output_type": "stream",
     "text": [
      "15655861it [08:44, 29832.04it/s]\n"
     ]
    },
    {
     "data": {
      "text/html": [
       "<div>\n",
       "<style scoped>\n",
       "    .dataframe tbody tr th:only-of-type {\n",
       "        vertical-align: middle;\n",
       "    }\n",
       "\n",
       "    .dataframe tbody tr th {\n",
       "        vertical-align: top;\n",
       "    }\n",
       "\n",
       "    .dataframe thead th {\n",
       "        text-align: right;\n",
       "    }\n",
       "</style>\n",
       "<table border=\"1\" class=\"dataframe\">\n",
       "  <thead>\n",
       "    <tr style=\"text-align: right;\">\n",
       "      <th></th>\n",
       "      <th>userid</th>\n",
       "      <th>canonical_recording_mbid</th>\n",
       "    </tr>\n",
       "  </thead>\n",
       "  <tbody>\n",
       "    <tr>\n",
       "      <th>0</th>\n",
       "      <td>21562</td>\n",
       "      <td>9c047e87-039a-43a4-9994-34940477423c</td>\n",
       "    </tr>\n",
       "    <tr>\n",
       "      <th>1</th>\n",
       "      <td>30309</td>\n",
       "      <td>bf4b404c-1a90-4df0-b8e7-291d54efd62e</td>\n",
       "    </tr>\n",
       "    <tr>\n",
       "      <th>3</th>\n",
       "      <td>33714</td>\n",
       "      <td>1712fd13-69b1-47bb-8eba-97211153c061</td>\n",
       "    </tr>\n",
       "    <tr>\n",
       "      <th>4</th>\n",
       "      <td>19877</td>\n",
       "      <td>873557c7-114d-4ec2-93a4-68a08c62586e</td>\n",
       "    </tr>\n",
       "    <tr>\n",
       "      <th>5</th>\n",
       "      <td>32780</td>\n",
       "      <td>f2d73d9b-383c-4dd1-9d79-3935bbf8d4ac</td>\n",
       "    </tr>\n",
       "  </tbody>\n",
       "</table>\n",
       "</div>"
      ],
      "text/plain": [
       "   userid              canonical_recording_mbid\n",
       "0   21562  9c047e87-039a-43a4-9994-34940477423c\n",
       "1   30309  bf4b404c-1a90-4df0-b8e7-291d54efd62e\n",
       "3   33714  1712fd13-69b1-47bb-8eba-97211153c061\n",
       "4   19877  873557c7-114d-4ec2-93a4-68a08c62586e\n",
       "5   32780  f2d73d9b-383c-4dd1-9d79-3935bbf8d4ac"
      ]
     },
     "execution_count": 11,
     "metadata": {},
     "output_type": "execute_result"
    }
   ],
   "source": [
    "canonical_recording_mbids = []\n",
    "\n",
    "for index, row in tqdm(data.iterrows()):\n",
    "    if row[\"mbid\"] in cannonicalmapping.index:\n",
    "        canonical_recording_mbid = cannonicalmapping.loc[row[\"mbid\"]][\"canonical_recording_mbid\"]\n",
    "    else:\n",
    "        canonical_recording_mbid = row[\"mbid\"]\n",
    "    canonical_recording_mbids.append(canonical_recording_mbid)\n",
    "\n",
    "cannonicalmapping = None\n",
    "data[\"canonical_recording_mbid\"] = canonical_recording_mbids\n",
    "canonical_recording_mbids = None\n",
    "data = data.drop(\"mbid\", axis=1)\n",
    "data.head()"
   ]
  },
  {
   "cell_type": "markdown",
   "id": "5719bce3-b16d-41a5-bc3a-0e3f42f858f2",
   "metadata": {},
   "source": [
    "**Write and read `userid-canonical_recording_mbid.csv`**"
   ]
  },
  {
   "cell_type": "code",
   "execution_count": 12,
   "id": "90f555a9-d478-43ed-901e-44b13c7f43b6",
   "metadata": {},
   "outputs": [],
   "source": [
    "data.to_csv(os.path.join(working_root, \"userid-canonical_recording_mbid.csv\"), index=False)"
   ]
  },
  {
   "cell_type": "code",
   "execution_count": 6,
   "id": "5671eb40-d2b5-45c8-a6df-40ad5114b0b9",
   "metadata": {},
   "outputs": [
    {
     "data": {
      "text/html": [
       "<div>\n",
       "<style scoped>\n",
       "    .dataframe tbody tr th:only-of-type {\n",
       "        vertical-align: middle;\n",
       "    }\n",
       "\n",
       "    .dataframe tbody tr th {\n",
       "        vertical-align: top;\n",
       "    }\n",
       "\n",
       "    .dataframe thead th {\n",
       "        text-align: right;\n",
       "    }\n",
       "</style>\n",
       "<table border=\"1\" class=\"dataframe\">\n",
       "  <thead>\n",
       "    <tr style=\"text-align: right;\">\n",
       "      <th></th>\n",
       "      <th>userid</th>\n",
       "      <th>canonical_recording_mbid</th>\n",
       "    </tr>\n",
       "  </thead>\n",
       "  <tbody>\n",
       "    <tr>\n",
       "      <th>0</th>\n",
       "      <td>21562</td>\n",
       "      <td>9c047e87-039a-43a4-9994-34940477423c</td>\n",
       "    </tr>\n",
       "    <tr>\n",
       "      <th>1</th>\n",
       "      <td>30309</td>\n",
       "      <td>bf4b404c-1a90-4df0-b8e7-291d54efd62e</td>\n",
       "    </tr>\n",
       "    <tr>\n",
       "      <th>2</th>\n",
       "      <td>33714</td>\n",
       "      <td>1712fd13-69b1-47bb-8eba-97211153c061</td>\n",
       "    </tr>\n",
       "    <tr>\n",
       "      <th>3</th>\n",
       "      <td>19877</td>\n",
       "      <td>873557c7-114d-4ec2-93a4-68a08c62586e</td>\n",
       "    </tr>\n",
       "    <tr>\n",
       "      <th>4</th>\n",
       "      <td>32780</td>\n",
       "      <td>f2d73d9b-383c-4dd1-9d79-3935bbf8d4ac</td>\n",
       "    </tr>\n",
       "  </tbody>\n",
       "</table>\n",
       "</div>"
      ],
      "text/plain": [
       "   userid              canonical_recording_mbid\n",
       "0   21562  9c047e87-039a-43a4-9994-34940477423c\n",
       "1   30309  bf4b404c-1a90-4df0-b8e7-291d54efd62e\n",
       "2   33714  1712fd13-69b1-47bb-8eba-97211153c061\n",
       "3   19877  873557c7-114d-4ec2-93a4-68a08c62586e\n",
       "4   32780  f2d73d9b-383c-4dd1-9d79-3935bbf8d4ac"
      ]
     },
     "execution_count": 6,
     "metadata": {},
     "output_type": "execute_result"
    }
   ],
   "source": [
    "data = pd.read_csv(os.path.join(working_root, \"userid-canonical_recording_mbid.csv\"))\n",
    "data.head()"
   ]
  },
  {
   "cell_type": "code",
   "execution_count": 7,
   "id": "cb776780-c954-49f3-af35-4e6f754ac3f8",
   "metadata": {},
   "outputs": [
    {
     "data": {
      "text/plain": [
       "15655861.0"
      ]
     },
     "execution_count": 7,
     "metadata": {},
     "output_type": "execute_result"
    }
   ],
   "source": [
    "data.describe().loc['count']['userid']"
   ]
  },
  {
   "cell_type": "markdown",
   "id": "697aed1f-586e-45bc-a1e6-fd1198345f94",
   "metadata": {},
   "source": [
    "## Get *Artist MusicBrainz IDs*"
   ]
  },
  {
   "cell_type": "markdown",
   "id": "2bfc7189-805c-4875-a705-91be37cd7702",
   "metadata": {},
   "source": [
    "**Unzip `canonical_musicbrainz_data.csv.zst`**"
   ]
  },
  {
   "cell_type": "code",
   "execution_count": null,
   "id": "09842fae-7993-4fad-bd22-a3f4c1e69add",
   "metadata": {},
   "outputs": [],
   "source": [
    "src = os.path.join(data_root, \"canonical_musicbrainz_data.csv.zst\")\n",
    "cannonical_musicbrainz_data_fn = shutil.copy2(src, scratch_root)\n",
    "!unzstd {cannonical_musicbrainz_data_fn}"
   ]
  },
  {
   "cell_type": "code",
   "execution_count": 8,
   "id": "2655942d-ed0a-47ac-a291-b82fe5a10352",
   "metadata": {},
   "outputs": [],
   "source": [
    "shutil = None"
   ]
  },
  {
   "cell_type": "markdown",
   "id": "296b11df-a2e2-492b-911e-4321f1411b39",
   "metadata": {},
   "source": [
    "**Read `canonical_musicbrainz_data.csv.zst`**"
   ]
  },
  {
   "cell_type": "code",
   "execution_count": 9,
   "id": "82eea783-b114-49f2-95a8-36e09dec1c44",
   "metadata": {},
   "outputs": [
    {
     "data": {
      "text/html": [
       "<div>\n",
       "<style scoped>\n",
       "    .dataframe tbody tr th:only-of-type {\n",
       "        vertical-align: middle;\n",
       "    }\n",
       "\n",
       "    .dataframe tbody tr th {\n",
       "        vertical-align: top;\n",
       "    }\n",
       "\n",
       "    .dataframe thead th {\n",
       "        text-align: right;\n",
       "    }\n",
       "</style>\n",
       "<table border=\"1\" class=\"dataframe\">\n",
       "  <thead>\n",
       "    <tr style=\"text-align: right;\">\n",
       "      <th></th>\n",
       "      <th>artist_mbids</th>\n",
       "    </tr>\n",
       "    <tr>\n",
       "      <th>recording_mbid</th>\n",
       "      <th></th>\n",
       "    </tr>\n",
       "  </thead>\n",
       "  <tbody>\n",
       "    <tr>\n",
       "      <th>00b1a29d-ad9e-4b64-aed6-281f69f628ae</th>\n",
       "      <td>89ad4ac3-39f7-470e-963a-56509c546377</td>\n",
       "    </tr>\n",
       "    <tr>\n",
       "      <th>0aeea6af-3f85-45f3-88ed-8ce2bdedc4c6</th>\n",
       "      <td>89ad4ac3-39f7-470e-963a-56509c546377</td>\n",
       "    </tr>\n",
       "    <tr>\n",
       "      <th>24f32cf2-127e-45ca-ad19-91ed3ec87409</th>\n",
       "      <td>89ad4ac3-39f7-470e-963a-56509c546377</td>\n",
       "    </tr>\n",
       "    <tr>\n",
       "      <th>28e2548b-9c6f-47b7-8ab5-b1735499f291</th>\n",
       "      <td>89ad4ac3-39f7-470e-963a-56509c546377</td>\n",
       "    </tr>\n",
       "    <tr>\n",
       "      <th>390a9ab5-89c6-4e25-8ebf-f16a39c8c9cb</th>\n",
       "      <td>89ad4ac3-39f7-470e-963a-56509c546377</td>\n",
       "    </tr>\n",
       "  </tbody>\n",
       "</table>\n",
       "</div>"
      ],
      "text/plain": [
       "                                                              artist_mbids\n",
       "recording_mbid                                                            \n",
       "00b1a29d-ad9e-4b64-aed6-281f69f628ae  89ad4ac3-39f7-470e-963a-56509c546377\n",
       "0aeea6af-3f85-45f3-88ed-8ce2bdedc4c6  89ad4ac3-39f7-470e-963a-56509c546377\n",
       "24f32cf2-127e-45ca-ad19-91ed3ec87409  89ad4ac3-39f7-470e-963a-56509c546377\n",
       "28e2548b-9c6f-47b7-8ab5-b1735499f291  89ad4ac3-39f7-470e-963a-56509c546377\n",
       "390a9ab5-89c6-4e25-8ebf-f16a39c8c9cb  89ad4ac3-39f7-470e-963a-56509c546377"
      ]
     },
     "execution_count": 9,
     "metadata": {},
     "output_type": "execute_result"
    }
   ],
   "source": [
    "musicbrainzdata = pd.read_csv(os.path.join(scratch_root, \"canonical_musicbrainz_data.csv\"), usecols=[\"artist_mbids\", \"recording_mbid\"])\n",
    "musicbrainzdata.set_index(\"recording_mbid\", inplace=True)\n",
    "musicbrainzdata.head()"
   ]
  },
  {
   "cell_type": "code",
   "execution_count": 10,
   "id": "a02fe7b8-6d4b-4462-a284-aac30095b86e",
   "metadata": {},
   "outputs": [
    {
     "name": "stderr",
     "output_type": "stream",
     "text": [
      "15655861it [14:40, 17773.51it/s]\n"
     ]
    },
    {
     "data": {
      "text/html": [
       "<div>\n",
       "<style scoped>\n",
       "    .dataframe tbody tr th:only-of-type {\n",
       "        vertical-align: middle;\n",
       "    }\n",
       "\n",
       "    .dataframe tbody tr th {\n",
       "        vertical-align: top;\n",
       "    }\n",
       "\n",
       "    .dataframe thead th {\n",
       "        text-align: right;\n",
       "    }\n",
       "</style>\n",
       "<table border=\"1\" class=\"dataframe\">\n",
       "  <thead>\n",
       "    <tr style=\"text-align: right;\">\n",
       "      <th></th>\n",
       "      <th>userid</th>\n",
       "      <th>artist_mbids</th>\n",
       "    </tr>\n",
       "  </thead>\n",
       "  <tbody>\n",
       "    <tr>\n",
       "      <th>0</th>\n",
       "      <td>21562</td>\n",
       "      <td>3897cf7f-9aac-4eef-aacb-ca0accdee9a2</td>\n",
       "    </tr>\n",
       "    <tr>\n",
       "      <th>1</th>\n",
       "      <td>30309</td>\n",
       "      <td>82cbe859-5255-4bbd-bda3-7610a3f857dc</td>\n",
       "    </tr>\n",
       "    <tr>\n",
       "      <th>2</th>\n",
       "      <td>33714</td>\n",
       "      <td>fbd2a255-1d57-4d31-ac11-65b671c19958</td>\n",
       "    </tr>\n",
       "    <tr>\n",
       "      <th>3</th>\n",
       "      <td>19877</td>\n",
       "      <td>be465d4f-c28d-4ba1-94ab-ebaada7db8af</td>\n",
       "    </tr>\n",
       "    <tr>\n",
       "      <th>4</th>\n",
       "      <td>32780</td>\n",
       "      <td>5673fd69-6986-4678-8f1c-519880f9f89c</td>\n",
       "    </tr>\n",
       "  </tbody>\n",
       "</table>\n",
       "</div>"
      ],
      "text/plain": [
       "   userid                          artist_mbids\n",
       "0   21562  3897cf7f-9aac-4eef-aacb-ca0accdee9a2\n",
       "1   30309  82cbe859-5255-4bbd-bda3-7610a3f857dc\n",
       "2   33714  fbd2a255-1d57-4d31-ac11-65b671c19958\n",
       "3   19877  be465d4f-c28d-4ba1-94ab-ebaada7db8af\n",
       "4   32780  5673fd69-6986-4678-8f1c-519880f9f89c"
      ]
     },
     "execution_count": 10,
     "metadata": {},
     "output_type": "execute_result"
    }
   ],
   "source": [
    "artist_mbids = []\n",
    "\n",
    "for index, row in tqdm(data.iterrows()):\n",
    "    if row[\"canonical_recording_mbid\"] in musicbrainzdata.index:\n",
    "        artist_mbid = musicbrainzdata.loc[row[\"canonical_recording_mbid\"]][\"artist_mbids\"]\n",
    "        artist_mbid = artist_mbid.split(',')[0]\n",
    "    else :\n",
    "        artist_mbid = None\n",
    "        \n",
    "    artist_mbids.append(artist_mbid)\n",
    "\n",
    "musicbrainzdata = None\n",
    "data[\"artist_mbids\"] = artist_mbids\n",
    "artist_mbids = None\n",
    "data = data.drop(\"canonical_recording_mbid\", axis=1)\n",
    "data = data.dropna(subset=[\"artist_mbids\"])\n",
    "data.head()"
   ]
  },
  {
   "cell_type": "code",
   "execution_count": 11,
   "id": "7be49737-50cd-4104-9fab-df86274f6859",
   "metadata": {},
   "outputs": [],
   "source": [
    "tqdm = None"
   ]
  },
  {
   "cell_type": "code",
   "execution_count": 12,
   "id": "58764028-3884-42d0-839b-9ea251250dc2",
   "metadata": {},
   "outputs": [
    {
     "data": {
      "text/plain": [
       "userid    15495103.0\n",
       "Name: count, dtype: float64"
      ]
     },
     "execution_count": 12,
     "metadata": {},
     "output_type": "execute_result"
    }
   ],
   "source": [
    "data.describe().loc['count']"
   ]
  },
  {
   "cell_type": "markdown",
   "id": "8f2c1560-557f-476a-abf2-abc1ca12c5e1",
   "metadata": {},
   "source": [
    "## Get `User ID - Artist IDs` counts"
   ]
  },
  {
   "cell_type": "code",
   "execution_count": 13,
   "id": "6f5a6565-adb9-4d7e-8b2c-0802399dba18",
   "metadata": {},
   "outputs": [
    {
     "data": {
      "text/html": [
       "<div>\n",
       "<style scoped>\n",
       "    .dataframe tbody tr th:only-of-type {\n",
       "        vertical-align: middle;\n",
       "    }\n",
       "\n",
       "    .dataframe tbody tr th {\n",
       "        vertical-align: top;\n",
       "    }\n",
       "\n",
       "    .dataframe thead th {\n",
       "        text-align: right;\n",
       "    }\n",
       "</style>\n",
       "<table border=\"1\" class=\"dataframe\">\n",
       "  <thead>\n",
       "    <tr style=\"text-align: right;\">\n",
       "      <th></th>\n",
       "      <th>userid</th>\n",
       "      <th>artist_mbids</th>\n",
       "      <th>count</th>\n",
       "    </tr>\n",
       "  </thead>\n",
       "  <tbody>\n",
       "    <tr>\n",
       "      <th>0</th>\n",
       "      <td>1</td>\n",
       "      <td>000fc734-b7e1-4a01-92d1-f544261b43f5</td>\n",
       "      <td>1</td>\n",
       "    </tr>\n",
       "    <tr>\n",
       "      <th>1</th>\n",
       "      <td>1</td>\n",
       "      <td>00eb9d25-0465-49e3-8e7a-3eacbd9ebb0d</td>\n",
       "      <td>3</td>\n",
       "    </tr>\n",
       "    <tr>\n",
       "      <th>2</th>\n",
       "      <td>1</td>\n",
       "      <td>012b5f71-b079-48f1-892e-af645c6576cb</td>\n",
       "      <td>1</td>\n",
       "    </tr>\n",
       "    <tr>\n",
       "      <th>3</th>\n",
       "      <td>1</td>\n",
       "      <td>01ce0542-1e29-4ab6-bffe-ba0e2fb61ce8</td>\n",
       "      <td>2</td>\n",
       "    </tr>\n",
       "    <tr>\n",
       "      <th>4</th>\n",
       "      <td>1</td>\n",
       "      <td>0383dadf-2a4e-4d10-a46a-e9e041da8eb3</td>\n",
       "      <td>1</td>\n",
       "    </tr>\n",
       "  </tbody>\n",
       "</table>\n",
       "</div>"
      ],
      "text/plain": [
       "   userid                          artist_mbids  count\n",
       "0       1  000fc734-b7e1-4a01-92d1-f544261b43f5      1\n",
       "1       1  00eb9d25-0465-49e3-8e7a-3eacbd9ebb0d      3\n",
       "2       1  012b5f71-b079-48f1-892e-af645c6576cb      1\n",
       "3       1  01ce0542-1e29-4ab6-bffe-ba0e2fb61ce8      2\n",
       "4       1  0383dadf-2a4e-4d10-a46a-e9e041da8eb3      1"
      ]
     },
     "execution_count": 13,
     "metadata": {},
     "output_type": "execute_result"
    }
   ],
   "source": [
    "data = data.groupby([\"userid\", \"artist_mbids\"]).size().reset_index(name=\"count\")\n",
    "data.head()"
   ]
  },
  {
   "cell_type": "code",
   "execution_count": 14,
   "id": "69111ed9-d14d-43f7-9e8a-1d1d96bd65e7",
   "metadata": {},
   "outputs": [
    {
     "data": {
      "text/html": [
       "<div>\n",
       "<style scoped>\n",
       "    .dataframe tbody tr th:only-of-type {\n",
       "        vertical-align: middle;\n",
       "    }\n",
       "\n",
       "    .dataframe tbody tr th {\n",
       "        vertical-align: top;\n",
       "    }\n",
       "\n",
       "    .dataframe thead th {\n",
       "        text-align: right;\n",
       "    }\n",
       "</style>\n",
       "<table border=\"1\" class=\"dataframe\">\n",
       "  <thead>\n",
       "    <tr style=\"text-align: right;\">\n",
       "      <th></th>\n",
       "      <th>userid</th>\n",
       "      <th>artist_mbids</th>\n",
       "      <th>count</th>\n",
       "    </tr>\n",
       "  </thead>\n",
       "  <tbody>\n",
       "    <tr>\n",
       "      <th>2119270</th>\n",
       "      <td>39526</td>\n",
       "      <td>fabb37f8-eb2a-4cc1-a72a-b56935bbb72d</td>\n",
       "      <td>23</td>\n",
       "    </tr>\n",
       "    <tr>\n",
       "      <th>2119271</th>\n",
       "      <td>39526</td>\n",
       "      <td>fbcd7b29-455f-49e6-9c4f-8249d20a055e</td>\n",
       "      <td>23</td>\n",
       "    </tr>\n",
       "    <tr>\n",
       "      <th>2119272</th>\n",
       "      <td>39526</td>\n",
       "      <td>fd429857-5ace-4609-ae54-1502c3bdac11</td>\n",
       "      <td>10</td>\n",
       "    </tr>\n",
       "    <tr>\n",
       "      <th>2119273</th>\n",
       "      <td>39526</td>\n",
       "      <td>fd529c0d-4a5c-479d-bbb8-601cefe2b38b</td>\n",
       "      <td>7</td>\n",
       "    </tr>\n",
       "    <tr>\n",
       "      <th>2119274</th>\n",
       "      <td>39526</td>\n",
       "      <td>fe125f58-6c39-42fa-85c8-3eeddda5ad21</td>\n",
       "      <td>3</td>\n",
       "    </tr>\n",
       "  </tbody>\n",
       "</table>\n",
       "</div>"
      ],
      "text/plain": [
       "         userid                          artist_mbids  count\n",
       "2119270   39526  fabb37f8-eb2a-4cc1-a72a-b56935bbb72d     23\n",
       "2119271   39526  fbcd7b29-455f-49e6-9c4f-8249d20a055e     23\n",
       "2119272   39526  fd429857-5ace-4609-ae54-1502c3bdac11     10\n",
       "2119273   39526  fd529c0d-4a5c-479d-bbb8-601cefe2b38b      7\n",
       "2119274   39526  fe125f58-6c39-42fa-85c8-3eeddda5ad21      3"
      ]
     },
     "execution_count": 14,
     "metadata": {},
     "output_type": "execute_result"
    }
   ],
   "source": [
    "data.tail()"
   ]
  },
  {
   "cell_type": "code",
   "execution_count": 15,
   "id": "d0b26927-6086-4ca7-abe8-cce89f921a7a",
   "metadata": {},
   "outputs": [],
   "source": [
    "data.to_csv(os.path.join(working_root, \"userid-artist-counts.csv\"), index=False)"
   ]
  },
  {
   "cell_type": "code",
   "execution_count": 16,
   "id": "9f00a6de-f2e7-4cad-8fc7-af99b3efc0a7",
   "metadata": {},
   "outputs": [],
   "source": [
    "data = None"
   ]
  },
  {
   "cell_type": "code",
   "execution_count": null,
   "id": "0af2a442-f45a-460d-a40b-e3e56137859e",
   "metadata": {},
   "outputs": [],
   "source": []
  }
 ],
 "metadata": {
  "kernelspec": {
   "display_name": "Python 3 (ipykernel)",
   "language": "python",
   "name": "python3"
  },
  "language_info": {
   "codemirror_mode": {
    "name": "ipython",
    "version": 3
   },
   "file_extension": ".py",
   "mimetype": "text/x-python",
   "name": "python",
   "nbconvert_exporter": "python",
   "pygments_lexer": "ipython3",
   "version": "3.12.7"
  }
 },
 "nbformat": 4,
 "nbformat_minor": 5
}
