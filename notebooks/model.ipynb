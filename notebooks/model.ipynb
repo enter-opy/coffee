{
 "cells": [
  {
   "cell_type": "markdown",
   "id": "5023e6f6-aafc-4d8f-b1ee-849d759c115e",
   "metadata": {},
   "source": [
    "# Collaborative filtering model"
   ]
  },
  {
   "cell_type": "code",
   "execution_count": 1,
   "id": "b73a8643-7fc3-4a85-b51e-bcf90a393553",
   "metadata": {},
   "outputs": [
    {
     "name": "stderr",
     "output_type": "stream",
     "text": [
      "/home/vivek/anaconda3/envs/ess/lib/python3.10/site-packages/tqdm/auto.py:21: TqdmWarning: IProgress not found. Please update jupyter and ipywidgets. See https://ipywidgets.readthedocs.io/en/stable/user_install.html\n",
      "  from .autonotebook import tqdm as notebook_tqdm\n"
     ]
    }
   ],
   "source": [
    "import numpy as np\n",
    "import pandas as pd\n",
    "from scipy.sparse import coo_matrix\n",
    "from implicit.nearest_neighbours import bm25_weight\n",
    "from implicit.als import AlternatingLeastSquares\n",
    "import os"
   ]
  },
  {
   "cell_type": "code",
   "execution_count": 2,
   "id": "01d6ba9a-5cb6-4bd9-937a-75d5b312fd4e",
   "metadata": {},
   "outputs": [],
   "source": [
    "materials_root = \"../materials\"\n",
    "working_root = \"../working\""
   ]
  },
  {
   "cell_type": "markdown",
   "id": "bce65cb0-6370-480a-bda0-0fe4ba0b2e87",
   "metadata": {},
   "source": [
    "## Load data"
   ]
  },
  {
   "cell_type": "markdown",
   "id": "6ee15e0a-4f0c-4602-a5a3-e515d0190848",
   "metadata": {},
   "source": [
    "**Load `userid-artist-counts.csv`** for training the model."
   ]
  },
  {
   "cell_type": "code",
   "execution_count": 3,
   "id": "1f664bc3-528e-47e6-ba69-aaca6d126816",
   "metadata": {},
   "outputs": [
    {
     "data": {
      "text/html": [
       "<div>\n",
       "<style scoped>\n",
       "    .dataframe tbody tr th:only-of-type {\n",
       "        vertical-align: middle;\n",
       "    }\n",
       "\n",
       "    .dataframe tbody tr th {\n",
       "        vertical-align: top;\n",
       "    }\n",
       "\n",
       "    .dataframe thead th {\n",
       "        text-align: right;\n",
       "    }\n",
       "</style>\n",
       "<table border=\"1\" class=\"dataframe\">\n",
       "  <thead>\n",
       "    <tr style=\"text-align: right;\">\n",
       "      <th></th>\n",
       "      <th>userid</th>\n",
       "      <th>artist_mbids</th>\n",
       "      <th>count</th>\n",
       "    </tr>\n",
       "  </thead>\n",
       "  <tbody>\n",
       "    <tr>\n",
       "      <th>0</th>\n",
       "      <td>1</td>\n",
       "      <td>000fc734-b7e1-4a01-92d1-f544261b43f5</td>\n",
       "      <td>1</td>\n",
       "    </tr>\n",
       "    <tr>\n",
       "      <th>1</th>\n",
       "      <td>1</td>\n",
       "      <td>00eb9d25-0465-49e3-8e7a-3eacbd9ebb0d</td>\n",
       "      <td>3</td>\n",
       "    </tr>\n",
       "    <tr>\n",
       "      <th>2</th>\n",
       "      <td>1</td>\n",
       "      <td>012b5f71-b079-48f1-892e-af645c6576cb</td>\n",
       "      <td>1</td>\n",
       "    </tr>\n",
       "    <tr>\n",
       "      <th>3</th>\n",
       "      <td>1</td>\n",
       "      <td>01ce0542-1e29-4ab6-bffe-ba0e2fb61ce8</td>\n",
       "      <td>2</td>\n",
       "    </tr>\n",
       "    <tr>\n",
       "      <th>4</th>\n",
       "      <td>1</td>\n",
       "      <td>0383dadf-2a4e-4d10-a46a-e9e041da8eb3</td>\n",
       "      <td>1</td>\n",
       "    </tr>\n",
       "  </tbody>\n",
       "</table>\n",
       "</div>"
      ],
      "text/plain": [
       "   userid                          artist_mbids  count\n",
       "0       1  000fc734-b7e1-4a01-92d1-f544261b43f5      1\n",
       "1       1  00eb9d25-0465-49e3-8e7a-3eacbd9ebb0d      3\n",
       "2       1  012b5f71-b079-48f1-892e-af645c6576cb      1\n",
       "3       1  01ce0542-1e29-4ab6-bffe-ba0e2fb61ce8      2\n",
       "4       1  0383dadf-2a4e-4d10-a46a-e9e041da8eb3      1"
      ]
     },
     "execution_count": 3,
     "metadata": {},
     "output_type": "execute_result"
    }
   ],
   "source": [
    "data = pd.read_csv(os.path.join(working_root, \"userid-artist-counts.csv\"))\n",
    "data.head()"
   ]
  },
  {
   "cell_type": "markdown",
   "id": "adbe5a1b-536d-4127-b36b-4453958813b1",
   "metadata": {},
   "source": [
    "**Load `musicbrainz_artist.csv` for `artist_mbids` to `name` mapping.**"
   ]
  },
  {
   "cell_type": "code",
   "execution_count": 4,
   "id": "ddf7dbb6-4686-41a0-8df4-9d27cbc3efc2",
   "metadata": {},
   "outputs": [
    {
     "data": {
      "text/html": [
       "<div>\n",
       "<style scoped>\n",
       "    .dataframe tbody tr th:only-of-type {\n",
       "        vertical-align: middle;\n",
       "    }\n",
       "\n",
       "    .dataframe tbody tr th {\n",
       "        vertical-align: top;\n",
       "    }\n",
       "\n",
       "    .dataframe thead th {\n",
       "        text-align: right;\n",
       "    }\n",
       "</style>\n",
       "<table border=\"1\" class=\"dataframe\">\n",
       "  <thead>\n",
       "    <tr style=\"text-align: right;\">\n",
       "      <th></th>\n",
       "      <th>name</th>\n",
       "    </tr>\n",
       "    <tr>\n",
       "      <th>artist_mbid</th>\n",
       "      <th></th>\n",
       "    </tr>\n",
       "  </thead>\n",
       "  <tbody>\n",
       "    <tr>\n",
       "      <th>fadeb38c-833f-40bc-9d8c-a6383b38b1be</th>\n",
       "      <td>Доктор Сатана</td>\n",
       "    </tr>\n",
       "    <tr>\n",
       "      <th>49add228-eac5-4de8-836c-d75cde7369c3</th>\n",
       "      <td>Pete Moutso</td>\n",
       "    </tr>\n",
       "    <tr>\n",
       "      <th>165a49a0-2b3b-4078-a3c1-905afdc07c0a</th>\n",
       "      <td>Babyglock</td>\n",
       "    </tr>\n",
       "    <tr>\n",
       "      <th>7b4a548e-a01a-49b7-82e7-b49efeb9732c</th>\n",
       "      <td>Aric Leavitt</td>\n",
       "    </tr>\n",
       "    <tr>\n",
       "      <th>60aca66f-e91a-4cb5-9308-b6e293cd833e</th>\n",
       "      <td>Fonograff</td>\n",
       "    </tr>\n",
       "  </tbody>\n",
       "</table>\n",
       "</div>"
      ],
      "text/plain": [
       "                                               name\n",
       "artist_mbid                                        \n",
       "fadeb38c-833f-40bc-9d8c-a6383b38b1be  Доктор Сатана\n",
       "49add228-eac5-4de8-836c-d75cde7369c3    Pete Moutso\n",
       "165a49a0-2b3b-4078-a3c1-905afdc07c0a      Babyglock\n",
       "7b4a548e-a01a-49b7-82e7-b49efeb9732c   Aric Leavitt\n",
       "60aca66f-e91a-4cb5-9308-b6e293cd833e      Fonograff"
      ]
     },
     "execution_count": 4,
     "metadata": {},
     "output_type": "execute_result"
    }
   ],
   "source": [
    "musicbrainz_artist = pd.read_csv(os.path.join(materials_root, \"musicbrainz_artist.csv\"))\n",
    "musicbrainz_artist.set_index(\"artist_mbid\", inplace=True)\n",
    "musicbrainz_artist.head()"
   ]
  },
  {
   "cell_type": "markdown",
   "id": "38c2e1a5-d865-49b6-b69d-5417203800f9",
   "metadata": {},
   "source": [
    "**Process the date for training**"
   ]
  },
  {
   "cell_type": "code",
   "execution_count": 5,
   "id": "d5104787-2c47-4ea7-ae52-e695ce3a0683",
   "metadata": {},
   "outputs": [],
   "source": [
    "users = data[\"userid\"].astype(\"category\")\n",
    "artists = data[\"artist_mbids\"].astype(\"category\")\n",
    "plays = coo_matrix(\n",
    "        (data[\"count\"].astype(np.float32),\n",
    "        (\n",
    "            users.cat.codes.copy(),\n",
    "            artists.cat.codes.copy()\n",
    "        ),\n",
    "    )\n",
    ").tocsr()\n",
    "\n",
    "artist_user_plays = bm25_weight(plays, K1=100, B=0.8)\n",
    "user_plays = artist_user_plays.T.tocsr()"
   ]
  },
  {
   "cell_type": "markdown",
   "id": "e15ef839-8afb-4d39-b287-e73da4e46abb",
   "metadata": {},
   "source": [
    "## Model training"
   ]
  },
  {
   "cell_type": "code",
   "execution_count": 6,
   "id": "162db765-5b4e-45ae-89a8-fbfe50fc3c2b",
   "metadata": {},
   "outputs": [
    {
     "name": "stderr",
     "output_type": "stream",
     "text": [
      "100%|███████████████████████████████████████████████████████████████████████████████████| 15/15 [00:03<00:00,  4.81it/s]\n"
     ]
    }
   ],
   "source": [
    "model = AlternatingLeastSquares(factors=64, regularization=0.05, alpha=2.0)\n",
    "model.fit(artist_user_plays.tocsr())"
   ]
  },
  {
   "cell_type": "markdown",
   "id": "c1c1841c-adda-4aba-843c-651e559e5adf",
   "metadata": {},
   "source": [
    "## Generate recommendations"
   ]
  },
  {
   "cell_type": "markdown",
   "id": "785b7519-1476-4048-a3c1-6035971c1599",
   "metadata": {},
   "source": [
    "**Recommendation example 1**"
   ]
  },
  {
   "cell_type": "code",
   "execution_count": 7,
   "id": "dedc7666-a3ea-4e92-81da-534b4fbdad0f",
   "metadata": {},
   "outputs": [],
   "source": [
    "userid = 123\n",
    "ids, scores = model.recommend(userid, user_plays[userid], N=10)"
   ]
  },
  {
   "cell_type": "code",
   "execution_count": 8,
   "id": "24ddf975-737f-469b-b11c-64549796ebed",
   "metadata": {},
   "outputs": [
    {
     "name": "stdout",
     "output_type": "stream",
     "text": [
      "Recommendations for user: 123\n"
     ]
    },
    {
     "data": {
      "text/html": [
       "<div>\n",
       "<style scoped>\n",
       "    .dataframe tbody tr th:only-of-type {\n",
       "        vertical-align: middle;\n",
       "    }\n",
       "\n",
       "    .dataframe tbody tr th {\n",
       "        vertical-align: top;\n",
       "    }\n",
       "\n",
       "    .dataframe thead th {\n",
       "        text-align: right;\n",
       "    }\n",
       "</style>\n",
       "<table border=\"1\" class=\"dataframe\">\n",
       "  <thead>\n",
       "    <tr style=\"text-align: right;\">\n",
       "      <th></th>\n",
       "      <th>artist</th>\n",
       "      <th>score</th>\n",
       "    </tr>\n",
       "  </thead>\n",
       "  <tbody>\n",
       "    <tr>\n",
       "      <th>0</th>\n",
       "      <td>Siouxsie Sioux</td>\n",
       "      <td>1.225429</td>\n",
       "    </tr>\n",
       "    <tr>\n",
       "      <th>1</th>\n",
       "      <td>John Butler Trio</td>\n",
       "      <td>1.173827</td>\n",
       "    </tr>\n",
       "    <tr>\n",
       "      <th>2</th>\n",
       "      <td>Sharon Van Etten</td>\n",
       "      <td>1.164155</td>\n",
       "    </tr>\n",
       "    <tr>\n",
       "      <th>3</th>\n",
       "      <td>Electric Guest</td>\n",
       "      <td>1.152812</td>\n",
       "    </tr>\n",
       "    <tr>\n",
       "      <th>4</th>\n",
       "      <td>Paul Johnson</td>\n",
       "      <td>1.148144</td>\n",
       "    </tr>\n",
       "    <tr>\n",
       "      <th>5</th>\n",
       "      <td>RÜFÜS DU SOL</td>\n",
       "      <td>1.094499</td>\n",
       "    </tr>\n",
       "    <tr>\n",
       "      <th>6</th>\n",
       "      <td>Coi Leray</td>\n",
       "      <td>1.085531</td>\n",
       "    </tr>\n",
       "    <tr>\n",
       "      <th>7</th>\n",
       "      <td>William Orbit</td>\n",
       "      <td>1.074847</td>\n",
       "    </tr>\n",
       "    <tr>\n",
       "      <th>8</th>\n",
       "      <td>The Outcasts</td>\n",
       "      <td>1.052629</td>\n",
       "    </tr>\n",
       "    <tr>\n",
       "      <th>9</th>\n",
       "      <td>KAUAN</td>\n",
       "      <td>1.035424</td>\n",
       "    </tr>\n",
       "  </tbody>\n",
       "</table>\n",
       "</div>"
      ],
      "text/plain": [
       "             artist     score\n",
       "0    Siouxsie Sioux  1.225429\n",
       "1  John Butler Trio  1.173827\n",
       "2  Sharon Van Etten  1.164155\n",
       "3    Electric Guest  1.152812\n",
       "4      Paul Johnson  1.148144\n",
       "5      RÜFÜS DU SOL  1.094499\n",
       "6         Coi Leray  1.085531\n",
       "7     William Orbit  1.074847\n",
       "8      The Outcasts  1.052629\n",
       "9             KAUAN  1.035424"
      ]
     },
     "execution_count": 8,
     "metadata": {},
     "output_type": "execute_result"
    }
   ],
   "source": [
    "print(f'Recommendations for user: {userid}')\n",
    "recommendation = pd.DataFrame({\"artist\": musicbrainz_artist.loc[artists[ids]]['name'].tolist(), \"score\": scores})\n",
    "recommendation.reset_index(drop=True, inplace=True)\n",
    "recommendation"
   ]
  },
  {
   "cell_type": "markdown",
   "id": "a6a5f4c8-1c28-4ff3-9586-0e4c447a0026",
   "metadata": {},
   "source": [
    "**Recommendation example 2**"
   ]
  },
  {
   "cell_type": "code",
   "execution_count": 9,
   "id": "fd126003-d071-45d0-8f62-43501ddfd306",
   "metadata": {},
   "outputs": [],
   "source": [
    "userid = 1234\n",
    "ids, scores = model.recommend(userid, user_plays[userid], N=10)"
   ]
  },
  {
   "cell_type": "code",
   "execution_count": 10,
   "id": "22f29e3c-99e1-4490-8a7f-57d8d83544a1",
   "metadata": {},
   "outputs": [
    {
     "name": "stdout",
     "output_type": "stream",
     "text": [
      "Recommendations for user: 1234\n"
     ]
    },
    {
     "data": {
      "text/html": [
       "<div>\n",
       "<style scoped>\n",
       "    .dataframe tbody tr th:only-of-type {\n",
       "        vertical-align: middle;\n",
       "    }\n",
       "\n",
       "    .dataframe tbody tr th {\n",
       "        vertical-align: top;\n",
       "    }\n",
       "\n",
       "    .dataframe thead th {\n",
       "        text-align: right;\n",
       "    }\n",
       "</style>\n",
       "<table border=\"1\" class=\"dataframe\">\n",
       "  <thead>\n",
       "    <tr style=\"text-align: right;\">\n",
       "      <th></th>\n",
       "      <th>artist</th>\n",
       "      <th>score</th>\n",
       "    </tr>\n",
       "  </thead>\n",
       "  <tbody>\n",
       "    <tr>\n",
       "      <th>0</th>\n",
       "      <td>Jean‐Michel Blais</td>\n",
       "      <td>1.206659</td>\n",
       "    </tr>\n",
       "    <tr>\n",
       "      <th>1</th>\n",
       "      <td>Happy Go Lumpy's Bass &amp; Friendship Club</td>\n",
       "      <td>1.177446</td>\n",
       "    </tr>\n",
       "    <tr>\n",
       "      <th>2</th>\n",
       "      <td>Yung Joc</td>\n",
       "      <td>1.146596</td>\n",
       "    </tr>\n",
       "    <tr>\n",
       "      <th>3</th>\n",
       "      <td>Godspeed You! Black Emperor</td>\n",
       "      <td>1.118446</td>\n",
       "    </tr>\n",
       "    <tr>\n",
       "      <th>4</th>\n",
       "      <td>Terry Riley</td>\n",
       "      <td>1.112939</td>\n",
       "    </tr>\n",
       "    <tr>\n",
       "      <th>5</th>\n",
       "      <td>Joey Bada$$</td>\n",
       "      <td>1.103775</td>\n",
       "    </tr>\n",
       "    <tr>\n",
       "      <th>6</th>\n",
       "      <td>Rocketship</td>\n",
       "      <td>1.095238</td>\n",
       "    </tr>\n",
       "    <tr>\n",
       "      <th>7</th>\n",
       "      <td>Wizzard</td>\n",
       "      <td>1.093191</td>\n",
       "    </tr>\n",
       "    <tr>\n",
       "      <th>8</th>\n",
       "      <td>PVRIS</td>\n",
       "      <td>1.089574</td>\n",
       "    </tr>\n",
       "    <tr>\n",
       "      <th>9</th>\n",
       "      <td>New Order</td>\n",
       "      <td>1.085535</td>\n",
       "    </tr>\n",
       "  </tbody>\n",
       "</table>\n",
       "</div>"
      ],
      "text/plain": [
       "                                    artist     score\n",
       "0                        Jean‐Michel Blais  1.206659\n",
       "1  Happy Go Lumpy's Bass & Friendship Club  1.177446\n",
       "2                                 Yung Joc  1.146596\n",
       "3              Godspeed You! Black Emperor  1.118446\n",
       "4                              Terry Riley  1.112939\n",
       "5                              Joey Bada$$  1.103775\n",
       "6                               Rocketship  1.095238\n",
       "7                                  Wizzard  1.093191\n",
       "8                                    PVRIS  1.089574\n",
       "9                                New Order  1.085535"
      ]
     },
     "execution_count": 10,
     "metadata": {},
     "output_type": "execute_result"
    }
   ],
   "source": [
    "print(f'Recommendations for user: {userid}')\n",
    "recommendation = pd.DataFrame({\"artist\": musicbrainz_artist.loc[artists[ids]]['name'].tolist(), \"score\": scores})\n",
    "recommendation.reset_index(drop=True, inplace=True)\n",
    "recommendation"
   ]
  },
  {
   "cell_type": "markdown",
   "id": "ee0ba785-8a57-4711-b905-d2b4ff347f3b",
   "metadata": {},
   "source": [
    "## Find similar artists"
   ]
  },
  {
   "cell_type": "markdown",
   "id": "55bd5c52-498b-43c9-a238-34fae8d46c47",
   "metadata": {},
   "source": [
    "**Similar artists example 1**"
   ]
  },
  {
   "cell_type": "code",
   "execution_count": 11,
   "id": "ea9b197b-9b53-4433-a929-f18e76368157",
   "metadata": {},
   "outputs": [],
   "source": [
    "artistid = \"03f93de6-6d62-4710-bcc7-9b3d7c3d95f5\"\n",
    "artistname = musicbrainz_artist.loc[artistid]['name']\n",
    "artist_idx = artists.index[artists == artistid].tolist()[0]"
   ]
  },
  {
   "cell_type": "code",
   "execution_count": 12,
   "id": "18889360-06ba-4b22-aa22-a7007774019e",
   "metadata": {},
   "outputs": [],
   "source": [
    "ids, scores = model.similar_items(artist_idx, N=10)"
   ]
  },
  {
   "cell_type": "code",
   "execution_count": 13,
   "id": "bd3f50ff-6012-420f-a727-102ca235e10f",
   "metadata": {},
   "outputs": [
    {
     "name": "stdout",
     "output_type": "stream",
     "text": [
      "Artists similar to Z‐Trip\n"
     ]
    },
    {
     "data": {
      "text/html": [
       "<div>\n",
       "<style scoped>\n",
       "    .dataframe tbody tr th:only-of-type {\n",
       "        vertical-align: middle;\n",
       "    }\n",
       "\n",
       "    .dataframe tbody tr th {\n",
       "        vertical-align: top;\n",
       "    }\n",
       "\n",
       "    .dataframe thead th {\n",
       "        text-align: right;\n",
       "    }\n",
       "</style>\n",
       "<table border=\"1\" class=\"dataframe\">\n",
       "  <thead>\n",
       "    <tr style=\"text-align: right;\">\n",
       "      <th></th>\n",
       "      <th>artist</th>\n",
       "      <th>score</th>\n",
       "    </tr>\n",
       "  </thead>\n",
       "  <tbody>\n",
       "    <tr>\n",
       "      <th>0</th>\n",
       "      <td>Z‐Trip</td>\n",
       "      <td>1.000000</td>\n",
       "    </tr>\n",
       "    <tr>\n",
       "      <th>1</th>\n",
       "      <td>近藤浩治</td>\n",
       "      <td>0.999140</td>\n",
       "    </tr>\n",
       "    <tr>\n",
       "      <th>2</th>\n",
       "      <td>Rupie Edwards</td>\n",
       "      <td>0.997418</td>\n",
       "    </tr>\n",
       "    <tr>\n",
       "      <th>3</th>\n",
       "      <td>Roxy Music</td>\n",
       "      <td>0.995829</td>\n",
       "    </tr>\n",
       "    <tr>\n",
       "      <th>4</th>\n",
       "      <td>Van Halen</td>\n",
       "      <td>0.992228</td>\n",
       "    </tr>\n",
       "    <tr>\n",
       "      <th>5</th>\n",
       "      <td>Irène Drésel</td>\n",
       "      <td>0.968606</td>\n",
       "    </tr>\n",
       "    <tr>\n",
       "      <th>6</th>\n",
       "      <td>Tantric</td>\n",
       "      <td>0.968323</td>\n",
       "    </tr>\n",
       "    <tr>\n",
       "      <th>7</th>\n",
       "      <td>Iron &amp; Wine</td>\n",
       "      <td>0.964760</td>\n",
       "    </tr>\n",
       "    <tr>\n",
       "      <th>8</th>\n",
       "      <td>AlgoRythmiK</td>\n",
       "      <td>0.964217</td>\n",
       "    </tr>\n",
       "    <tr>\n",
       "      <th>9</th>\n",
       "      <td>Pearl Jam</td>\n",
       "      <td>0.957564</td>\n",
       "    </tr>\n",
       "  </tbody>\n",
       "</table>\n",
       "</div>"
      ],
      "text/plain": [
       "          artist     score\n",
       "0         Z‐Trip  1.000000\n",
       "1           近藤浩治  0.999140\n",
       "2  Rupie Edwards  0.997418\n",
       "3     Roxy Music  0.995829\n",
       "4      Van Halen  0.992228\n",
       "5   Irène Drésel  0.968606\n",
       "6        Tantric  0.968323\n",
       "7    Iron & Wine  0.964760\n",
       "8    AlgoRythmiK  0.964217\n",
       "9      Pearl Jam  0.957564"
      ]
     },
     "execution_count": 13,
     "metadata": {},
     "output_type": "execute_result"
    }
   ],
   "source": [
    "print(f'Artists similar to {artistname}')\n",
    "similar_artists = pd.DataFrame({\"artist\": musicbrainz_artist.loc[artists[ids]]['name'].tolist(), \"score\": scores})\n",
    "similar_artists.reset_index(drop=True, inplace=True)\n",
    "similar_artists"
   ]
  },
  {
   "cell_type": "markdown",
   "id": "3ad130bb-1048-4796-b8eb-f4fe2ee4291f",
   "metadata": {},
   "source": [
    "## Tests"
   ]
  },
  {
   "cell_type": "markdown",
   "id": "8c27fb20-7403-4742-9f2e-ba31837978a3",
   "metadata": {},
   "source": [
    "**Find similar artists to A. R. Rahman `MBID:e0bba708-bdd3-478d-84ea-c706413bedab`**\n",
    "\n",
    "<img src='../scratch/AR_Rahman_At_The_‘Marvel_Anthem’_Launch_(3x4_cropped).jpg' width=200>"
   ]
  },
  {
   "cell_type": "code",
   "execution_count": 22,
   "id": "dcfe35bd-6829-4617-8fff-f5c867b56b6d",
   "metadata": {},
   "outputs": [],
   "source": [
    "artistid = \"e0bba708-bdd3-478d-84ea-c706413bedab\"\n",
    "artistname = musicbrainz_artist.loc[artistid]['name']\n",
    "artist_idx = artists.index[artists == artistid].tolist()[0]"
   ]
  },
  {
   "cell_type": "code",
   "execution_count": 23,
   "id": "4b2c6c6c-1864-4eb3-8d55-924859f0a1a9",
   "metadata": {},
   "outputs": [],
   "source": [
    "ids, scores = model.similar_items(artist_idx, N=10)"
   ]
  },
  {
   "cell_type": "code",
   "execution_count": 24,
   "id": "4fb0dc55-f35a-496a-a82f-e96910b265f8",
   "metadata": {},
   "outputs": [
    {
     "name": "stdout",
     "output_type": "stream",
     "text": [
      "Artists similar to A. R. Rahman\n"
     ]
    },
    {
     "data": {
      "text/html": [
       "<div>\n",
       "<style scoped>\n",
       "    .dataframe tbody tr th:only-of-type {\n",
       "        vertical-align: middle;\n",
       "    }\n",
       "\n",
       "    .dataframe tbody tr th {\n",
       "        vertical-align: top;\n",
       "    }\n",
       "\n",
       "    .dataframe thead th {\n",
       "        text-align: right;\n",
       "    }\n",
       "</style>\n",
       "<table border=\"1\" class=\"dataframe\">\n",
       "  <thead>\n",
       "    <tr style=\"text-align: right;\">\n",
       "      <th></th>\n",
       "      <th>artist</th>\n",
       "      <th>score</th>\n",
       "    </tr>\n",
       "  </thead>\n",
       "  <tbody>\n",
       "    <tr>\n",
       "      <th>0</th>\n",
       "      <td>A. R. Rahman</td>\n",
       "      <td>1.000000</td>\n",
       "    </tr>\n",
       "    <tr>\n",
       "      <th>1</th>\n",
       "      <td>JMSN</td>\n",
       "      <td>0.857455</td>\n",
       "    </tr>\n",
       "    <tr>\n",
       "      <th>2</th>\n",
       "      <td>Giraffage</td>\n",
       "      <td>0.857455</td>\n",
       "    </tr>\n",
       "    <tr>\n",
       "      <th>3</th>\n",
       "      <td>The Merry Thoughts</td>\n",
       "      <td>0.857455</td>\n",
       "    </tr>\n",
       "    <tr>\n",
       "      <th>4</th>\n",
       "      <td>Faith No More</td>\n",
       "      <td>0.857454</td>\n",
       "    </tr>\n",
       "    <tr>\n",
       "      <th>5</th>\n",
       "      <td>Katy Carr</td>\n",
       "      <td>0.857454</td>\n",
       "    </tr>\n",
       "    <tr>\n",
       "      <th>6</th>\n",
       "      <td>Lustre</td>\n",
       "      <td>0.857454</td>\n",
       "    </tr>\n",
       "    <tr>\n",
       "      <th>7</th>\n",
       "      <td>Low Roar</td>\n",
       "      <td>0.857454</td>\n",
       "    </tr>\n",
       "    <tr>\n",
       "      <th>8</th>\n",
       "      <td>Mokhov</td>\n",
       "      <td>0.854862</td>\n",
       "    </tr>\n",
       "    <tr>\n",
       "      <th>9</th>\n",
       "      <td>Limp Bizkit</td>\n",
       "      <td>0.850914</td>\n",
       "    </tr>\n",
       "  </tbody>\n",
       "</table>\n",
       "</div>"
      ],
      "text/plain": [
       "               artist     score\n",
       "0        A. R. Rahman  1.000000\n",
       "1                JMSN  0.857455\n",
       "2           Giraffage  0.857455\n",
       "3  The Merry Thoughts  0.857455\n",
       "4       Faith No More  0.857454\n",
       "5           Katy Carr  0.857454\n",
       "6              Lustre  0.857454\n",
       "7            Low Roar  0.857454\n",
       "8              Mokhov  0.854862\n",
       "9         Limp Bizkit  0.850914"
      ]
     },
     "execution_count": 24,
     "metadata": {},
     "output_type": "execute_result"
    }
   ],
   "source": [
    "print(f'Artists similar to {artistname}')\n",
    "similar_artists = pd.DataFrame({\"artist\": musicbrainz_artist.loc[artists[ids]]['name'].tolist(), \"score\": scores})\n",
    "similar_artists.reset_index(drop=True, inplace=True)\n",
    "similar_artists"
   ]
  },
  {
   "cell_type": "markdown",
   "id": "02758abe-be2a-4d0a-85a0-bcd631cca9d3",
   "metadata": {},
   "source": [
    "**Find similar artists to Goran Bregović `MBID:883ece23-2779-4091-b527-62eb07ee79d4`**\n",
    "\n",
    "<img src='../scratch/20220710-Rudolstadt-Festival-2022-Goran-Bregovic-7849_(cropped).jpg' width=200>"
   ]
  },
  {
   "cell_type": "code",
   "execution_count": 25,
   "id": "c2c85dfe-ca90-451f-94f5-f8ba14f375b1",
   "metadata": {},
   "outputs": [],
   "source": [
    "artistid = \"883ece23-2779-4091-b527-62eb07ee79d4\"\n",
    "artistname = musicbrainz_artist.loc[artistid]['name']\n",
    "artist_idx = artists.index[artists == artistid].tolist()[0]"
   ]
  },
  {
   "cell_type": "code",
   "execution_count": 26,
   "id": "a3f3d875-939d-4874-ab8b-b180c57b86f7",
   "metadata": {},
   "outputs": [],
   "source": [
    "ids, scores = model.similar_items(artist_idx, N=10)"
   ]
  },
  {
   "cell_type": "code",
   "execution_count": 27,
   "id": "a3014750-13bb-4184-bb2d-a554ab1d43f2",
   "metadata": {},
   "outputs": [
    {
     "name": "stdout",
     "output_type": "stream",
     "text": [
      "Artists similar to Goran Bregović\n"
     ]
    },
    {
     "data": {
      "text/html": [
       "<div>\n",
       "<style scoped>\n",
       "    .dataframe tbody tr th:only-of-type {\n",
       "        vertical-align: middle;\n",
       "    }\n",
       "\n",
       "    .dataframe tbody tr th {\n",
       "        vertical-align: top;\n",
       "    }\n",
       "\n",
       "    .dataframe thead th {\n",
       "        text-align: right;\n",
       "    }\n",
       "</style>\n",
       "<table border=\"1\" class=\"dataframe\">\n",
       "  <thead>\n",
       "    <tr style=\"text-align: right;\">\n",
       "      <th></th>\n",
       "      <th>artist</th>\n",
       "      <th>score</th>\n",
       "    </tr>\n",
       "  </thead>\n",
       "  <tbody>\n",
       "    <tr>\n",
       "      <th>0</th>\n",
       "      <td>Goran Bregović</td>\n",
       "      <td>1.000000</td>\n",
       "    </tr>\n",
       "    <tr>\n",
       "      <th>1</th>\n",
       "      <td>T. Rex</td>\n",
       "      <td>0.975317</td>\n",
       "    </tr>\n",
       "    <tr>\n",
       "      <th>2</th>\n",
       "      <td>Pomplamoose</td>\n",
       "      <td>0.975315</td>\n",
       "    </tr>\n",
       "    <tr>\n",
       "      <th>3</th>\n",
       "      <td>The Mavericks</td>\n",
       "      <td>0.975315</td>\n",
       "    </tr>\n",
       "    <tr>\n",
       "      <th>4</th>\n",
       "      <td>Marshall Jefferson</td>\n",
       "      <td>0.975315</td>\n",
       "    </tr>\n",
       "    <tr>\n",
       "      <th>5</th>\n",
       "      <td>DNCE</td>\n",
       "      <td>0.975315</td>\n",
       "    </tr>\n",
       "    <tr>\n",
       "      <th>6</th>\n",
       "      <td>Waldeck</td>\n",
       "      <td>0.975315</td>\n",
       "    </tr>\n",
       "    <tr>\n",
       "      <th>7</th>\n",
       "      <td>Technohead</td>\n",
       "      <td>0.975315</td>\n",
       "    </tr>\n",
       "    <tr>\n",
       "      <th>8</th>\n",
       "      <td>Julee Cruise</td>\n",
       "      <td>0.975315</td>\n",
       "    </tr>\n",
       "    <tr>\n",
       "      <th>9</th>\n",
       "      <td>Alejandro Escovedo</td>\n",
       "      <td>0.973412</td>\n",
       "    </tr>\n",
       "  </tbody>\n",
       "</table>\n",
       "</div>"
      ],
      "text/plain": [
       "               artist     score\n",
       "0      Goran Bregović  1.000000\n",
       "1              T. Rex  0.975317\n",
       "2         Pomplamoose  0.975315\n",
       "3       The Mavericks  0.975315\n",
       "4  Marshall Jefferson  0.975315\n",
       "5                DNCE  0.975315\n",
       "6             Waldeck  0.975315\n",
       "7          Technohead  0.975315\n",
       "8        Julee Cruise  0.975315\n",
       "9  Alejandro Escovedo  0.973412"
      ]
     },
     "execution_count": 27,
     "metadata": {},
     "output_type": "execute_result"
    }
   ],
   "source": [
    "print(f'Artists similar to {artistname}')\n",
    "similar_artists = pd.DataFrame({\"artist\": musicbrainz_artist.loc[artists[ids]]['name'].tolist(), \"score\": scores})\n",
    "similar_artists.reset_index(drop=True, inplace=True)\n",
    "similar_artists"
   ]
  },
  {
   "cell_type": "markdown",
   "id": "bb22ad56-fb03-4a45-9307-bb847dab06ec",
   "metadata": {},
   "source": [
    "**Find similar artists to Linkin park `MBID:f59c5520-5f46-4d2c-b2c4-822eabf53419`**\n",
    "\n",
    "<img src='../scratch/1920px-LinkinParkBerlin2010.jpg' width=400>"
   ]
  },
  {
   "cell_type": "code",
   "execution_count": 31,
   "id": "bba3984b-6e4c-4c3d-a2f9-a1073c711a9e",
   "metadata": {},
   "outputs": [],
   "source": [
    "artistid = \"f59c5520-5f46-4d2c-b2c4-822eabf53419\"\n",
    "artistname = musicbrainz_artist.loc[artistid]['name']\n",
    "artist_idx = artists.index[artists == artistid].tolist()[0]"
   ]
  },
  {
   "cell_type": "code",
   "execution_count": 32,
   "id": "ec7f6679-7447-41c2-8f23-260a862f7959",
   "metadata": {},
   "outputs": [],
   "source": [
    "ids, scores = model.similar_items(artist_idx, N=10)"
   ]
  },
  {
   "cell_type": "code",
   "execution_count": 33,
   "id": "b9aec797-f673-40a7-9c3d-aad760e17d3d",
   "metadata": {},
   "outputs": [
    {
     "name": "stdout",
     "output_type": "stream",
     "text": [
      "Artists similar to Linkin Park\n"
     ]
    },
    {
     "data": {
      "text/html": [
       "<div>\n",
       "<style scoped>\n",
       "    .dataframe tbody tr th:only-of-type {\n",
       "        vertical-align: middle;\n",
       "    }\n",
       "\n",
       "    .dataframe tbody tr th {\n",
       "        vertical-align: top;\n",
       "    }\n",
       "\n",
       "    .dataframe thead th {\n",
       "        text-align: right;\n",
       "    }\n",
       "</style>\n",
       "<table border=\"1\" class=\"dataframe\">\n",
       "  <thead>\n",
       "    <tr style=\"text-align: right;\">\n",
       "      <th></th>\n",
       "      <th>artist</th>\n",
       "      <th>score</th>\n",
       "    </tr>\n",
       "  </thead>\n",
       "  <tbody>\n",
       "    <tr>\n",
       "      <th>0</th>\n",
       "      <td>Linkin Park</td>\n",
       "      <td>1.000000</td>\n",
       "    </tr>\n",
       "    <tr>\n",
       "      <th>1</th>\n",
       "      <td>Kid Cudi</td>\n",
       "      <td>0.913123</td>\n",
       "    </tr>\n",
       "    <tr>\n",
       "      <th>2</th>\n",
       "      <td>Stone Sour</td>\n",
       "      <td>0.913123</td>\n",
       "    </tr>\n",
       "    <tr>\n",
       "      <th>3</th>\n",
       "      <td>Wau Wau Collectif</td>\n",
       "      <td>0.912840</td>\n",
       "    </tr>\n",
       "    <tr>\n",
       "      <th>4</th>\n",
       "      <td>Ray Charles</td>\n",
       "      <td>0.871346</td>\n",
       "    </tr>\n",
       "    <tr>\n",
       "      <th>5</th>\n",
       "      <td>Elwood</td>\n",
       "      <td>0.625813</td>\n",
       "    </tr>\n",
       "    <tr>\n",
       "      <th>6</th>\n",
       "      <td>Jonathan Groff</td>\n",
       "      <td>0.612072</td>\n",
       "    </tr>\n",
       "    <tr>\n",
       "      <th>7</th>\n",
       "      <td>Gorgon</td>\n",
       "      <td>0.563189</td>\n",
       "    </tr>\n",
       "    <tr>\n",
       "      <th>8</th>\n",
       "      <td>London Grammar</td>\n",
       "      <td>0.555969</td>\n",
       "    </tr>\n",
       "    <tr>\n",
       "      <th>9</th>\n",
       "      <td>Infected Mushroom</td>\n",
       "      <td>0.533872</td>\n",
       "    </tr>\n",
       "  </tbody>\n",
       "</table>\n",
       "</div>"
      ],
      "text/plain": [
       "              artist     score\n",
       "0        Linkin Park  1.000000\n",
       "1           Kid Cudi  0.913123\n",
       "2         Stone Sour  0.913123\n",
       "3  Wau Wau Collectif  0.912840\n",
       "4        Ray Charles  0.871346\n",
       "5             Elwood  0.625813\n",
       "6     Jonathan Groff  0.612072\n",
       "7             Gorgon  0.563189\n",
       "8     London Grammar  0.555969\n",
       "9  Infected Mushroom  0.533872"
      ]
     },
     "execution_count": 33,
     "metadata": {},
     "output_type": "execute_result"
    }
   ],
   "source": [
    "print(f'Artists similar to {artistname}')\n",
    "similar_artists = pd.DataFrame({\"artist\": musicbrainz_artist.loc[artists[ids]]['name'].tolist(), \"score\": scores})\n",
    "similar_artists.reset_index(drop=True, inplace=True)\n",
    "similar_artists"
   ]
  },
  {
   "cell_type": "code",
   "execution_count": null,
   "id": "5434898f-8ba1-413a-add8-1e287aa0ffd5",
   "metadata": {},
   "outputs": [],
   "source": []
  }
 ],
 "metadata": {
  "kernelspec": {
   "display_name": "Python 3 (ipykernel)",
   "language": "python",
   "name": "python3"
  },
  "language_info": {
   "codemirror_mode": {
    "name": "ipython",
    "version": 3
   },
   "file_extension": ".py",
   "mimetype": "text/x-python",
   "name": "python",
   "nbconvert_exporter": "python",
   "pygments_lexer": "ipython3",
   "version": "3.10.16"
  }
 },
 "nbformat": 4,
 "nbformat_minor": 5
}
