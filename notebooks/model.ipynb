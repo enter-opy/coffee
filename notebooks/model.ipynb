{
 "cells": [
  {
   "cell_type": "markdown",
   "id": "5023e6f6-aafc-4d8f-b1ee-849d759c115e",
   "metadata": {},
   "source": [
    "# Collaborative filtering model"
   ]
  },
  {
   "cell_type": "code",
   "execution_count": 3,
   "id": "b73a8643-7fc3-4a85-b51e-bcf90a393553",
   "metadata": {},
   "outputs": [],
   "source": [
    "import numpy as np\n",
    "import pandas as pd\n",
    "from scipy.sparse import coo_matrix\n",
    "from implicit.nearest_neighbours import bm25_weight\n",
    "from implicit.als import AlternatingLeastSquares\n",
    "import os"
   ]
  },
  {
   "cell_type": "code",
   "execution_count": 4,
   "id": "01d6ba9a-5cb6-4bd9-937a-75d5b312fd4e",
   "metadata": {},
   "outputs": [],
   "source": [
    "materials_root = \"../materials\"\n",
    "working_root = \"../working\""
   ]
  },
  {
   "cell_type": "markdown",
   "id": "bce65cb0-6370-480a-bda0-0fe4ba0b2e87",
   "metadata": {},
   "source": [
    "## Load data"
   ]
  },
  {
   "cell_type": "markdown",
   "id": "6ee15e0a-4f0c-4602-a5a3-e515d0190848",
   "metadata": {},
   "source": [
    "**Load `userid-artist-counts.csv`** for training the model."
   ]
  },
  {
   "cell_type": "code",
   "execution_count": 5,
   "id": "1f664bc3-528e-47e6-ba69-aaca6d126816",
   "metadata": {},
   "outputs": [
    {
     "data": {
      "text/html": [
       "<div>\n",
       "<style scoped>\n",
       "    .dataframe tbody tr th:only-of-type {\n",
       "        vertical-align: middle;\n",
       "    }\n",
       "\n",
       "    .dataframe tbody tr th {\n",
       "        vertical-align: top;\n",
       "    }\n",
       "\n",
       "    .dataframe thead th {\n",
       "        text-align: right;\n",
       "    }\n",
       "</style>\n",
       "<table border=\"1\" class=\"dataframe\">\n",
       "  <thead>\n",
       "    <tr style=\"text-align: right;\">\n",
       "      <th></th>\n",
       "      <th>userid</th>\n",
       "      <th>artist_mbids</th>\n",
       "      <th>count</th>\n",
       "    </tr>\n",
       "  </thead>\n",
       "  <tbody>\n",
       "    <tr>\n",
       "      <th>0</th>\n",
       "      <td>1</td>\n",
       "      <td>000fc734-b7e1-4a01-92d1-f544261b43f5</td>\n",
       "      <td>1</td>\n",
       "    </tr>\n",
       "    <tr>\n",
       "      <th>1</th>\n",
       "      <td>1</td>\n",
       "      <td>00eb9d25-0465-49e3-8e7a-3eacbd9ebb0d</td>\n",
       "      <td>3</td>\n",
       "    </tr>\n",
       "    <tr>\n",
       "      <th>2</th>\n",
       "      <td>1</td>\n",
       "      <td>012b5f71-b079-48f1-892e-af645c6576cb</td>\n",
       "      <td>1</td>\n",
       "    </tr>\n",
       "    <tr>\n",
       "      <th>3</th>\n",
       "      <td>1</td>\n",
       "      <td>01ce0542-1e29-4ab6-bffe-ba0e2fb61ce8</td>\n",
       "      <td>2</td>\n",
       "    </tr>\n",
       "    <tr>\n",
       "      <th>4</th>\n",
       "      <td>1</td>\n",
       "      <td>0383dadf-2a4e-4d10-a46a-e9e041da8eb3</td>\n",
       "      <td>1</td>\n",
       "    </tr>\n",
       "  </tbody>\n",
       "</table>\n",
       "</div>"
      ],
      "text/plain": [
       "   userid                          artist_mbids  count\n",
       "0       1  000fc734-b7e1-4a01-92d1-f544261b43f5      1\n",
       "1       1  00eb9d25-0465-49e3-8e7a-3eacbd9ebb0d      3\n",
       "2       1  012b5f71-b079-48f1-892e-af645c6576cb      1\n",
       "3       1  01ce0542-1e29-4ab6-bffe-ba0e2fb61ce8      2\n",
       "4       1  0383dadf-2a4e-4d10-a46a-e9e041da8eb3      1"
      ]
     },
     "execution_count": 5,
     "metadata": {},
     "output_type": "execute_result"
    }
   ],
   "source": [
    "data = pd.read_csv(os.path.join(working_root, \"userid-artist-counts.csv\"))\n",
    "data.head()"
   ]
  },
  {
   "cell_type": "markdown",
   "id": "adbe5a1b-536d-4127-b36b-4453958813b1",
   "metadata": {},
   "source": [
    "**Load `musicbrainz_artist.csv` for `artist_mbids` to `name` mapping.**"
   ]
  },
  {
   "cell_type": "code",
   "execution_count": 6,
   "id": "ddf7dbb6-4686-41a0-8df4-9d27cbc3efc2",
   "metadata": {},
   "outputs": [
    {
     "data": {
      "text/html": [
       "<div>\n",
       "<style scoped>\n",
       "    .dataframe tbody tr th:only-of-type {\n",
       "        vertical-align: middle;\n",
       "    }\n",
       "\n",
       "    .dataframe tbody tr th {\n",
       "        vertical-align: top;\n",
       "    }\n",
       "\n",
       "    .dataframe thead th {\n",
       "        text-align: right;\n",
       "    }\n",
       "</style>\n",
       "<table border=\"1\" class=\"dataframe\">\n",
       "  <thead>\n",
       "    <tr style=\"text-align: right;\">\n",
       "      <th></th>\n",
       "      <th>name</th>\n",
       "    </tr>\n",
       "    <tr>\n",
       "      <th>artist_mbid</th>\n",
       "      <th></th>\n",
       "    </tr>\n",
       "  </thead>\n",
       "  <tbody>\n",
       "    <tr>\n",
       "      <th>fadeb38c-833f-40bc-9d8c-a6383b38b1be</th>\n",
       "      <td>Доктор Сатана</td>\n",
       "    </tr>\n",
       "    <tr>\n",
       "      <th>49add228-eac5-4de8-836c-d75cde7369c3</th>\n",
       "      <td>Pete Moutso</td>\n",
       "    </tr>\n",
       "    <tr>\n",
       "      <th>165a49a0-2b3b-4078-a3c1-905afdc07c0a</th>\n",
       "      <td>Babyglock</td>\n",
       "    </tr>\n",
       "    <tr>\n",
       "      <th>7b4a548e-a01a-49b7-82e7-b49efeb9732c</th>\n",
       "      <td>Aric Leavitt</td>\n",
       "    </tr>\n",
       "    <tr>\n",
       "      <th>60aca66f-e91a-4cb5-9308-b6e293cd833e</th>\n",
       "      <td>Fonograff</td>\n",
       "    </tr>\n",
       "  </tbody>\n",
       "</table>\n",
       "</div>"
      ],
      "text/plain": [
       "                                               name\n",
       "artist_mbid                                        \n",
       "fadeb38c-833f-40bc-9d8c-a6383b38b1be  Доктор Сатана\n",
       "49add228-eac5-4de8-836c-d75cde7369c3    Pete Moutso\n",
       "165a49a0-2b3b-4078-a3c1-905afdc07c0a      Babyglock\n",
       "7b4a548e-a01a-49b7-82e7-b49efeb9732c   Aric Leavitt\n",
       "60aca66f-e91a-4cb5-9308-b6e293cd833e      Fonograff"
      ]
     },
     "execution_count": 6,
     "metadata": {},
     "output_type": "execute_result"
    }
   ],
   "source": [
    "musicbrainz_artist = pd.read_csv(os.path.join(materials_root, \"musicbrainz_artist.csv\"))\n",
    "musicbrainz_artist.set_index(\"artist_mbid\", inplace=True)\n",
    "musicbrainz_artist.head()"
   ]
  },
  {
   "cell_type": "markdown",
   "id": "38c2e1a5-d865-49b6-b69d-5417203800f9",
   "metadata": {},
   "source": [
    "**Process the date for training**"
   ]
  },
  {
   "cell_type": "code",
   "execution_count": 7,
   "id": "d5104787-2c47-4ea7-ae52-e695ce3a0683",
   "metadata": {},
   "outputs": [],
   "source": [
    "users = data[\"userid\"].astype(\"category\")\n",
    "artists = data[\"artist_mbids\"].astype(\"category\")\n",
    "plays = coo_matrix(\n",
    "        (data[\"count\"].astype(np.float32),\n",
    "        (\n",
    "            users.cat.codes.copy(),\n",
    "            artists.cat.codes.copy()\n",
    "        ),\n",
    "    )\n",
    ").tocsr()\n",
    "\n",
    "artist_user_plays = bm25_weight(plays, K1=100, B=0.8)\n",
    "user_plays = artist_user_plays.T.tocsr()"
   ]
  },
  {
   "cell_type": "markdown",
   "id": "e15ef839-8afb-4d39-b287-e73da4e46abb",
   "metadata": {},
   "source": [
    "## Model training"
   ]
  },
  {
   "cell_type": "code",
   "execution_count": 8,
   "id": "162db765-5b4e-45ae-89a8-fbfe50fc3c2b",
   "metadata": {},
   "outputs": [
    {
     "name": "stderr",
     "output_type": "stream",
     "text": [
      "100%|███████████████████████████████████████████████████████████████████████████████████| 15/15 [00:03<00:00,  4.27it/s]\n"
     ]
    }
   ],
   "source": [
    "model = AlternatingLeastSquares(factors=64, regularization=0.05, alpha=2.0)\n",
    "model.fit(artist_user_plays.tocsr())"
   ]
  },
  {
   "cell_type": "markdown",
   "id": "c1c1841c-adda-4aba-843c-651e559e5adf",
   "metadata": {},
   "source": [
    "## Generate recommendations"
   ]
  },
  {
   "cell_type": "markdown",
   "id": "785b7519-1476-4048-a3c1-6035971c1599",
   "metadata": {},
   "source": [
    "**Recommendation example 1**"
   ]
  },
  {
   "cell_type": "code",
   "execution_count": 9,
   "id": "dedc7666-a3ea-4e92-81da-534b4fbdad0f",
   "metadata": {},
   "outputs": [],
   "source": [
    "userid = 123\n",
    "ids, scores = model.recommend(userid, user_plays[userid], N=10)"
   ]
  },
  {
   "cell_type": "code",
   "execution_count": 10,
   "id": "24ddf975-737f-469b-b11c-64549796ebed",
   "metadata": {},
   "outputs": [
    {
     "name": "stdout",
     "output_type": "stream",
     "text": [
      "Recommendations for user: 123\n"
     ]
    },
    {
     "data": {
      "text/html": [
       "<div>\n",
       "<style scoped>\n",
       "    .dataframe tbody tr th:only-of-type {\n",
       "        vertical-align: middle;\n",
       "    }\n",
       "\n",
       "    .dataframe tbody tr th {\n",
       "        vertical-align: top;\n",
       "    }\n",
       "\n",
       "    .dataframe thead th {\n",
       "        text-align: right;\n",
       "    }\n",
       "</style>\n",
       "<table border=\"1\" class=\"dataframe\">\n",
       "  <thead>\n",
       "    <tr style=\"text-align: right;\">\n",
       "      <th></th>\n",
       "      <th>artist</th>\n",
       "      <th>score</th>\n",
       "    </tr>\n",
       "  </thead>\n",
       "  <tbody>\n",
       "    <tr>\n",
       "      <th>0</th>\n",
       "      <td>Siouxsie Sioux</td>\n",
       "      <td>1.227083</td>\n",
       "    </tr>\n",
       "    <tr>\n",
       "      <th>1</th>\n",
       "      <td>John Butler Trio</td>\n",
       "      <td>1.185999</td>\n",
       "    </tr>\n",
       "    <tr>\n",
       "      <th>2</th>\n",
       "      <td>The Outcasts</td>\n",
       "      <td>1.082013</td>\n",
       "    </tr>\n",
       "    <tr>\n",
       "      <th>3</th>\n",
       "      <td>Camouflage</td>\n",
       "      <td>1.060227</td>\n",
       "    </tr>\n",
       "    <tr>\n",
       "      <th>4</th>\n",
       "      <td>Sharon Van Etten</td>\n",
       "      <td>1.058135</td>\n",
       "    </tr>\n",
       "    <tr>\n",
       "      <th>5</th>\n",
       "      <td>＊(Asterisk)</td>\n",
       "      <td>1.021060</td>\n",
       "    </tr>\n",
       "    <tr>\n",
       "      <th>6</th>\n",
       "      <td>William Orbit</td>\n",
       "      <td>1.019111</td>\n",
       "    </tr>\n",
       "    <tr>\n",
       "      <th>7</th>\n",
       "      <td>KAUAN</td>\n",
       "      <td>1.012212</td>\n",
       "    </tr>\n",
       "    <tr>\n",
       "      <th>8</th>\n",
       "      <td>Salut c’est cool</td>\n",
       "      <td>1.009765</td>\n",
       "    </tr>\n",
       "    <tr>\n",
       "      <th>9</th>\n",
       "      <td>Paul Johnson</td>\n",
       "      <td>0.998471</td>\n",
       "    </tr>\n",
       "  </tbody>\n",
       "</table>\n",
       "</div>"
      ],
      "text/plain": [
       "             artist     score\n",
       "0    Siouxsie Sioux  1.227083\n",
       "1  John Butler Trio  1.185999\n",
       "2      The Outcasts  1.082013\n",
       "3        Camouflage  1.060227\n",
       "4  Sharon Van Etten  1.058135\n",
       "5       ＊(Asterisk)  1.021060\n",
       "6     William Orbit  1.019111\n",
       "7             KAUAN  1.012212\n",
       "8  Salut c’est cool  1.009765\n",
       "9      Paul Johnson  0.998471"
      ]
     },
     "execution_count": 10,
     "metadata": {},
     "output_type": "execute_result"
    }
   ],
   "source": [
    "print(f'Recommendations for user: {userid}')\n",
    "recommendation = pd.DataFrame({\"artist\": musicbrainz_artist.loc[artists[ids]]['name'].tolist(), \"score\": scores})\n",
    "recommendation.reset_index(drop=True, inplace=True)\n",
    "recommendation"
   ]
  },
  {
   "cell_type": "markdown",
   "id": "a6a5f4c8-1c28-4ff3-9586-0e4c447a0026",
   "metadata": {},
   "source": [
    "**Recommendation example 2**"
   ]
  },
  {
   "cell_type": "code",
   "execution_count": 11,
   "id": "fd126003-d071-45d0-8f62-43501ddfd306",
   "metadata": {},
   "outputs": [],
   "source": [
    "userid = 1234\n",
    "ids, scores = model.recommend(userid, user_plays[userid], N=10)"
   ]
  },
  {
   "cell_type": "code",
   "execution_count": 12,
   "id": "22f29e3c-99e1-4490-8a7f-57d8d83544a1",
   "metadata": {},
   "outputs": [
    {
     "name": "stdout",
     "output_type": "stream",
     "text": [
      "Recommendations for user: 1234\n"
     ]
    },
    {
     "data": {
      "text/html": [
       "<div>\n",
       "<style scoped>\n",
       "    .dataframe tbody tr th:only-of-type {\n",
       "        vertical-align: middle;\n",
       "    }\n",
       "\n",
       "    .dataframe tbody tr th {\n",
       "        vertical-align: top;\n",
       "    }\n",
       "\n",
       "    .dataframe thead th {\n",
       "        text-align: right;\n",
       "    }\n",
       "</style>\n",
       "<table border=\"1\" class=\"dataframe\">\n",
       "  <thead>\n",
       "    <tr style=\"text-align: right;\">\n",
       "      <th></th>\n",
       "      <th>artist</th>\n",
       "      <th>score</th>\n",
       "    </tr>\n",
       "  </thead>\n",
       "  <tbody>\n",
       "    <tr>\n",
       "      <th>0</th>\n",
       "      <td>Jean‐Michel Blais</td>\n",
       "      <td>1.203481</td>\n",
       "    </tr>\n",
       "    <tr>\n",
       "      <th>1</th>\n",
       "      <td>Happy Go Lumpy's Bass &amp; Friendship Club</td>\n",
       "      <td>1.173286</td>\n",
       "    </tr>\n",
       "    <tr>\n",
       "      <th>2</th>\n",
       "      <td>Wizzard</td>\n",
       "      <td>1.138032</td>\n",
       "    </tr>\n",
       "    <tr>\n",
       "      <th>3</th>\n",
       "      <td>New Order</td>\n",
       "      <td>1.135313</td>\n",
       "    </tr>\n",
       "    <tr>\n",
       "      <th>4</th>\n",
       "      <td>Godspeed You! Black Emperor</td>\n",
       "      <td>1.125593</td>\n",
       "    </tr>\n",
       "    <tr>\n",
       "      <th>5</th>\n",
       "      <td>Terry Riley</td>\n",
       "      <td>1.116322</td>\n",
       "    </tr>\n",
       "    <tr>\n",
       "      <th>6</th>\n",
       "      <td>Yung Joc</td>\n",
       "      <td>1.111145</td>\n",
       "    </tr>\n",
       "    <tr>\n",
       "      <th>7</th>\n",
       "      <td>PVRIS</td>\n",
       "      <td>1.109415</td>\n",
       "    </tr>\n",
       "    <tr>\n",
       "      <th>8</th>\n",
       "      <td>Styx</td>\n",
       "      <td>1.089745</td>\n",
       "    </tr>\n",
       "    <tr>\n",
       "      <th>9</th>\n",
       "      <td>Aquilo</td>\n",
       "      <td>1.087665</td>\n",
       "    </tr>\n",
       "  </tbody>\n",
       "</table>\n",
       "</div>"
      ],
      "text/plain": [
       "                                    artist     score\n",
       "0                        Jean‐Michel Blais  1.203481\n",
       "1  Happy Go Lumpy's Bass & Friendship Club  1.173286\n",
       "2                                  Wizzard  1.138032\n",
       "3                                New Order  1.135313\n",
       "4              Godspeed You! Black Emperor  1.125593\n",
       "5                              Terry Riley  1.116322\n",
       "6                                 Yung Joc  1.111145\n",
       "7                                    PVRIS  1.109415\n",
       "8                                     Styx  1.089745\n",
       "9                                   Aquilo  1.087665"
      ]
     },
     "execution_count": 12,
     "metadata": {},
     "output_type": "execute_result"
    }
   ],
   "source": [
    "print(f'Recommendations for user: {userid}')\n",
    "recommendation = pd.DataFrame({\"artist\": musicbrainz_artist.loc[artists[ids]]['name'].tolist(), \"score\": scores})\n",
    "recommendation.reset_index(drop=True, inplace=True)\n",
    "recommendation"
   ]
  },
  {
   "cell_type": "markdown",
   "id": "ee0ba785-8a57-4711-b905-d2b4ff347f3b",
   "metadata": {},
   "source": [
    "## Find similar artists"
   ]
  },
  {
   "cell_type": "markdown",
   "id": "55bd5c52-498b-43c9-a238-34fae8d46c47",
   "metadata": {},
   "source": [
    "**Similar artists example 1**"
   ]
  },
  {
   "cell_type": "code",
   "execution_count": 13,
   "id": "ea9b197b-9b53-4433-a929-f18e76368157",
   "metadata": {},
   "outputs": [],
   "source": [
    "artistid = \"03f93de6-6d62-4710-bcc7-9b3d7c3d95f5\"\n",
    "artistname = musicbrainz_artist.loc[artistid]['name']\n",
    "artist_idx = artists.index[artists == artistid].tolist()[0]"
   ]
  },
  {
   "cell_type": "code",
   "execution_count": 14,
   "id": "18889360-06ba-4b22-aa22-a7007774019e",
   "metadata": {},
   "outputs": [],
   "source": [
    "ids, scores = model.similar_items(artist_idx, N=10)"
   ]
  },
  {
   "cell_type": "code",
   "execution_count": 15,
   "id": "bd3f50ff-6012-420f-a727-102ca235e10f",
   "metadata": {},
   "outputs": [
    {
     "name": "stdout",
     "output_type": "stream",
     "text": [
      "Artists similar to Z‐Trip\n"
     ]
    },
    {
     "data": {
      "text/html": [
       "<div>\n",
       "<style scoped>\n",
       "    .dataframe tbody tr th:only-of-type {\n",
       "        vertical-align: middle;\n",
       "    }\n",
       "\n",
       "    .dataframe tbody tr th {\n",
       "        vertical-align: top;\n",
       "    }\n",
       "\n",
       "    .dataframe thead th {\n",
       "        text-align: right;\n",
       "    }\n",
       "</style>\n",
       "<table border=\"1\" class=\"dataframe\">\n",
       "  <thead>\n",
       "    <tr style=\"text-align: right;\">\n",
       "      <th></th>\n",
       "      <th>artist</th>\n",
       "      <th>score</th>\n",
       "    </tr>\n",
       "  </thead>\n",
       "  <tbody>\n",
       "    <tr>\n",
       "      <th>0</th>\n",
       "      <td>Z‐Trip</td>\n",
       "      <td>1.000000</td>\n",
       "    </tr>\n",
       "    <tr>\n",
       "      <th>1</th>\n",
       "      <td>近藤浩治</td>\n",
       "      <td>0.999161</td>\n",
       "    </tr>\n",
       "    <tr>\n",
       "      <th>2</th>\n",
       "      <td>Rupie Edwards</td>\n",
       "      <td>0.997485</td>\n",
       "    </tr>\n",
       "    <tr>\n",
       "      <th>3</th>\n",
       "      <td>Roxy Music</td>\n",
       "      <td>0.995935</td>\n",
       "    </tr>\n",
       "    <tr>\n",
       "      <th>4</th>\n",
       "      <td>Van Halen</td>\n",
       "      <td>0.992427</td>\n",
       "    </tr>\n",
       "    <tr>\n",
       "      <th>5</th>\n",
       "      <td>Tantric</td>\n",
       "      <td>0.967676</td>\n",
       "    </tr>\n",
       "    <tr>\n",
       "      <th>6</th>\n",
       "      <td>AlgoRythmiK</td>\n",
       "      <td>0.965064</td>\n",
       "    </tr>\n",
       "    <tr>\n",
       "      <th>7</th>\n",
       "      <td>Irène Drésel</td>\n",
       "      <td>0.964272</td>\n",
       "    </tr>\n",
       "    <tr>\n",
       "      <th>8</th>\n",
       "      <td>Iron &amp; Wine</td>\n",
       "      <td>0.963777</td>\n",
       "    </tr>\n",
       "    <tr>\n",
       "      <th>9</th>\n",
       "      <td>Within Temptation</td>\n",
       "      <td>0.960130</td>\n",
       "    </tr>\n",
       "  </tbody>\n",
       "</table>\n",
       "</div>"
      ],
      "text/plain": [
       "              artist     score\n",
       "0             Z‐Trip  1.000000\n",
       "1               近藤浩治  0.999161\n",
       "2      Rupie Edwards  0.997485\n",
       "3         Roxy Music  0.995935\n",
       "4          Van Halen  0.992427\n",
       "5            Tantric  0.967676\n",
       "6        AlgoRythmiK  0.965064\n",
       "7       Irène Drésel  0.964272\n",
       "8        Iron & Wine  0.963777\n",
       "9  Within Temptation  0.960130"
      ]
     },
     "execution_count": 15,
     "metadata": {},
     "output_type": "execute_result"
    }
   ],
   "source": [
    "print(f'Artists similar to {artistname}')\n",
    "similar_artists = pd.DataFrame({\"artist\": musicbrainz_artist.loc[artists[ids]]['name'].tolist(), \"score\": scores})\n",
    "similar_artists.reset_index(drop=True, inplace=True)\n",
    "similar_artists"
   ]
  },
  {
   "cell_type": "markdown",
   "id": "3ad130bb-1048-4796-b8eb-f4fe2ee4291f",
   "metadata": {},
   "source": [
    "## Tests"
   ]
  },
  {
   "cell_type": "markdown",
   "id": "8c27fb20-7403-4742-9f2e-ba31837978a3",
   "metadata": {},
   "source": [
    "**Find similar artists to A. R. Rahman `MBID:e0bba708-bdd3-478d-84ea-c706413bedab`**\n",
    "\n",
    "<img src='../scratch/AR_Rahman_At_The_‘Marvel_Anthem’_Launch_(3x4_cropped).jpg' width=200>"
   ]
  },
  {
   "cell_type": "code",
   "execution_count": 16,
   "id": "dcfe35bd-6829-4617-8fff-f5c867b56b6d",
   "metadata": {},
   "outputs": [],
   "source": [
    "artistid = \"e0bba708-bdd3-478d-84ea-c706413bedab\"\n",
    "artistname = musicbrainz_artist.loc[artistid]['name']\n",
    "artist_idx = artists.index[artists == artistid].tolist()[0]"
   ]
  },
  {
   "cell_type": "code",
   "execution_count": 17,
   "id": "4b2c6c6c-1864-4eb3-8d55-924859f0a1a9",
   "metadata": {},
   "outputs": [],
   "source": [
    "ids, scores = model.similar_items(artist_idx, N=10)"
   ]
  },
  {
   "cell_type": "code",
   "execution_count": 18,
   "id": "4fb0dc55-f35a-496a-a82f-e96910b265f8",
   "metadata": {},
   "outputs": [
    {
     "name": "stdout",
     "output_type": "stream",
     "text": [
      "Artists similar to A. R. Rahman\n"
     ]
    },
    {
     "data": {
      "text/html": [
       "<div>\n",
       "<style scoped>\n",
       "    .dataframe tbody tr th:only-of-type {\n",
       "        vertical-align: middle;\n",
       "    }\n",
       "\n",
       "    .dataframe tbody tr th {\n",
       "        vertical-align: top;\n",
       "    }\n",
       "\n",
       "    .dataframe thead th {\n",
       "        text-align: right;\n",
       "    }\n",
       "</style>\n",
       "<table border=\"1\" class=\"dataframe\">\n",
       "  <thead>\n",
       "    <tr style=\"text-align: right;\">\n",
       "      <th></th>\n",
       "      <th>artist</th>\n",
       "      <th>score</th>\n",
       "    </tr>\n",
       "  </thead>\n",
       "  <tbody>\n",
       "    <tr>\n",
       "      <th>0</th>\n",
       "      <td>A. R. Rahman</td>\n",
       "      <td>1.000000</td>\n",
       "    </tr>\n",
       "    <tr>\n",
       "      <th>1</th>\n",
       "      <td>Limp Bizkit</td>\n",
       "      <td>0.833495</td>\n",
       "    </tr>\n",
       "    <tr>\n",
       "      <th>2</th>\n",
       "      <td>Mokhov</td>\n",
       "      <td>0.833336</td>\n",
       "    </tr>\n",
       "    <tr>\n",
       "      <th>3</th>\n",
       "      <td>Lustre</td>\n",
       "      <td>0.831047</td>\n",
       "    </tr>\n",
       "    <tr>\n",
       "      <th>4</th>\n",
       "      <td>The Merry Thoughts</td>\n",
       "      <td>0.831047</td>\n",
       "    </tr>\n",
       "    <tr>\n",
       "      <th>5</th>\n",
       "      <td>JMSN</td>\n",
       "      <td>0.831047</td>\n",
       "    </tr>\n",
       "    <tr>\n",
       "      <th>6</th>\n",
       "      <td>Faith No More</td>\n",
       "      <td>0.831047</td>\n",
       "    </tr>\n",
       "    <tr>\n",
       "      <th>7</th>\n",
       "      <td>Giraffage</td>\n",
       "      <td>0.831047</td>\n",
       "    </tr>\n",
       "    <tr>\n",
       "      <th>8</th>\n",
       "      <td>Katy Carr</td>\n",
       "      <td>0.831047</td>\n",
       "    </tr>\n",
       "    <tr>\n",
       "      <th>9</th>\n",
       "      <td>Low Roar</td>\n",
       "      <td>0.831047</td>\n",
       "    </tr>\n",
       "  </tbody>\n",
       "</table>\n",
       "</div>"
      ],
      "text/plain": [
       "               artist     score\n",
       "0        A. R. Rahman  1.000000\n",
       "1         Limp Bizkit  0.833495\n",
       "2              Mokhov  0.833336\n",
       "3              Lustre  0.831047\n",
       "4  The Merry Thoughts  0.831047\n",
       "5                JMSN  0.831047\n",
       "6       Faith No More  0.831047\n",
       "7           Giraffage  0.831047\n",
       "8           Katy Carr  0.831047\n",
       "9            Low Roar  0.831047"
      ]
     },
     "execution_count": 18,
     "metadata": {},
     "output_type": "execute_result"
    }
   ],
   "source": [
    "print(f'Artists similar to {artistname}')\n",
    "similar_artists = pd.DataFrame({\"artist\": musicbrainz_artist.loc[artists[ids]]['name'].tolist(), \"score\": scores})\n",
    "similar_artists.reset_index(drop=True, inplace=True)\n",
    "similar_artists"
   ]
  },
  {
   "cell_type": "markdown",
   "id": "02758abe-be2a-4d0a-85a0-bcd631cca9d3",
   "metadata": {},
   "source": [
    "**Find similar artists to Goran Bregović `MBID:883ece23-2779-4091-b527-62eb07ee79d4`**\n",
    "\n",
    "<img src='../scratch/20220710-Rudolstadt-Festival-2022-Goran-Bregovic-7849_(cropped).jpg' width=200>"
   ]
  },
  {
   "cell_type": "code",
   "execution_count": 19,
   "id": "c2c85dfe-ca90-451f-94f5-f8ba14f375b1",
   "metadata": {},
   "outputs": [],
   "source": [
    "artistid = \"883ece23-2779-4091-b527-62eb07ee79d4\"\n",
    "artistname = musicbrainz_artist.loc[artistid]['name']\n",
    "artist_idx = artists.index[artists == artistid].tolist()[0]"
   ]
  },
  {
   "cell_type": "code",
   "execution_count": 20,
   "id": "a3f3d875-939d-4874-ab8b-b180c57b86f7",
   "metadata": {},
   "outputs": [],
   "source": [
    "ids, scores = model.similar_items(artist_idx, N=10)"
   ]
  },
  {
   "cell_type": "code",
   "execution_count": 21,
   "id": "a3014750-13bb-4184-bb2d-a554ab1d43f2",
   "metadata": {},
   "outputs": [
    {
     "name": "stdout",
     "output_type": "stream",
     "text": [
      "Artists similar to Goran Bregović\n"
     ]
    },
    {
     "data": {
      "text/html": [
       "<div>\n",
       "<style scoped>\n",
       "    .dataframe tbody tr th:only-of-type {\n",
       "        vertical-align: middle;\n",
       "    }\n",
       "\n",
       "    .dataframe tbody tr th {\n",
       "        vertical-align: top;\n",
       "    }\n",
       "\n",
       "    .dataframe thead th {\n",
       "        text-align: right;\n",
       "    }\n",
       "</style>\n",
       "<table border=\"1\" class=\"dataframe\">\n",
       "  <thead>\n",
       "    <tr style=\"text-align: right;\">\n",
       "      <th></th>\n",
       "      <th>artist</th>\n",
       "      <th>score</th>\n",
       "    </tr>\n",
       "  </thead>\n",
       "  <tbody>\n",
       "    <tr>\n",
       "      <th>0</th>\n",
       "      <td>Goran Bregović</td>\n",
       "      <td>1.000000</td>\n",
       "    </tr>\n",
       "    <tr>\n",
       "      <th>1</th>\n",
       "      <td>T. Rex</td>\n",
       "      <td>0.974756</td>\n",
       "    </tr>\n",
       "    <tr>\n",
       "      <th>2</th>\n",
       "      <td>The Mavericks</td>\n",
       "      <td>0.974744</td>\n",
       "    </tr>\n",
       "    <tr>\n",
       "      <th>3</th>\n",
       "      <td>Technohead</td>\n",
       "      <td>0.974744</td>\n",
       "    </tr>\n",
       "    <tr>\n",
       "      <th>4</th>\n",
       "      <td>Julee Cruise</td>\n",
       "      <td>0.974744</td>\n",
       "    </tr>\n",
       "    <tr>\n",
       "      <th>5</th>\n",
       "      <td>DNCE</td>\n",
       "      <td>0.974744</td>\n",
       "    </tr>\n",
       "    <tr>\n",
       "      <th>6</th>\n",
       "      <td>Marshall Jefferson</td>\n",
       "      <td>0.974744</td>\n",
       "    </tr>\n",
       "    <tr>\n",
       "      <th>7</th>\n",
       "      <td>Pomplamoose</td>\n",
       "      <td>0.974744</td>\n",
       "    </tr>\n",
       "    <tr>\n",
       "      <th>8</th>\n",
       "      <td>Waldeck</td>\n",
       "      <td>0.974744</td>\n",
       "    </tr>\n",
       "    <tr>\n",
       "      <th>9</th>\n",
       "      <td>Alejandro Escovedo</td>\n",
       "      <td>0.973770</td>\n",
       "    </tr>\n",
       "  </tbody>\n",
       "</table>\n",
       "</div>"
      ],
      "text/plain": [
       "               artist     score\n",
       "0      Goran Bregović  1.000000\n",
       "1              T. Rex  0.974756\n",
       "2       The Mavericks  0.974744\n",
       "3          Technohead  0.974744\n",
       "4        Julee Cruise  0.974744\n",
       "5                DNCE  0.974744\n",
       "6  Marshall Jefferson  0.974744\n",
       "7         Pomplamoose  0.974744\n",
       "8             Waldeck  0.974744\n",
       "9  Alejandro Escovedo  0.973770"
      ]
     },
     "execution_count": 21,
     "metadata": {},
     "output_type": "execute_result"
    }
   ],
   "source": [
    "print(f'Artists similar to {artistname}')\n",
    "similar_artists = pd.DataFrame({\"artist\": musicbrainz_artist.loc[artists[ids]]['name'].tolist(), \"score\": scores})\n",
    "similar_artists.reset_index(drop=True, inplace=True)\n",
    "similar_artists"
   ]
  },
  {
   "cell_type": "markdown",
   "id": "bb22ad56-fb03-4a45-9307-bb847dab06ec",
   "metadata": {},
   "source": [
    "**Find similar artists to Linkin park `MBID:f59c5520-5f46-4d2c-b2c4-822eabf53419`**\n",
    "\n",
    "<img src='../scratch/1920px-LinkinParkBerlin2010.jpg' width=400>"
   ]
  },
  {
   "cell_type": "code",
   "execution_count": 22,
   "id": "bba3984b-6e4c-4c3d-a2f9-a1073c711a9e",
   "metadata": {},
   "outputs": [],
   "source": [
    "artistid = \"f59c5520-5f46-4d2c-b2c4-822eabf53419\"\n",
    "artistname = musicbrainz_artist.loc[artistid]['name']\n",
    "artist_idx = artists.index[artists == artistid].tolist()[0]"
   ]
  },
  {
   "cell_type": "code",
   "execution_count": 23,
   "id": "ec7f6679-7447-41c2-8f23-260a862f7959",
   "metadata": {},
   "outputs": [],
   "source": [
    "ids, scores = model.similar_items(artist_idx, N=10)"
   ]
  },
  {
   "cell_type": "code",
   "execution_count": 24,
   "id": "b9aec797-f673-40a7-9c3d-aad760e17d3d",
   "metadata": {},
   "outputs": [
    {
     "name": "stdout",
     "output_type": "stream",
     "text": [
      "Artists similar to Linkin Park\n"
     ]
    },
    {
     "data": {
      "text/html": [
       "<div>\n",
       "<style scoped>\n",
       "    .dataframe tbody tr th:only-of-type {\n",
       "        vertical-align: middle;\n",
       "    }\n",
       "\n",
       "    .dataframe tbody tr th {\n",
       "        vertical-align: top;\n",
       "    }\n",
       "\n",
       "    .dataframe thead th {\n",
       "        text-align: right;\n",
       "    }\n",
       "</style>\n",
       "<table border=\"1\" class=\"dataframe\">\n",
       "  <thead>\n",
       "    <tr style=\"text-align: right;\">\n",
       "      <th></th>\n",
       "      <th>artist</th>\n",
       "      <th>score</th>\n",
       "    </tr>\n",
       "  </thead>\n",
       "  <tbody>\n",
       "    <tr>\n",
       "      <th>0</th>\n",
       "      <td>Linkin Park</td>\n",
       "      <td>1.000000</td>\n",
       "    </tr>\n",
       "    <tr>\n",
       "      <th>1</th>\n",
       "      <td>Wau Wau Collectif</td>\n",
       "      <td>0.919157</td>\n",
       "    </tr>\n",
       "    <tr>\n",
       "      <th>2</th>\n",
       "      <td>Kid Cudi</td>\n",
       "      <td>0.912990</td>\n",
       "    </tr>\n",
       "    <tr>\n",
       "      <th>3</th>\n",
       "      <td>Stone Sour</td>\n",
       "      <td>0.912990</td>\n",
       "    </tr>\n",
       "    <tr>\n",
       "      <th>4</th>\n",
       "      <td>Ray Charles</td>\n",
       "      <td>0.873306</td>\n",
       "    </tr>\n",
       "    <tr>\n",
       "      <th>5</th>\n",
       "      <td>Elwood</td>\n",
       "      <td>0.664842</td>\n",
       "    </tr>\n",
       "    <tr>\n",
       "      <th>6</th>\n",
       "      <td>Jonathan Groff</td>\n",
       "      <td>0.599611</td>\n",
       "    </tr>\n",
       "    <tr>\n",
       "      <th>7</th>\n",
       "      <td>Lawrence</td>\n",
       "      <td>0.587182</td>\n",
       "    </tr>\n",
       "    <tr>\n",
       "      <th>8</th>\n",
       "      <td>Gorgon</td>\n",
       "      <td>0.565327</td>\n",
       "    </tr>\n",
       "    <tr>\n",
       "      <th>9</th>\n",
       "      <td>London Grammar</td>\n",
       "      <td>0.554062</td>\n",
       "    </tr>\n",
       "  </tbody>\n",
       "</table>\n",
       "</div>"
      ],
      "text/plain": [
       "              artist     score\n",
       "0        Linkin Park  1.000000\n",
       "1  Wau Wau Collectif  0.919157\n",
       "2           Kid Cudi  0.912990\n",
       "3         Stone Sour  0.912990\n",
       "4        Ray Charles  0.873306\n",
       "5             Elwood  0.664842\n",
       "6     Jonathan Groff  0.599611\n",
       "7           Lawrence  0.587182\n",
       "8             Gorgon  0.565327\n",
       "9     London Grammar  0.554062"
      ]
     },
     "execution_count": 24,
     "metadata": {},
     "output_type": "execute_result"
    }
   ],
   "source": [
    "print(f'Artists similar to {artistname}')\n",
    "similar_artists = pd.DataFrame({\"artist\": musicbrainz_artist.loc[artists[ids]]['name'].tolist(), \"score\": scores})\n",
    "similar_artists.reset_index(drop=True, inplace=True)\n",
    "similar_artists"
   ]
  },
  {
   "cell_type": "markdown",
   "id": "82fc918d-a595-4096-ac1a-c164a1804a06",
   "metadata": {},
   "source": [
    "## Database properties"
   ]
  },
  {
   "cell_type": "markdown",
   "id": "f64c1d7c-ab09-451b-93de-ad5b150ad992",
   "metadata": {},
   "source": [
    "### Number of `userid`"
   ]
  },
  {
   "cell_type": "code",
   "execution_count": 30,
   "id": "76d91806-1951-45aa-89f3-9b12af75f149",
   "metadata": {},
   "outputs": [
    {
     "name": "stdout",
     "output_type": "stream",
     "text": [
      "There are 10826 in the database used to train the model\n"
     ]
    }
   ],
   "source": [
    "num_users = data[\"userid\"].unique().shape[0]\n",
    "print(f'There are {num_users} in the database used to train the model')"
   ]
  },
  {
   "cell_type": "markdown",
   "id": "030cc093-2a85-4961-8512-5011d738e04c",
   "metadata": {},
   "source": [
    "### Most popular `artists`"
   ]
  },
  {
   "cell_type": "code",
   "execution_count": 57,
   "id": "5ea5528f-5947-4ab1-915b-178e02dbc1f3",
   "metadata": {},
   "outputs": [
    {
     "data": {
      "text/html": [
       "<div>\n",
       "<style scoped>\n",
       "    .dataframe tbody tr th:only-of-type {\n",
       "        vertical-align: middle;\n",
       "    }\n",
       "\n",
       "    .dataframe tbody tr th {\n",
       "        vertical-align: top;\n",
       "    }\n",
       "\n",
       "    .dataframe thead th {\n",
       "        text-align: right;\n",
       "    }\n",
       "</style>\n",
       "<table border=\"1\" class=\"dataframe\">\n",
       "  <thead>\n",
       "    <tr style=\"text-align: right;\">\n",
       "      <th></th>\n",
       "      <th>artists</th>\n",
       "    </tr>\n",
       "  </thead>\n",
       "  <tbody>\n",
       "    <tr>\n",
       "      <th>0</th>\n",
       "      <td>Linkin Park</td>\n",
       "    </tr>\n",
       "    <tr>\n",
       "      <th>1</th>\n",
       "      <td>Radiohead</td>\n",
       "    </tr>\n",
       "    <tr>\n",
       "      <th>2</th>\n",
       "      <td>Coldplay</td>\n",
       "    </tr>\n",
       "    <tr>\n",
       "      <th>3</th>\n",
       "      <td>Daft Punk</td>\n",
       "    </tr>\n",
       "    <tr>\n",
       "      <th>4</th>\n",
       "      <td>Billie Eilish</td>\n",
       "    </tr>\n",
       "    <tr>\n",
       "      <th>5</th>\n",
       "      <td>Green Day</td>\n",
       "    </tr>\n",
       "    <tr>\n",
       "      <th>6</th>\n",
       "      <td>Kendrick Lamar</td>\n",
       "    </tr>\n",
       "    <tr>\n",
       "      <th>7</th>\n",
       "      <td>Nirvana</td>\n",
       "    </tr>\n",
       "    <tr>\n",
       "      <th>8</th>\n",
       "      <td>Gorillaz</td>\n",
       "    </tr>\n",
       "    <tr>\n",
       "      <th>9</th>\n",
       "      <td>The Cure</td>\n",
       "    </tr>\n",
       "  </tbody>\n",
       "</table>\n",
       "</div>"
      ],
      "text/plain": [
       "          artists\n",
       "0     Linkin Park\n",
       "1       Radiohead\n",
       "2        Coldplay\n",
       "3       Daft Punk\n",
       "4   Billie Eilish\n",
       "5       Green Day\n",
       "6  Kendrick Lamar\n",
       "7         Nirvana\n",
       "8        Gorillaz\n",
       "9        The Cure"
      ]
     },
     "execution_count": 57,
     "metadata": {},
     "output_type": "execute_result"
    }
   ],
   "source": [
    "popular_artists = pd.DataFrame({\"artist_mbids\": data['artist_mbids'].tolist()})\n",
    "popular_artists = popular_artists.groupby([\"artist_mbids\"]).size().reset_index(name=\"count\")\n",
    "popular_artists = popular_artists.sort_values(by='count', ascending=False).head(10)\n",
    "popular_artists[\"artists\"] = musicbrainz_artist.loc[popular_artists[\"artist_mbids\"]]['name'].tolist()\n",
    "popular_artists = popular_artists.drop(\"artist_mbids\", axis=1)\n",
    "popular_artists = popular_artists.drop(\"count\", axis=1)\n",
    "popular_artists.reset_index(drop=True, inplace=True)\n",
    "popular_artists"
   ]
  },
  {
   "cell_type": "code",
   "execution_count": null,
   "id": "40864a7d-567d-4c40-b9eb-b8756a1e6644",
   "metadata": {},
   "outputs": [],
   "source": []
  }
 ],
 "metadata": {
  "kernelspec": {
   "display_name": "Python 3 (ipykernel)",
   "language": "python",
   "name": "python3"
  },
  "language_info": {
   "codemirror_mode": {
    "name": "ipython",
    "version": 3
   },
   "file_extension": ".py",
   "mimetype": "text/x-python",
   "name": "python",
   "nbconvert_exporter": "python",
   "pygments_lexer": "ipython3",
   "version": "3.10.16"
  }
 },
 "nbformat": 4,
 "nbformat_minor": 5
}
