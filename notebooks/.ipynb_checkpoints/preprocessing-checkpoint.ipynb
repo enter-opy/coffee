{
 "cells": [
  {
   "cell_type": "markdown",
   "id": "5b61ae82-51da-416a-9938-20d315369877",
   "metadata": {},
   "source": [
    "# Preprocessing"
   ]
  },
  {
   "cell_type": "code",
   "execution_count": 1,
   "id": "49fa896d-3571-4ab9-b60a-b5fc694edb63",
   "metadata": {},
   "outputs": [],
   "source": [
    "import json\n",
    "import csv\n",
    "import os\n",
    "import shutil\n",
    "from tqdm import tqdm\n",
    "import pandas as pd"
   ]
  },
  {
   "cell_type": "code",
   "execution_count": 5,
   "id": "84912674-ca87-4c50-abd4-d14da9325ae5",
   "metadata": {},
   "outputs": [],
   "source": [
    "data_root = \"../materials\"\n",
    "working_root = \"../working\"\n",
    "scratch_root = \"../scratch\"\n",
    "\n",
    "os.makedirs(working_root, exist_ok=True)\n",
    "os.makedirs(scratch_root, exist_ok=True)"
   ]
  },
  {
   "cell_type": "markdown",
   "id": "643db23f-4198-4760-8b2f-82f17fd9dddd",
   "metadata": {},
   "source": [
    "**Unzip `1.listens.zst`**"
   ]
  },
  {
   "cell_type": "code",
   "execution_count": null,
   "id": "01292e4a-ec64-4ff2-86bd-74a056ee68a2",
   "metadata": {},
   "outputs": [],
   "source": [
    "for i in range(12):\n",
    "    src = os.path.join(data_root, f\"{i + 1}.listens.zst\")\n",
    "    \n",
    "    scratch_listen_1_compressed = shutil.copy2(src, scratch_root)\n",
    "    !unzstd {scratch_listen_1_compressed}\n",
    "    !rm {src}"
   ]
  },
  {
   "cell_type": "markdown",
   "id": "9d5fc858-9fd3-40e4-9a3f-e1ce4a0c3552",
   "metadata": {},
   "source": [
    "## *User ID - MessyBrainz ID*\n",
    "\n",
    "1. Collect `user_id` - `recording_msid` mappings from ListenBrainz dataset\n",
    "2. Save to `userid-msid.csv`"
   ]
  },
  {
   "cell_type": "markdown",
   "id": "5614264a-6b5f-498c-8123-b9ca06b741a8",
   "metadata": {},
   "source": [
    "**Write `userid-msid-1.csv`**"
   ]
  },
  {
   "cell_type": "code",
   "execution_count": null,
   "id": "f8c6785d-7d8b-4cee-a9fc-d08559936a6b",
   "metadata": {},
   "outputs": [],
   "source": [
    "data = []\n",
    "\n",
    "with open(os.path.join(scratch_root, \"1.listens\")) as fp:\n",
    "    for line in tqdm(fp):\n",
    "        j = json.loads(line)\n",
    "        user_id = j['user_id']\n",
    "        recording_msid = j['recording_msid']\n",
    "        data.append([user_id, recording_msid])\n",
    "\n",
    "with open(os.path.join(working_root, \"userid-msid-1.csv\"), \"w\", newline='', encoding='utf-8') as fp:\n",
    "    w = csv.writer(fp)\n",
    "    w.writerows(data)"
   ]
  },
  {
   "cell_type": "code",
   "execution_count": 3,
   "id": "47724823-74e1-4d97-8ac8-491c70a14369",
   "metadata": {},
   "outputs": [],
   "source": [
    "json = None"
   ]
  },
  {
   "cell_type": "markdown",
   "id": "89677f63-0282-4e8c-93bb-d61cc56a3dc4",
   "metadata": {},
   "source": [
    "**Read `userid-msid-1.csv`**"
   ]
  },
  {
   "cell_type": "code",
   "execution_count": 6,
   "id": "d020e7a0-0b22-4dac-9c34-b3ef0b243583",
   "metadata": {},
   "outputs": [
    {
     "data": {
      "text/html": [
       "<div>\n",
       "<style scoped>\n",
       "    .dataframe tbody tr th:only-of-type {\n",
       "        vertical-align: middle;\n",
       "    }\n",
       "\n",
       "    .dataframe tbody tr th {\n",
       "        vertical-align: top;\n",
       "    }\n",
       "\n",
       "    .dataframe thead th {\n",
       "        text-align: right;\n",
       "    }\n",
       "</style>\n",
       "<table border=\"1\" class=\"dataframe\">\n",
       "  <thead>\n",
       "    <tr style=\"text-align: right;\">\n",
       "      <th></th>\n",
       "      <th>userid</th>\n",
       "      <th>msid</th>\n",
       "    </tr>\n",
       "  </thead>\n",
       "  <tbody>\n",
       "    <tr>\n",
       "      <th>0</th>\n",
       "      <td>24848</td>\n",
       "      <td>92fc76b4-bda0-4c2c-82b9-1ef4d489c071</td>\n",
       "    </tr>\n",
       "    <tr>\n",
       "      <th>1</th>\n",
       "      <td>24076</td>\n",
       "      <td>002091de-47f9-49d0-8da9-9af50e28f06e</td>\n",
       "    </tr>\n",
       "    <tr>\n",
       "      <th>2</th>\n",
       "      <td>22845</td>\n",
       "      <td>a6877bfb-0256-4471-82ad-2e60a78329c7</td>\n",
       "    </tr>\n",
       "    <tr>\n",
       "      <th>3</th>\n",
       "      <td>2966</td>\n",
       "      <td>1f1eae6d-e858-4236-9ffa-f4c8bb15d9c5</td>\n",
       "    </tr>\n",
       "    <tr>\n",
       "      <th>4</th>\n",
       "      <td>31175</td>\n",
       "      <td>166e1331-aec6-4be8-83ee-bbce489d3c14</td>\n",
       "    </tr>\n",
       "  </tbody>\n",
       "</table>\n",
       "</div>"
      ],
      "text/plain": [
       "   userid                                  msid\n",
       "0   24848  92fc76b4-bda0-4c2c-82b9-1ef4d489c071\n",
       "1   24076  002091de-47f9-49d0-8da9-9af50e28f06e\n",
       "2   22845  a6877bfb-0256-4471-82ad-2e60a78329c7\n",
       "3    2966  1f1eae6d-e858-4236-9ffa-f4c8bb15d9c5\n",
       "4   31175  166e1331-aec6-4be8-83ee-bbce489d3c14"
      ]
     },
     "execution_count": 6,
     "metadata": {},
     "output_type": "execute_result"
    }
   ],
   "source": [
    "data = pd.read_csv(os.path.join(working_root, \"userid-msid-1.csv\"), header=None)\n",
    "data.columns = [\"userid\", \"msid\"]\n",
    "data.head()"
   ]
  },
  {
   "cell_type": "code",
   "execution_count": 7,
   "id": "052cdc0f-5d04-403b-a869-b4181e4d0b40",
   "metadata": {},
   "outputs": [
    {
     "data": {
      "text/plain": [
       "userid    8839350.0\n",
       "Name: count, dtype: float64"
      ]
     },
     "execution_count": 7,
     "metadata": {},
     "output_type": "execute_result"
    }
   ],
   "source": [
    "data.describe().loc['count']"
   ]
  },
  {
   "cell_type": "markdown",
   "id": "e35f32be-a540-4a0f-ab53-b9d9ae98e1c6",
   "metadata": {},
   "source": [
    "## Unique *MessyBrainz ID* mappings\n",
    "\n",
    "1. Remove duplicates from `listenbrainz_msid_mapping.csv`\n",
    "2. Save to `small_msid_mapping.csv`"
   ]
  },
  {
   "cell_type": "markdown",
   "id": "6e7bdc58-b311-42c9-a6df-422fd4d6f5c4",
   "metadata": {},
   "source": [
    "**Unzip `listenbrainz_msid_mapping.csv.zst`**"
   ]
  },
  {
   "cell_type": "code",
   "execution_count": null,
   "id": "b32395b8-a9ec-4c0b-8221-36d7dcf308b7",
   "metadata": {},
   "outputs": [],
   "source": [
    "src = os.path.join(data_root, \"listenbrainz_msid_mapping.csv.zst\")\n",
    "listenbrainz_msid_mapping_fn = shutil.copy2(src, scratch_root)\n",
    "!unzstd {listenbrainz_msid_mapping_fn}\n",
    "!rm {src}"
   ]
  },
  {
   "cell_type": "code",
   "execution_count": 8,
   "id": "cb77cb73-2de7-4aa5-a63a-6c7733eb98f6",
   "metadata": {},
   "outputs": [
    {
     "name": "stdout",
     "output_type": "stream",
     "text": [
      "Unique msids: 3013073\n"
     ]
    }
   ],
   "source": [
    "unique_msids = set(data['msid'])\n",
    "print(f\"Unique msids: {len(unique_msids)}\")"
   ]
  },
  {
   "cell_type": "markdown",
   "id": "a3f9802c-6b4a-4c35-a4d0-79b9ebe5ffe7",
   "metadata": {},
   "source": [
    "**Write `small_msid_mapping.csv`**"
   ]
  },
  {
   "cell_type": "code",
   "execution_count": 10,
   "id": "363548b9-0c87-4473-ad9c-9483db380dbe",
   "metadata": {},
   "outputs": [],
   "source": [
    "with open(os.path.join(scratch_root, \"listenbrainz_msid_mapping.csv\")) as r_fp, open(os.path.join(scratch_root, \"small_msid_mapping.csv\"), \"w\") as w_fp:\n",
    "    r = csv.reader(r_fp)\n",
    "    w = csv.writer(w_fp)\n",
    "    header = next(r)\n",
    "    w.writerow(header)\n",
    "    for line in r:\n",
    "        if line[0] in unique_msids and (line[2] == \"exact_match\" or line[2] == \"high_quality\"):\n",
    "            w.writerow(line)\n",
    "\n",
    "unique_msids = None"
   ]
  },
  {
   "cell_type": "code",
   "execution_count": 8,
   "id": "7c4f50e5-9a27-44a3-adcd-6b0eb1705a96",
   "metadata": {},
   "outputs": [],
   "source": [
    "csv = None"
   ]
  },
  {
   "cell_type": "markdown",
   "id": "fb3c280f-107c-4499-812a-7e43c8d407d0",
   "metadata": {},
   "source": [
    "**Read `small_msid_mapping.csv`**"
   ]
  },
  {
   "cell_type": "code",
   "execution_count": 9,
   "id": "27b55f60-fd87-45bf-8e55-709d54762ff1",
   "metadata": {},
   "outputs": [
    {
     "data": {
      "text/html": [
       "<div>\n",
       "<style scoped>\n",
       "    .dataframe tbody tr th:only-of-type {\n",
       "        vertical-align: middle;\n",
       "    }\n",
       "\n",
       "    .dataframe tbody tr th {\n",
       "        vertical-align: top;\n",
       "    }\n",
       "\n",
       "    .dataframe thead th {\n",
       "        text-align: right;\n",
       "    }\n",
       "</style>\n",
       "<table border=\"1\" class=\"dataframe\">\n",
       "  <thead>\n",
       "    <tr style=\"text-align: right;\">\n",
       "      <th></th>\n",
       "      <th>recording_mbid</th>\n",
       "    </tr>\n",
       "    <tr>\n",
       "      <th>recording_msid</th>\n",
       "      <th></th>\n",
       "    </tr>\n",
       "  </thead>\n",
       "  <tbody>\n",
       "    <tr>\n",
       "      <th>93b81537-8fd5-4cd7-9e76-58c2105225ef</th>\n",
       "      <td>38ee842b-0cb9-48de-aa5a-24cce06546ef</td>\n",
       "    </tr>\n",
       "    <tr>\n",
       "      <th>d1b3acbd-d409-405c-afb7-ea0a974004d6</th>\n",
       "      <td>74d1b1cf-224c-412c-b534-13a91852d5da</td>\n",
       "    </tr>\n",
       "    <tr>\n",
       "      <th>97c45bd5-d372-4502-add8-a8daba5e4c6e</th>\n",
       "      <td>834b5aa5-8ef0-465d-94d4-026c099d6e76</td>\n",
       "    </tr>\n",
       "    <tr>\n",
       "      <th>fbc0089e-34da-4caa-b899-095da8374522</th>\n",
       "      <td>4cffc0b3-27de-4ae4-afc2-6c2c71872e1f</td>\n",
       "    </tr>\n",
       "    <tr>\n",
       "      <th>33537acb-388f-4041-a2c4-a38b3865e87f</th>\n",
       "      <td>aca956f1-128b-48cd-8b3f-57e405a91fca</td>\n",
       "    </tr>\n",
       "  </tbody>\n",
       "</table>\n",
       "</div>"
      ],
      "text/plain": [
       "                                                            recording_mbid\n",
       "recording_msid                                                            \n",
       "93b81537-8fd5-4cd7-9e76-58c2105225ef  38ee842b-0cb9-48de-aa5a-24cce06546ef\n",
       "d1b3acbd-d409-405c-afb7-ea0a974004d6  74d1b1cf-224c-412c-b534-13a91852d5da\n",
       "97c45bd5-d372-4502-add8-a8daba5e4c6e  834b5aa5-8ef0-465d-94d4-026c099d6e76\n",
       "fbc0089e-34da-4caa-b899-095da8374522  4cffc0b3-27de-4ae4-afc2-6c2c71872e1f\n",
       "33537acb-388f-4041-a2c4-a38b3865e87f  aca956f1-128b-48cd-8b3f-57e405a91fca"
      ]
     },
     "execution_count": 9,
     "metadata": {},
     "output_type": "execute_result"
    }
   ],
   "source": [
    "smallmapping = pd.read_csv(os.path.join(scratch_root, \"small_msid_mapping.csv\"))\n",
    "smallmapping = smallmapping.drop(\"match_type\", axis=1)\n",
    "smallmapping.set_index(\"recording_msid\", inplace=True)\n",
    "smallmapping.head()"
   ]
  },
  {
   "cell_type": "markdown",
   "id": "d33391e7-0cfd-46ac-8a12-aa936b560e40",
   "metadata": {},
   "source": [
    "## Convert *User ID - MessyBrainz ID* into *User ID - MusicBrainz Recording ID*"
   ]
  },
  {
   "cell_type": "code",
   "execution_count": 10,
   "id": "1ba4be56-d995-4e75-b5da-4c00b2400ade",
   "metadata": {},
   "outputs": [
    {
     "name": "stderr",
     "output_type": "stream",
     "text": [
      "8839350it [06:50, 21545.64it/s] \n"
     ]
    },
    {
     "data": {
      "text/html": [
       "<div>\n",
       "<style scoped>\n",
       "    .dataframe tbody tr th:only-of-type {\n",
       "        vertical-align: middle;\n",
       "    }\n",
       "\n",
       "    .dataframe tbody tr th {\n",
       "        vertical-align: top;\n",
       "    }\n",
       "\n",
       "    .dataframe thead th {\n",
       "        text-align: right;\n",
       "    }\n",
       "</style>\n",
       "<table border=\"1\" class=\"dataframe\">\n",
       "  <thead>\n",
       "    <tr style=\"text-align: right;\">\n",
       "      <th></th>\n",
       "      <th>userid</th>\n",
       "      <th>mbid</th>\n",
       "    </tr>\n",
       "  </thead>\n",
       "  <tbody>\n",
       "    <tr>\n",
       "      <th>1</th>\n",
       "      <td>24076</td>\n",
       "      <td>9e37e7ff-d885-481b-aacc-a34ec0dc5c1b</td>\n",
       "    </tr>\n",
       "    <tr>\n",
       "      <th>2</th>\n",
       "      <td>22845</td>\n",
       "      <td>f8d186be-5bdf-4e2d-883a-0a3c4d7a9989</td>\n",
       "    </tr>\n",
       "    <tr>\n",
       "      <th>3</th>\n",
       "      <td>2966</td>\n",
       "      <td>bd2494aa-b5ec-4507-a507-cb1237e654b0</td>\n",
       "    </tr>\n",
       "    <tr>\n",
       "      <th>4</th>\n",
       "      <td>31175</td>\n",
       "      <td>c257ac23-1f8d-4e41-bb84-803f31804f9f</td>\n",
       "    </tr>\n",
       "    <tr>\n",
       "      <th>5</th>\n",
       "      <td>4942</td>\n",
       "      <td>d622c096-11e0-4339-adbc-62092315e660</td>\n",
       "    </tr>\n",
       "  </tbody>\n",
       "</table>\n",
       "</div>"
      ],
      "text/plain": [
       "   userid                                  mbid\n",
       "1   24076  9e37e7ff-d885-481b-aacc-a34ec0dc5c1b\n",
       "2   22845  f8d186be-5bdf-4e2d-883a-0a3c4d7a9989\n",
       "3    2966  bd2494aa-b5ec-4507-a507-cb1237e654b0\n",
       "4   31175  c257ac23-1f8d-4e41-bb84-803f31804f9f\n",
       "5    4942  d622c096-11e0-4339-adbc-62092315e660"
      ]
     },
     "execution_count": 10,
     "metadata": {},
     "output_type": "execute_result"
    }
   ],
   "source": [
    "recording_mbids = []\n",
    "for index, row in tqdm(data.iterrows()):\n",
    "    if row[\"msid\"] in smallmapping.index:\n",
    "        recording_mbid = smallmapping.loc[row[\"msid\"]][\"recording_mbid\"]\n",
    "    else:\n",
    "        recording_mbid = None\n",
    "    recording_mbids.append(recording_mbid)\n",
    "\n",
    "smallmapping = None\n",
    "data[\"mbid\"] = recording_mbids\n",
    "recording_mbids = None\n",
    "data = data.drop(\"msid\", axis=1)\n",
    "data = data.dropna(subset=[\"mbid\"])\n",
    "data.head()"
   ]
  },
  {
   "cell_type": "code",
   "execution_count": 11,
   "id": "5b239712-78c1-45d8-8194-f1eb43541994",
   "metadata": {},
   "outputs": [
    {
     "data": {
      "text/plain": [
       "userid    6140859.0\n",
       "Name: count, dtype: float64"
      ]
     },
     "execution_count": 11,
     "metadata": {},
     "output_type": "execute_result"
    }
   ],
   "source": [
    "data.describe().loc['count']"
   ]
  },
  {
   "cell_type": "markdown",
   "id": "433c9845-544f-4590-a082-b2394b305ce9",
   "metadata": {},
   "source": [
    "## Find *canonical IDs*"
   ]
  },
  {
   "cell_type": "markdown",
   "id": "8aa41cad-94d5-436a-bd20-428e736a414f",
   "metadata": {},
   "source": [
    "**Unzip `canonical_recording_redirect.csv`**"
   ]
  },
  {
   "cell_type": "code",
   "execution_count": null,
   "id": "e2cdde7d-7786-426e-9a0a-9891e0247bbe",
   "metadata": {},
   "outputs": [],
   "source": [
    "src = os.path.join(data_root, \"canonical_recording_redirect.csv.zst\")\n",
    "cannonical_msid_mapping_fn = shutil.copy2(src, scratch_root)\n",
    "!unzstd {cannonical_msid_mapping_fn}\n",
    "!rm {src}"
   ]
  },
  {
   "cell_type": "markdown",
   "id": "77c8bd16-d98c-4773-9884-50e05f9ce059",
   "metadata": {},
   "source": [
    "**Read `canonical_recording_redirect.csv`**"
   ]
  },
  {
   "cell_type": "code",
   "execution_count": 12,
   "id": "839cc258-b328-4c79-9eb5-31361127e39d",
   "metadata": {},
   "outputs": [
    {
     "data": {
      "text/html": [
       "<div>\n",
       "<style scoped>\n",
       "    .dataframe tbody tr th:only-of-type {\n",
       "        vertical-align: middle;\n",
       "    }\n",
       "\n",
       "    .dataframe tbody tr th {\n",
       "        vertical-align: top;\n",
       "    }\n",
       "\n",
       "    .dataframe thead th {\n",
       "        text-align: right;\n",
       "    }\n",
       "</style>\n",
       "<table border=\"1\" class=\"dataframe\">\n",
       "  <thead>\n",
       "    <tr style=\"text-align: right;\">\n",
       "      <th></th>\n",
       "      <th>canonical_recording_mbid</th>\n",
       "    </tr>\n",
       "    <tr>\n",
       "      <th>recording_mbid</th>\n",
       "      <th></th>\n",
       "    </tr>\n",
       "  </thead>\n",
       "  <tbody>\n",
       "    <tr>\n",
       "      <th>f3f8a7b8-a376-450c-8139-934d2393d49a</th>\n",
       "      <td>ecb125d7-d23e-4d76-8282-745713563110</td>\n",
       "    </tr>\n",
       "    <tr>\n",
       "      <th>a20f4c73-1f7a-48e7-903b-a34721c13629</th>\n",
       "      <td>ecb125d7-d23e-4d76-8282-745713563110</td>\n",
       "    </tr>\n",
       "    <tr>\n",
       "      <th>17344c3d-d600-4bb8-ac2d-93cab18ced4e</th>\n",
       "      <td>ecb125d7-d23e-4d76-8282-745713563110</td>\n",
       "    </tr>\n",
       "    <tr>\n",
       "      <th>7bf54872-7e1b-450c-9af4-385bcba33b78</th>\n",
       "      <td>ecb125d7-d23e-4d76-8282-745713563110</td>\n",
       "    </tr>\n",
       "    <tr>\n",
       "      <th>910f5db3-9a25-44ba-8f07-9956123c8e00</th>\n",
       "      <td>ecb125d7-d23e-4d76-8282-745713563110</td>\n",
       "    </tr>\n",
       "  </tbody>\n",
       "</table>\n",
       "</div>"
      ],
      "text/plain": [
       "                                                  canonical_recording_mbid\n",
       "recording_mbid                                                            \n",
       "f3f8a7b8-a376-450c-8139-934d2393d49a  ecb125d7-d23e-4d76-8282-745713563110\n",
       "a20f4c73-1f7a-48e7-903b-a34721c13629  ecb125d7-d23e-4d76-8282-745713563110\n",
       "17344c3d-d600-4bb8-ac2d-93cab18ced4e  ecb125d7-d23e-4d76-8282-745713563110\n",
       "7bf54872-7e1b-450c-9af4-385bcba33b78  ecb125d7-d23e-4d76-8282-745713563110\n",
       "910f5db3-9a25-44ba-8f07-9956123c8e00  ecb125d7-d23e-4d76-8282-745713563110"
      ]
     },
     "execution_count": 12,
     "metadata": {},
     "output_type": "execute_result"
    }
   ],
   "source": [
    "cannonicalmapping = pd.read_csv(os.path.join(scratch_root, \"canonical_recording_redirect.csv\"))\n",
    "cannonicalmapping = cannonicalmapping.drop(\"canonical_release_mbid\", axis=1)\n",
    "cannonicalmapping.set_index(\"recording_mbid\", inplace=True)\n",
    "cannonicalmapping.head()"
   ]
  },
  {
   "cell_type": "markdown",
   "id": "24612bc0-d7f7-4b1c-9ae8-53480713f891",
   "metadata": {},
   "source": [
    "### Replace `recording_mbid` with `canonical_recording_redirect.csv`"
   ]
  },
  {
   "cell_type": "code",
   "execution_count": 13,
   "id": "356ddd8a-11a4-48cf-a889-70f73eb68b30",
   "metadata": {},
   "outputs": [
    {
     "name": "stderr",
     "output_type": "stream",
     "text": [
      "6140859it [03:22, 30338.99it/s] \n"
     ]
    },
    {
     "data": {
      "text/html": [
       "<div>\n",
       "<style scoped>\n",
       "    .dataframe tbody tr th:only-of-type {\n",
       "        vertical-align: middle;\n",
       "    }\n",
       "\n",
       "    .dataframe tbody tr th {\n",
       "        vertical-align: top;\n",
       "    }\n",
       "\n",
       "    .dataframe thead th {\n",
       "        text-align: right;\n",
       "    }\n",
       "</style>\n",
       "<table border=\"1\" class=\"dataframe\">\n",
       "  <thead>\n",
       "    <tr style=\"text-align: right;\">\n",
       "      <th></th>\n",
       "      <th>userid</th>\n",
       "      <th>canonical_recording_mbid</th>\n",
       "    </tr>\n",
       "  </thead>\n",
       "  <tbody>\n",
       "    <tr>\n",
       "      <th>1</th>\n",
       "      <td>24076</td>\n",
       "      <td>9e37e7ff-d885-481b-aacc-a34ec0dc5c1b</td>\n",
       "    </tr>\n",
       "    <tr>\n",
       "      <th>2</th>\n",
       "      <td>22845</td>\n",
       "      <td>f8d186be-5bdf-4e2d-883a-0a3c4d7a9989</td>\n",
       "    </tr>\n",
       "    <tr>\n",
       "      <th>3</th>\n",
       "      <td>2966</td>\n",
       "      <td>bd2494aa-b5ec-4507-a507-cb1237e654b0</td>\n",
       "    </tr>\n",
       "    <tr>\n",
       "      <th>4</th>\n",
       "      <td>31175</td>\n",
       "      <td>c257ac23-1f8d-4e41-bb84-803f31804f9f</td>\n",
       "    </tr>\n",
       "    <tr>\n",
       "      <th>5</th>\n",
       "      <td>4942</td>\n",
       "      <td>d622c096-11e0-4339-adbc-62092315e660</td>\n",
       "    </tr>\n",
       "  </tbody>\n",
       "</table>\n",
       "</div>"
      ],
      "text/plain": [
       "   userid              canonical_recording_mbid\n",
       "1   24076  9e37e7ff-d885-481b-aacc-a34ec0dc5c1b\n",
       "2   22845  f8d186be-5bdf-4e2d-883a-0a3c4d7a9989\n",
       "3    2966  bd2494aa-b5ec-4507-a507-cb1237e654b0\n",
       "4   31175  c257ac23-1f8d-4e41-bb84-803f31804f9f\n",
       "5    4942  d622c096-11e0-4339-adbc-62092315e660"
      ]
     },
     "execution_count": 13,
     "metadata": {},
     "output_type": "execute_result"
    }
   ],
   "source": [
    "canonical_recording_mbids = []\n",
    "\n",
    "for index, row in tqdm(data.iterrows()):\n",
    "    if row[\"mbid\"] in cannonicalmapping.index:\n",
    "        canonical_recording_mbid = cannonicalmapping.loc[row[\"mbid\"]][\"canonical_recording_mbid\"]\n",
    "    else:\n",
    "        canonical_recording_mbid = row[\"mbid\"]\n",
    "    canonical_recording_mbids.append(canonical_recording_mbid)\n",
    "\n",
    "cannonicalmapping = None\n",
    "data[\"canonical_recording_mbid\"] = canonical_recording_mbids\n",
    "canonical_recording_mbids = None\n",
    "data = data.drop(\"mbid\", axis=1)\n",
    "data.head()"
   ]
  },
  {
   "cell_type": "code",
   "execution_count": 14,
   "id": "cb776780-c954-49f3-af35-4e6f754ac3f8",
   "metadata": {},
   "outputs": [
    {
     "data": {
      "text/plain": [
       "6140859.0"
      ]
     },
     "execution_count": 14,
     "metadata": {},
     "output_type": "execute_result"
    }
   ],
   "source": [
    "data.describe().loc['count']['userid']"
   ]
  },
  {
   "cell_type": "markdown",
   "id": "697aed1f-586e-45bc-a1e6-fd1198345f94",
   "metadata": {},
   "source": [
    "## Get *Artist MusicBrainz IDs*"
   ]
  },
  {
   "cell_type": "markdown",
   "id": "2bfc7189-805c-4875-a705-91be37cd7702",
   "metadata": {},
   "source": [
    "**Unzip `canonical_musicbrainz_data.csv.zst`**"
   ]
  },
  {
   "cell_type": "code",
   "execution_count": null,
   "id": "09842fae-7993-4fad-bd22-a3f4c1e69add",
   "metadata": {},
   "outputs": [],
   "source": [
    "src = os.path.join(data_root, \"canonical_musicbrainz_data.csv.zst\")\n",
    "cannonical_musicbrainz_data_fn = shutil.copy2(src, scratch_root)\n",
    "!unzstd {cannonical_musicbrainz_data_fn}\n",
    "!rm {src}"
   ]
  },
  {
   "cell_type": "code",
   "execution_count": 15,
   "id": "2655942d-ed0a-47ac-a291-b82fe5a10352",
   "metadata": {},
   "outputs": [],
   "source": [
    "shutil = None"
   ]
  },
  {
   "cell_type": "markdown",
   "id": "296b11df-a2e2-492b-911e-4321f1411b39",
   "metadata": {},
   "source": [
    "**Read `canonical_musicbrainz_data.csv.zst`**"
   ]
  },
  {
   "cell_type": "code",
   "execution_count": 16,
   "id": "82eea783-b114-49f2-95a8-36e09dec1c44",
   "metadata": {},
   "outputs": [
    {
     "data": {
      "text/html": [
       "<div>\n",
       "<style scoped>\n",
       "    .dataframe tbody tr th:only-of-type {\n",
       "        vertical-align: middle;\n",
       "    }\n",
       "\n",
       "    .dataframe tbody tr th {\n",
       "        vertical-align: top;\n",
       "    }\n",
       "\n",
       "    .dataframe thead th {\n",
       "        text-align: right;\n",
       "    }\n",
       "</style>\n",
       "<table border=\"1\" class=\"dataframe\">\n",
       "  <thead>\n",
       "    <tr style=\"text-align: right;\">\n",
       "      <th></th>\n",
       "      <th>artist_mbids</th>\n",
       "    </tr>\n",
       "    <tr>\n",
       "      <th>recording_mbid</th>\n",
       "      <th></th>\n",
       "    </tr>\n",
       "  </thead>\n",
       "  <tbody>\n",
       "    <tr>\n",
       "      <th>00b1a29d-ad9e-4b64-aed6-281f69f628ae</th>\n",
       "      <td>89ad4ac3-39f7-470e-963a-56509c546377</td>\n",
       "    </tr>\n",
       "    <tr>\n",
       "      <th>0aeea6af-3f85-45f3-88ed-8ce2bdedc4c6</th>\n",
       "      <td>89ad4ac3-39f7-470e-963a-56509c546377</td>\n",
       "    </tr>\n",
       "    <tr>\n",
       "      <th>24f32cf2-127e-45ca-ad19-91ed3ec87409</th>\n",
       "      <td>89ad4ac3-39f7-470e-963a-56509c546377</td>\n",
       "    </tr>\n",
       "    <tr>\n",
       "      <th>28e2548b-9c6f-47b7-8ab5-b1735499f291</th>\n",
       "      <td>89ad4ac3-39f7-470e-963a-56509c546377</td>\n",
       "    </tr>\n",
       "    <tr>\n",
       "      <th>390a9ab5-89c6-4e25-8ebf-f16a39c8c9cb</th>\n",
       "      <td>89ad4ac3-39f7-470e-963a-56509c546377</td>\n",
       "    </tr>\n",
       "  </tbody>\n",
       "</table>\n",
       "</div>"
      ],
      "text/plain": [
       "                                                              artist_mbids\n",
       "recording_mbid                                                            \n",
       "00b1a29d-ad9e-4b64-aed6-281f69f628ae  89ad4ac3-39f7-470e-963a-56509c546377\n",
       "0aeea6af-3f85-45f3-88ed-8ce2bdedc4c6  89ad4ac3-39f7-470e-963a-56509c546377\n",
       "24f32cf2-127e-45ca-ad19-91ed3ec87409  89ad4ac3-39f7-470e-963a-56509c546377\n",
       "28e2548b-9c6f-47b7-8ab5-b1735499f291  89ad4ac3-39f7-470e-963a-56509c546377\n",
       "390a9ab5-89c6-4e25-8ebf-f16a39c8c9cb  89ad4ac3-39f7-470e-963a-56509c546377"
      ]
     },
     "execution_count": 16,
     "metadata": {},
     "output_type": "execute_result"
    }
   ],
   "source": [
    "musicbrainzdata = pd.read_csv(os.path.join(scratch_root, \"canonical_musicbrainz_data.csv\"), usecols=[\"artist_mbids\", \"recording_mbid\"])\n",
    "musicbrainzdata.set_index(\"recording_mbid\", inplace=True)\n",
    "musicbrainzdata.head()"
   ]
  },
  {
   "cell_type": "code",
   "execution_count": 17,
   "id": "a02fe7b8-6d4b-4462-a284-aac30095b86e",
   "metadata": {},
   "outputs": [
    {
     "name": "stderr",
     "output_type": "stream",
     "text": [
      "6140859it [05:58, 17114.50it/s] \n"
     ]
    },
    {
     "data": {
      "text/html": [
       "<div>\n",
       "<style scoped>\n",
       "    .dataframe tbody tr th:only-of-type {\n",
       "        vertical-align: middle;\n",
       "    }\n",
       "\n",
       "    .dataframe tbody tr th {\n",
       "        vertical-align: top;\n",
       "    }\n",
       "\n",
       "    .dataframe thead th {\n",
       "        text-align: right;\n",
       "    }\n",
       "</style>\n",
       "<table border=\"1\" class=\"dataframe\">\n",
       "  <thead>\n",
       "    <tr style=\"text-align: right;\">\n",
       "      <th></th>\n",
       "      <th>userid</th>\n",
       "      <th>artist_mbids</th>\n",
       "    </tr>\n",
       "  </thead>\n",
       "  <tbody>\n",
       "    <tr>\n",
       "      <th>1</th>\n",
       "      <td>24076</td>\n",
       "      <td>29266b3d-b5ae-4d09-b721-326246adf68f</td>\n",
       "    </tr>\n",
       "    <tr>\n",
       "      <th>2</th>\n",
       "      <td>22845</td>\n",
       "      <td>744b52c8-509b-4451-abfd-a17d18d4bd1d</td>\n",
       "    </tr>\n",
       "    <tr>\n",
       "      <th>3</th>\n",
       "      <td>2966</td>\n",
       "      <td>b7539c32-53e7-4908-bda3-81449c367da6</td>\n",
       "    </tr>\n",
       "    <tr>\n",
       "      <th>4</th>\n",
       "      <td>31175</td>\n",
       "      <td>875203e1-8e58-4b86-8dcb-7190faf411c5</td>\n",
       "    </tr>\n",
       "    <tr>\n",
       "      <th>5</th>\n",
       "      <td>4942</td>\n",
       "      <td>84825fb6-c98c-4b43-a184-c7f70619f355</td>\n",
       "    </tr>\n",
       "  </tbody>\n",
       "</table>\n",
       "</div>"
      ],
      "text/plain": [
       "   userid                          artist_mbids\n",
       "1   24076  29266b3d-b5ae-4d09-b721-326246adf68f\n",
       "2   22845  744b52c8-509b-4451-abfd-a17d18d4bd1d\n",
       "3    2966  b7539c32-53e7-4908-bda3-81449c367da6\n",
       "4   31175  875203e1-8e58-4b86-8dcb-7190faf411c5\n",
       "5    4942  84825fb6-c98c-4b43-a184-c7f70619f355"
      ]
     },
     "execution_count": 17,
     "metadata": {},
     "output_type": "execute_result"
    }
   ],
   "source": [
    "artist_mbids = []\n",
    "\n",
    "for index, row in tqdm(data.iterrows()):\n",
    "    if row[\"canonical_recording_mbid\"] in musicbrainzdata.index:\n",
    "        artist_mbid = musicbrainzdata.loc[row[\"canonical_recording_mbid\"]][\"artist_mbids\"]\n",
    "        artist_mbid = artist_mbid.split(',')[0]\n",
    "    else :\n",
    "        artist_mbid = None\n",
    "        \n",
    "    artist_mbids.append(artist_mbid)\n",
    "\n",
    "musicbrainzdata = None\n",
    "data[\"artist_mbids\"] = artist_mbids\n",
    "artist_mbids = None\n",
    "data = data.drop(\"canonical_recording_mbid\", axis=1)\n",
    "data = data.dropna(subset=[\"artist_mbids\"])\n",
    "data.head()"
   ]
  },
  {
   "cell_type": "code",
   "execution_count": 28,
   "id": "3131198b-2512-4515-ab11-7648d37822dd",
   "metadata": {},
   "outputs": [
    {
     "name": "stdout",
     "output_type": "stream",
     "text": [
      "Variable                    Type        Data/Info\n",
      "-------------------------------------------------\n",
      "artist_mbid                 str         f31ec2ac-9071-4306-acd1-d2c8321033b5\n",
      "artist_mbids                NoneType    None\n",
      "cannonicalmapping           NoneType    None\n",
      "canonical_recording_mbid    str         6a4fc110-ae48-4abb-a1f4-0c295a791f78\n",
      "canonical_recording_mbids   NoneType    None\n",
      "csv                         NoneType    None\n",
      "data                        NoneType    None\n",
      "data_root                   str         materials\n",
      "index                       int         8839349\n",
      "json                        NoneType    None\n",
      "musicbrainzdata             NoneType    None\n",
      "os                          NoneType    None\n",
      "pd                          NoneType    None\n",
      "recording_mbid              str         b097d4c4-2839-4ef9-baac-4ca705f7bec4\n",
      "recording_mbids             NoneType    None\n",
      "row                         Series      userid                   <...>e: 8839349, dtype: object\n",
      "scratch_root                str         scratch\n",
      "shutil                      NoneType    None\n",
      "smallmapping                NoneType    None\n",
      "tqdm                        NoneType    None\n",
      "working_root                str         working\n"
     ]
    }
   ],
   "source": [
    "%whos"
   ]
  },
  {
   "cell_type": "code",
   "execution_count": 19,
   "id": "7be49737-50cd-4104-9fab-df86274f6859",
   "metadata": {},
   "outputs": [],
   "source": [
    "tqdm = None"
   ]
  },
  {
   "cell_type": "code",
   "execution_count": 20,
   "id": "58764028-3884-42d0-839b-9ea251250dc2",
   "metadata": {},
   "outputs": [
    {
     "data": {
      "text/plain": [
       "userid    6089272.0\n",
       "Name: count, dtype: float64"
      ]
     },
     "execution_count": 20,
     "metadata": {},
     "output_type": "execute_result"
    }
   ],
   "source": [
    "data.describe().loc['count']"
   ]
  },
  {
   "cell_type": "markdown",
   "id": "8f2c1560-557f-476a-abf2-abc1ca12c5e1",
   "metadata": {},
   "source": [
    "## Get `User ID - Artist IDs` counts"
   ]
  },
  {
   "cell_type": "code",
   "execution_count": 21,
   "id": "6f5a6565-adb9-4d7e-8b2c-0802399dba18",
   "metadata": {},
   "outputs": [
    {
     "data": {
      "text/html": [
       "<div>\n",
       "<style scoped>\n",
       "    .dataframe tbody tr th:only-of-type {\n",
       "        vertical-align: middle;\n",
       "    }\n",
       "\n",
       "    .dataframe tbody tr th {\n",
       "        vertical-align: top;\n",
       "    }\n",
       "\n",
       "    .dataframe thead th {\n",
       "        text-align: right;\n",
       "    }\n",
       "</style>\n",
       "<table border=\"1\" class=\"dataframe\">\n",
       "  <thead>\n",
       "    <tr style=\"text-align: right;\">\n",
       "      <th></th>\n",
       "      <th>userid</th>\n",
       "      <th>artist_mbids</th>\n",
       "      <th>count</th>\n",
       "    </tr>\n",
       "  </thead>\n",
       "  <tbody>\n",
       "    <tr>\n",
       "      <th>0</th>\n",
       "      <td>1</td>\n",
       "      <td>002e9f6e-13af-4347-83c5-f5ace70e0ec4</td>\n",
       "      <td>1</td>\n",
       "    </tr>\n",
       "    <tr>\n",
       "      <th>1</th>\n",
       "      <td>1</td>\n",
       "      <td>01252145-c9e8-4de5-a480-9b2bed05450a</td>\n",
       "      <td>14</td>\n",
       "    </tr>\n",
       "    <tr>\n",
       "      <th>2</th>\n",
       "      <td>1</td>\n",
       "      <td>02a7de68-2681-4d7e-8c36-6f2fdb37c07d</td>\n",
       "      <td>1</td>\n",
       "    </tr>\n",
       "    <tr>\n",
       "      <th>3</th>\n",
       "      <td>1</td>\n",
       "      <td>0383dadf-2a4e-4d10-a46a-e9e041da8eb3</td>\n",
       "      <td>12</td>\n",
       "    </tr>\n",
       "    <tr>\n",
       "      <th>4</th>\n",
       "      <td>1</td>\n",
       "      <td>03f93de6-6d62-4710-bcc7-9b3d7c3d95f5</td>\n",
       "      <td>1</td>\n",
       "    </tr>\n",
       "  </tbody>\n",
       "</table>\n",
       "</div>"
      ],
      "text/plain": [
       "   userid                          artist_mbids  count\n",
       "0       1  002e9f6e-13af-4347-83c5-f5ace70e0ec4      1\n",
       "1       1  01252145-c9e8-4de5-a480-9b2bed05450a     14\n",
       "2       1  02a7de68-2681-4d7e-8c36-6f2fdb37c07d      1\n",
       "3       1  0383dadf-2a4e-4d10-a46a-e9e041da8eb3     12\n",
       "4       1  03f93de6-6d62-4710-bcc7-9b3d7c3d95f5      1"
      ]
     },
     "execution_count": 21,
     "metadata": {},
     "output_type": "execute_result"
    }
   ],
   "source": [
    "data = data.groupby([\"userid\", \"artist_mbids\"]).size().reset_index(name=\"count\")\n",
    "data.head()"
   ]
  },
  {
   "cell_type": "code",
   "execution_count": 22,
   "id": "69111ed9-d14d-43f7-9e8a-1d1d96bd65e7",
   "metadata": {},
   "outputs": [
    {
     "data": {
      "text/html": [
       "<div>\n",
       "<style scoped>\n",
       "    .dataframe tbody tr th:only-of-type {\n",
       "        vertical-align: middle;\n",
       "    }\n",
       "\n",
       "    .dataframe tbody tr th {\n",
       "        vertical-align: top;\n",
       "    }\n",
       "\n",
       "    .dataframe thead th {\n",
       "        text-align: right;\n",
       "    }\n",
       "</style>\n",
       "<table border=\"1\" class=\"dataframe\">\n",
       "  <thead>\n",
       "    <tr style=\"text-align: right;\">\n",
       "      <th></th>\n",
       "      <th>userid</th>\n",
       "      <th>artist_mbids</th>\n",
       "      <th>count</th>\n",
       "    </tr>\n",
       "  </thead>\n",
       "  <tbody>\n",
       "    <tr>\n",
       "      <th>1178596</th>\n",
       "      <td>39526</td>\n",
       "      <td>fa19ee38-c2a9-4ed1-9b24-a18100cf9db3</td>\n",
       "      <td>7</td>\n",
       "    </tr>\n",
       "    <tr>\n",
       "      <th>1178597</th>\n",
       "      <td>39526</td>\n",
       "      <td>fabb37f8-eb2a-4cc1-a72a-b56935bbb72d</td>\n",
       "      <td>1</td>\n",
       "    </tr>\n",
       "    <tr>\n",
       "      <th>1178598</th>\n",
       "      <td>39526</td>\n",
       "      <td>fbcd7b29-455f-49e6-9c4f-8249d20a055e</td>\n",
       "      <td>1</td>\n",
       "    </tr>\n",
       "    <tr>\n",
       "      <th>1178599</th>\n",
       "      <td>39526</td>\n",
       "      <td>fd429857-5ace-4609-ae54-1502c3bdac11</td>\n",
       "      <td>5</td>\n",
       "    </tr>\n",
       "    <tr>\n",
       "      <th>1178600</th>\n",
       "      <td>39526</td>\n",
       "      <td>fe125f58-6c39-42fa-85c8-3eeddda5ad21</td>\n",
       "      <td>1</td>\n",
       "    </tr>\n",
       "  </tbody>\n",
       "</table>\n",
       "</div>"
      ],
      "text/plain": [
       "         userid                          artist_mbids  count\n",
       "1178596   39526  fa19ee38-c2a9-4ed1-9b24-a18100cf9db3      7\n",
       "1178597   39526  fabb37f8-eb2a-4cc1-a72a-b56935bbb72d      1\n",
       "1178598   39526  fbcd7b29-455f-49e6-9c4f-8249d20a055e      1\n",
       "1178599   39526  fd429857-5ace-4609-ae54-1502c3bdac11      5\n",
       "1178600   39526  fe125f58-6c39-42fa-85c8-3eeddda5ad21      1"
      ]
     },
     "execution_count": 22,
     "metadata": {},
     "output_type": "execute_result"
    }
   ],
   "source": [
    "data.tail()"
   ]
  },
  {
   "cell_type": "code",
   "execution_count": 25,
   "id": "d0b26927-6086-4ca7-abe8-cce89f921a7a",
   "metadata": {},
   "outputs": [],
   "source": [
    "data.to_csv(os.path.join(working_root, \"userid-artist-counts.csv\"), index=False)"
   ]
  },
  {
   "cell_type": "code",
   "execution_count": null,
   "id": "9f00a6de-f2e7-4cad-8fc7-af99b3efc0a7",
   "metadata": {},
   "outputs": [],
   "source": []
  }
 ],
 "metadata": {
  "kernelspec": {
   "display_name": "Python 3 (ipykernel)",
   "language": "python",
   "name": "python3"
  },
  "language_info": {
   "codemirror_mode": {
    "name": "ipython",
    "version": 3
   },
   "file_extension": ".py",
   "mimetype": "text/x-python",
   "name": "python",
   "nbconvert_exporter": "python",
   "pygments_lexer": "ipython3",
   "version": "3.10.16"
  }
 },
 "nbformat": 4,
 "nbformat_minor": 5
}
