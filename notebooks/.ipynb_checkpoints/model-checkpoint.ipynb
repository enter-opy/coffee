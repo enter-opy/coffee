{
 "cells": [
  {
   "cell_type": "markdown",
   "id": "5023e6f6-aafc-4d8f-b1ee-849d759c115e",
   "metadata": {},
   "source": [
    "# Collaborative filtering model"
   ]
  },
  {
   "cell_type": "code",
   "execution_count": 2,
   "id": "b73a8643-7fc3-4a85-b51e-bcf90a393553",
   "metadata": {},
   "outputs": [],
   "source": [
    "import numpy as np\n",
    "import pandas as pd\n",
    "from scipy.sparse import coo_matrix\n",
    "from implicit.nearest_neighbours import bm25_weight\n",
    "from implicit.als import AlternatingLeastSquares\n",
    "import os"
   ]
  },
  {
   "cell_type": "code",
   "execution_count": 3,
   "id": "01d6ba9a-5cb6-4bd9-937a-75d5b312fd4e",
   "metadata": {},
   "outputs": [],
   "source": [
    "materials_root = \"../materials\"\n",
    "working_root = \"../working\""
   ]
  },
  {
   "cell_type": "markdown",
   "id": "bce65cb0-6370-480a-bda0-0fe4ba0b2e87",
   "metadata": {},
   "source": [
    "## Load data"
   ]
  },
  {
   "cell_type": "markdown",
   "id": "6ee15e0a-4f0c-4602-a5a3-e515d0190848",
   "metadata": {},
   "source": [
    "**Load `userid-artist-counts.csv`** for training the model."
   ]
  },
  {
   "cell_type": "code",
   "execution_count": 4,
   "id": "1f664bc3-528e-47e6-ba69-aaca6d126816",
   "metadata": {},
   "outputs": [
    {
     "data": {
      "text/html": [
       "<div>\n",
       "<style scoped>\n",
       "    .dataframe tbody tr th:only-of-type {\n",
       "        vertical-align: middle;\n",
       "    }\n",
       "\n",
       "    .dataframe tbody tr th {\n",
       "        vertical-align: top;\n",
       "    }\n",
       "\n",
       "    .dataframe thead th {\n",
       "        text-align: right;\n",
       "    }\n",
       "</style>\n",
       "<table border=\"1\" class=\"dataframe\">\n",
       "  <thead>\n",
       "    <tr style=\"text-align: right;\">\n",
       "      <th></th>\n",
       "      <th>userid</th>\n",
       "      <th>artist_mbids</th>\n",
       "      <th>count</th>\n",
       "    </tr>\n",
       "  </thead>\n",
       "  <tbody>\n",
       "    <tr>\n",
       "      <th>0</th>\n",
       "      <td>1</td>\n",
       "      <td>002e9f6e-13af-4347-83c5-f5ace70e0ec4</td>\n",
       "      <td>1</td>\n",
       "    </tr>\n",
       "    <tr>\n",
       "      <th>1</th>\n",
       "      <td>1</td>\n",
       "      <td>01252145-c9e8-4de5-a480-9b2bed05450a</td>\n",
       "      <td>14</td>\n",
       "    </tr>\n",
       "    <tr>\n",
       "      <th>2</th>\n",
       "      <td>1</td>\n",
       "      <td>02a7de68-2681-4d7e-8c36-6f2fdb37c07d</td>\n",
       "      <td>1</td>\n",
       "    </tr>\n",
       "    <tr>\n",
       "      <th>3</th>\n",
       "      <td>1</td>\n",
       "      <td>0383dadf-2a4e-4d10-a46a-e9e041da8eb3</td>\n",
       "      <td>12</td>\n",
       "    </tr>\n",
       "    <tr>\n",
       "      <th>4</th>\n",
       "      <td>1</td>\n",
       "      <td>03f93de6-6d62-4710-bcc7-9b3d7c3d95f5</td>\n",
       "      <td>1</td>\n",
       "    </tr>\n",
       "  </tbody>\n",
       "</table>\n",
       "</div>"
      ],
      "text/plain": [
       "   userid                          artist_mbids  count\n",
       "0       1  002e9f6e-13af-4347-83c5-f5ace70e0ec4      1\n",
       "1       1  01252145-c9e8-4de5-a480-9b2bed05450a     14\n",
       "2       1  02a7de68-2681-4d7e-8c36-6f2fdb37c07d      1\n",
       "3       1  0383dadf-2a4e-4d10-a46a-e9e041da8eb3     12\n",
       "4       1  03f93de6-6d62-4710-bcc7-9b3d7c3d95f5      1"
      ]
     },
     "execution_count": 4,
     "metadata": {},
     "output_type": "execute_result"
    }
   ],
   "source": [
    "data = pd.read_csv(os.path.join(working_root, \"userid-artist-counts.csv\"))\n",
    "data.head()"
   ]
  },
  {
   "cell_type": "markdown",
   "id": "adbe5a1b-536d-4127-b36b-4453958813b1",
   "metadata": {},
   "source": [
    "**Load `musicbrainz_artist.csv` for `artist_mbids` to `name` mapping.**"
   ]
  },
  {
   "cell_type": "code",
   "execution_count": 5,
   "id": "ddf7dbb6-4686-41a0-8df4-9d27cbc3efc2",
   "metadata": {},
   "outputs": [
    {
     "data": {
      "text/html": [
       "<div>\n",
       "<style scoped>\n",
       "    .dataframe tbody tr th:only-of-type {\n",
       "        vertical-align: middle;\n",
       "    }\n",
       "\n",
       "    .dataframe tbody tr th {\n",
       "        vertical-align: top;\n",
       "    }\n",
       "\n",
       "    .dataframe thead th {\n",
       "        text-align: right;\n",
       "    }\n",
       "</style>\n",
       "<table border=\"1\" class=\"dataframe\">\n",
       "  <thead>\n",
       "    <tr style=\"text-align: right;\">\n",
       "      <th></th>\n",
       "      <th>name</th>\n",
       "    </tr>\n",
       "    <tr>\n",
       "      <th>artist_mbid</th>\n",
       "      <th></th>\n",
       "    </tr>\n",
       "  </thead>\n",
       "  <tbody>\n",
       "    <tr>\n",
       "      <th>fadeb38c-833f-40bc-9d8c-a6383b38b1be</th>\n",
       "      <td>Доктор Сатана</td>\n",
       "    </tr>\n",
       "    <tr>\n",
       "      <th>49add228-eac5-4de8-836c-d75cde7369c3</th>\n",
       "      <td>Pete Moutso</td>\n",
       "    </tr>\n",
       "    <tr>\n",
       "      <th>165a49a0-2b3b-4078-a3c1-905afdc07c0a</th>\n",
       "      <td>Babyglock</td>\n",
       "    </tr>\n",
       "    <tr>\n",
       "      <th>7b4a548e-a01a-49b7-82e7-b49efeb9732c</th>\n",
       "      <td>Aric Leavitt</td>\n",
       "    </tr>\n",
       "    <tr>\n",
       "      <th>60aca66f-e91a-4cb5-9308-b6e293cd833e</th>\n",
       "      <td>Fonograff</td>\n",
       "    </tr>\n",
       "  </tbody>\n",
       "</table>\n",
       "</div>"
      ],
      "text/plain": [
       "                                               name\n",
       "artist_mbid                                        \n",
       "fadeb38c-833f-40bc-9d8c-a6383b38b1be  Доктор Сатана\n",
       "49add228-eac5-4de8-836c-d75cde7369c3    Pete Moutso\n",
       "165a49a0-2b3b-4078-a3c1-905afdc07c0a      Babyglock\n",
       "7b4a548e-a01a-49b7-82e7-b49efeb9732c   Aric Leavitt\n",
       "60aca66f-e91a-4cb5-9308-b6e293cd833e      Fonograff"
      ]
     },
     "execution_count": 5,
     "metadata": {},
     "output_type": "execute_result"
    }
   ],
   "source": [
    "musicbrainz_artist = pd.read_csv(os.path.join(materials_root, \"musicbrainz_artist.csv\"))\n",
    "musicbrainz_artist.set_index(\"artist_mbid\", inplace=True)\n",
    "musicbrainz_artist.head()"
   ]
  },
  {
   "cell_type": "markdown",
   "id": "38c2e1a5-d865-49b6-b69d-5417203800f9",
   "metadata": {},
   "source": [
    "**Process the date for training**"
   ]
  },
  {
   "cell_type": "code",
   "execution_count": 6,
   "id": "d5104787-2c47-4ea7-ae52-e695ce3a0683",
   "metadata": {},
   "outputs": [],
   "source": [
    "users = data[\"userid\"].astype(\"category\")\n",
    "artists = data[\"artist_mbids\"].astype(\"category\")\n",
    "plays = coo_matrix(\n",
    "        (data[\"count\"].astype(np.float32),\n",
    "        (\n",
    "            users.cat.codes.copy(),\n",
    "            artists.cat.codes.copy()\n",
    "        ),\n",
    "    )\n",
    ").tocsr()\n",
    "\n",
    "artist_user_plays = bm25_weight(plays, K1=100, B=0.8)\n",
    "user_plays = artist_user_plays.T.tocsr()"
   ]
  },
  {
   "cell_type": "markdown",
   "id": "e15ef839-8afb-4d39-b287-e73da4e46abb",
   "metadata": {},
   "source": [
    "## Model training"
   ]
  },
  {
   "cell_type": "code",
   "execution_count": 7,
   "id": "162db765-5b4e-45ae-89a8-fbfe50fc3c2b",
   "metadata": {},
   "outputs": [
    {
     "name": "stderr",
     "output_type": "stream",
     "text": [
      "100%|███████████████████████████████████████████████████████████████████████████████████| 15/15 [00:02<00:00,  7.11it/s]\n"
     ]
    }
   ],
   "source": [
    "model = AlternatingLeastSquares(factors=64, regularization=0.05, alpha=2.0)\n",
    "model.fit(artist_user_plays.tocsr())"
   ]
  },
  {
   "cell_type": "markdown",
   "id": "c1c1841c-adda-4aba-843c-651e559e5adf",
   "metadata": {},
   "source": [
    "## Generate recommendations"
   ]
  },
  {
   "cell_type": "markdown",
   "id": "785b7519-1476-4048-a3c1-6035971c1599",
   "metadata": {},
   "source": [
    "**Recommendation example 1**"
   ]
  },
  {
   "cell_type": "code",
   "execution_count": 8,
   "id": "dedc7666-a3ea-4e92-81da-534b4fbdad0f",
   "metadata": {},
   "outputs": [],
   "source": [
    "userid = 123\n",
    "ids, scores = model.recommend(userid, user_plays[userid], N=10)"
   ]
  },
  {
   "cell_type": "code",
   "execution_count": 9,
   "id": "24ddf975-737f-469b-b11c-64549796ebed",
   "metadata": {},
   "outputs": [
    {
     "name": "stdout",
     "output_type": "stream",
     "text": [
      "Recommendations for user: 123\n"
     ]
    },
    {
     "data": {
      "text/html": [
       "<div>\n",
       "<style scoped>\n",
       "    .dataframe tbody tr th:only-of-type {\n",
       "        vertical-align: middle;\n",
       "    }\n",
       "\n",
       "    .dataframe tbody tr th {\n",
       "        vertical-align: top;\n",
       "    }\n",
       "\n",
       "    .dataframe thead th {\n",
       "        text-align: right;\n",
       "    }\n",
       "</style>\n",
       "<table border=\"1\" class=\"dataframe\">\n",
       "  <thead>\n",
       "    <tr style=\"text-align: right;\">\n",
       "      <th></th>\n",
       "      <th>artist</th>\n",
       "      <th>score</th>\n",
       "    </tr>\n",
       "  </thead>\n",
       "  <tbody>\n",
       "    <tr>\n",
       "      <th>0</th>\n",
       "      <td>Laurie Stras</td>\n",
       "      <td>0.945264</td>\n",
       "    </tr>\n",
       "    <tr>\n",
       "      <th>1</th>\n",
       "      <td>Heart</td>\n",
       "      <td>0.921970</td>\n",
       "    </tr>\n",
       "    <tr>\n",
       "      <th>2</th>\n",
       "      <td>Fiona Joy Hawkins</td>\n",
       "      <td>0.878139</td>\n",
       "    </tr>\n",
       "    <tr>\n",
       "      <th>3</th>\n",
       "      <td>The Felice Brothers</td>\n",
       "      <td>0.877666</td>\n",
       "    </tr>\n",
       "    <tr>\n",
       "      <th>4</th>\n",
       "      <td>上海アリス幻樂団</td>\n",
       "      <td>0.876827</td>\n",
       "    </tr>\n",
       "    <tr>\n",
       "      <th>5</th>\n",
       "      <td>Victor Ruiz</td>\n",
       "      <td>0.868608</td>\n",
       "    </tr>\n",
       "    <tr>\n",
       "      <th>6</th>\n",
       "      <td>MEUTE</td>\n",
       "      <td>0.843488</td>\n",
       "    </tr>\n",
       "    <tr>\n",
       "      <th>7</th>\n",
       "      <td>Lit</td>\n",
       "      <td>0.841911</td>\n",
       "    </tr>\n",
       "    <tr>\n",
       "      <th>8</th>\n",
       "      <td>Light Up the Sky</td>\n",
       "      <td>0.817305</td>\n",
       "    </tr>\n",
       "    <tr>\n",
       "      <th>9</th>\n",
       "      <td>Xperiment</td>\n",
       "      <td>0.817300</td>\n",
       "    </tr>\n",
       "  </tbody>\n",
       "</table>\n",
       "</div>"
      ],
      "text/plain": [
       "                artist     score\n",
       "0         Laurie Stras  0.945264\n",
       "1                Heart  0.921970\n",
       "2    Fiona Joy Hawkins  0.878139\n",
       "3  The Felice Brothers  0.877666\n",
       "4             上海アリス幻樂団  0.876827\n",
       "5          Victor Ruiz  0.868608\n",
       "6                MEUTE  0.843488\n",
       "7                  Lit  0.841911\n",
       "8     Light Up the Sky  0.817305\n",
       "9            Xperiment  0.817300"
      ]
     },
     "execution_count": 9,
     "metadata": {},
     "output_type": "execute_result"
    }
   ],
   "source": [
    "print(f'Recommendations for user: {userid}')\n",
    "recommendation = pd.DataFrame({\"artist\": musicbrainz_artist.loc[artists[ids]]['name'].tolist(), \"score\": scores})\n",
    "recommendation.reset_index(drop=True, inplace=True)\n",
    "recommendation"
   ]
  },
  {
   "cell_type": "markdown",
   "id": "a6a5f4c8-1c28-4ff3-9586-0e4c447a0026",
   "metadata": {},
   "source": [
    "**Recommendation example 2**"
   ]
  },
  {
   "cell_type": "code",
   "execution_count": 10,
   "id": "fd126003-d071-45d0-8f62-43501ddfd306",
   "metadata": {},
   "outputs": [],
   "source": [
    "userid = 1234\n",
    "ids, scores = model.recommend(userid, user_plays[userid], N=10)"
   ]
  },
  {
   "cell_type": "code",
   "execution_count": 11,
   "id": "22f29e3c-99e1-4490-8a7f-57d8d83544a1",
   "metadata": {},
   "outputs": [
    {
     "name": "stdout",
     "output_type": "stream",
     "text": [
      "Recommendations for user: 1234\n"
     ]
    },
    {
     "data": {
      "text/html": [
       "<div>\n",
       "<style scoped>\n",
       "    .dataframe tbody tr th:only-of-type {\n",
       "        vertical-align: middle;\n",
       "    }\n",
       "\n",
       "    .dataframe tbody tr th {\n",
       "        vertical-align: top;\n",
       "    }\n",
       "\n",
       "    .dataframe thead th {\n",
       "        text-align: right;\n",
       "    }\n",
       "</style>\n",
       "<table border=\"1\" class=\"dataframe\">\n",
       "  <thead>\n",
       "    <tr style=\"text-align: right;\">\n",
       "      <th></th>\n",
       "      <th>artist</th>\n",
       "      <th>score</th>\n",
       "    </tr>\n",
       "  </thead>\n",
       "  <tbody>\n",
       "    <tr>\n",
       "      <th>0</th>\n",
       "      <td>Jeuce</td>\n",
       "      <td>0.973729</td>\n",
       "    </tr>\n",
       "    <tr>\n",
       "      <th>1</th>\n",
       "      <td>The National</td>\n",
       "      <td>0.968783</td>\n",
       "    </tr>\n",
       "    <tr>\n",
       "      <th>2</th>\n",
       "      <td>Survivor</td>\n",
       "      <td>0.962908</td>\n",
       "    </tr>\n",
       "    <tr>\n",
       "      <th>3</th>\n",
       "      <td>Sybreed</td>\n",
       "      <td>0.932940</td>\n",
       "    </tr>\n",
       "    <tr>\n",
       "      <th>4</th>\n",
       "      <td>Beastie Boys</td>\n",
       "      <td>0.911920</td>\n",
       "    </tr>\n",
       "    <tr>\n",
       "      <th>5</th>\n",
       "      <td>Freya Ridings</td>\n",
       "      <td>0.911554</td>\n",
       "    </tr>\n",
       "    <tr>\n",
       "      <th>6</th>\n",
       "      <td>bollywoodFM</td>\n",
       "      <td>0.899826</td>\n",
       "    </tr>\n",
       "    <tr>\n",
       "      <th>7</th>\n",
       "      <td>Joe Cocker</td>\n",
       "      <td>0.893450</td>\n",
       "    </tr>\n",
       "    <tr>\n",
       "      <th>8</th>\n",
       "      <td>Nine Black Alps</td>\n",
       "      <td>0.889453</td>\n",
       "    </tr>\n",
       "    <tr>\n",
       "      <th>9</th>\n",
       "      <td>The Mission</td>\n",
       "      <td>0.887710</td>\n",
       "    </tr>\n",
       "  </tbody>\n",
       "</table>\n",
       "</div>"
      ],
      "text/plain": [
       "            artist     score\n",
       "0            Jeuce  0.973729\n",
       "1     The National  0.968783\n",
       "2         Survivor  0.962908\n",
       "3          Sybreed  0.932940\n",
       "4     Beastie Boys  0.911920\n",
       "5    Freya Ridings  0.911554\n",
       "6      bollywoodFM  0.899826\n",
       "7       Joe Cocker  0.893450\n",
       "8  Nine Black Alps  0.889453\n",
       "9      The Mission  0.887710"
      ]
     },
     "execution_count": 11,
     "metadata": {},
     "output_type": "execute_result"
    }
   ],
   "source": [
    "print(f'Recommendations for user: {userid}')\n",
    "recommendation = pd.DataFrame({\"artist\": musicbrainz_artist.loc[artists[ids]]['name'].tolist(), \"score\": scores})\n",
    "recommendation.reset_index(drop=True, inplace=True)\n",
    "recommendation"
   ]
  },
  {
   "cell_type": "markdown",
   "id": "ee0ba785-8a57-4711-b905-d2b4ff347f3b",
   "metadata": {},
   "source": [
    "## Find similar artists"
   ]
  },
  {
   "cell_type": "markdown",
   "id": "55bd5c52-498b-43c9-a238-34fae8d46c47",
   "metadata": {},
   "source": [
    "**Similar artists example 1**"
   ]
  },
  {
   "cell_type": "code",
   "execution_count": 12,
   "id": "ea9b197b-9b53-4433-a929-f18e76368157",
   "metadata": {},
   "outputs": [],
   "source": [
    "artistid = \"03f93de6-6d62-4710-bcc7-9b3d7c3d95f5\"\n",
    "artistname = musicbrainz_artist.loc[artistid]['name']\n",
    "artist_idx = artists.index[artists == artistid].tolist()[0]"
   ]
  },
  {
   "cell_type": "code",
   "execution_count": 13,
   "id": "18889360-06ba-4b22-aa22-a7007774019e",
   "metadata": {},
   "outputs": [],
   "source": [
    "ids, scores = model.similar_items(artist_idx, N=10)"
   ]
  },
  {
   "cell_type": "code",
   "execution_count": 14,
   "id": "bd3f50ff-6012-420f-a727-102ca235e10f",
   "metadata": {},
   "outputs": [
    {
     "name": "stdout",
     "output_type": "stream",
     "text": [
      "Artists similar to Z‐Trip\n"
     ]
    },
    {
     "data": {
      "text/html": [
       "<div>\n",
       "<style scoped>\n",
       "    .dataframe tbody tr th:only-of-type {\n",
       "        vertical-align: middle;\n",
       "    }\n",
       "\n",
       "    .dataframe tbody tr th {\n",
       "        vertical-align: top;\n",
       "    }\n",
       "\n",
       "    .dataframe thead th {\n",
       "        text-align: right;\n",
       "    }\n",
       "</style>\n",
       "<table border=\"1\" class=\"dataframe\">\n",
       "  <thead>\n",
       "    <tr style=\"text-align: right;\">\n",
       "      <th></th>\n",
       "      <th>artist</th>\n",
       "      <th>score</th>\n",
       "    </tr>\n",
       "  </thead>\n",
       "  <tbody>\n",
       "    <tr>\n",
       "      <th>0</th>\n",
       "      <td>Peter Pan Speedrock</td>\n",
       "      <td>1.0</td>\n",
       "    </tr>\n",
       "    <tr>\n",
       "      <th>1</th>\n",
       "      <td>Johnossi</td>\n",
       "      <td>1.0</td>\n",
       "    </tr>\n",
       "    <tr>\n",
       "      <th>2</th>\n",
       "      <td>Peter Cetera</td>\n",
       "      <td>1.0</td>\n",
       "    </tr>\n",
       "    <tr>\n",
       "      <th>3</th>\n",
       "      <td>IU</td>\n",
       "      <td>1.0</td>\n",
       "    </tr>\n",
       "    <tr>\n",
       "      <th>4</th>\n",
       "      <td>Nubya Garcia</td>\n",
       "      <td>1.0</td>\n",
       "    </tr>\n",
       "    <tr>\n",
       "      <th>5</th>\n",
       "      <td>tUnE-yArDs</td>\n",
       "      <td>1.0</td>\n",
       "    </tr>\n",
       "    <tr>\n",
       "      <th>6</th>\n",
       "      <td>Immolation</td>\n",
       "      <td>1.0</td>\n",
       "    </tr>\n",
       "    <tr>\n",
       "      <th>7</th>\n",
       "      <td>Terence Blanchard</td>\n",
       "      <td>1.0</td>\n",
       "    </tr>\n",
       "    <tr>\n",
       "      <th>8</th>\n",
       "      <td>Big Black Delta</td>\n",
       "      <td>1.0</td>\n",
       "    </tr>\n",
       "    <tr>\n",
       "      <th>9</th>\n",
       "      <td>Ex Deo</td>\n",
       "      <td>1.0</td>\n",
       "    </tr>\n",
       "  </tbody>\n",
       "</table>\n",
       "</div>"
      ],
      "text/plain": [
       "                artist  score\n",
       "0  Peter Pan Speedrock    1.0\n",
       "1             Johnossi    1.0\n",
       "2         Peter Cetera    1.0\n",
       "3                   IU    1.0\n",
       "4         Nubya Garcia    1.0\n",
       "5           tUnE-yArDs    1.0\n",
       "6           Immolation    1.0\n",
       "7    Terence Blanchard    1.0\n",
       "8      Big Black Delta    1.0\n",
       "9               Ex Deo    1.0"
      ]
     },
     "execution_count": 14,
     "metadata": {},
     "output_type": "execute_result"
    }
   ],
   "source": [
    "print(f'Artists similar to {artistname}')\n",
    "similar_artists = pd.DataFrame({\"artist\": musicbrainz_artist.loc[artists[ids]]['name'].tolist(), \"score\": scores})\n",
    "similar_artists.reset_index(drop=True, inplace=True)\n",
    "similar_artists"
   ]
  },
  {
   "cell_type": "markdown",
   "id": "791f07f8-870f-45b7-8d92-166de0d3b570",
   "metadata": {},
   "source": [
    "**Similar artists example 2**"
   ]
  },
  {
   "cell_type": "code",
   "execution_count": 15,
   "id": "20a57dc8-27f9-4c86-9ca4-78c7993c8161",
   "metadata": {},
   "outputs": [],
   "source": [
    "artistid = \"8f92558c-2baa-4758-8c38-615519e9deda\"\n",
    "artistname = musicbrainz_artist.loc[artistid]['name']\n",
    "artist_idx = artists.index[artists == artistid].tolist()[0]"
   ]
  },
  {
   "cell_type": "code",
   "execution_count": 16,
   "id": "42886ef4-6f8b-464b-88fd-c278f369575b",
   "metadata": {},
   "outputs": [],
   "source": [
    "ids, scores = model.similar_items(artist_idx, N=10)"
   ]
  },
  {
   "cell_type": "code",
   "execution_count": 17,
   "id": "410ff0bd-7838-4a0d-8409-4ecfe5a4ec02",
   "metadata": {},
   "outputs": [
    {
     "name": "stdout",
     "output_type": "stream",
     "text": [
      "Artists similar to The Clash\n"
     ]
    },
    {
     "data": {
      "text/html": [
       "<div>\n",
       "<style scoped>\n",
       "    .dataframe tbody tr th:only-of-type {\n",
       "        vertical-align: middle;\n",
       "    }\n",
       "\n",
       "    .dataframe tbody tr th {\n",
       "        vertical-align: top;\n",
       "    }\n",
       "\n",
       "    .dataframe thead th {\n",
       "        text-align: right;\n",
       "    }\n",
       "</style>\n",
       "<table border=\"1\" class=\"dataframe\">\n",
       "  <thead>\n",
       "    <tr style=\"text-align: right;\">\n",
       "      <th></th>\n",
       "      <th>artist</th>\n",
       "      <th>score</th>\n",
       "    </tr>\n",
       "  </thead>\n",
       "  <tbody>\n",
       "    <tr>\n",
       "      <th>0</th>\n",
       "      <td>Labrinth</td>\n",
       "      <td>1.0</td>\n",
       "    </tr>\n",
       "    <tr>\n",
       "      <th>1</th>\n",
       "      <td>Fleet Foxes</td>\n",
       "      <td>1.0</td>\n",
       "    </tr>\n",
       "    <tr>\n",
       "      <th>2</th>\n",
       "      <td>Evan Seleven</td>\n",
       "      <td>1.0</td>\n",
       "    </tr>\n",
       "    <tr>\n",
       "      <th>3</th>\n",
       "      <td>The Clash</td>\n",
       "      <td>1.0</td>\n",
       "    </tr>\n",
       "    <tr>\n",
       "      <th>4</th>\n",
       "      <td>Sleeck</td>\n",
       "      <td>1.0</td>\n",
       "    </tr>\n",
       "    <tr>\n",
       "      <th>5</th>\n",
       "      <td>WHITEFISTS</td>\n",
       "      <td>1.0</td>\n",
       "    </tr>\n",
       "    <tr>\n",
       "      <th>6</th>\n",
       "      <td>Peggy Gou</td>\n",
       "      <td>1.0</td>\n",
       "    </tr>\n",
       "    <tr>\n",
       "      <th>7</th>\n",
       "      <td>Endel</td>\n",
       "      <td>1.0</td>\n",
       "    </tr>\n",
       "    <tr>\n",
       "      <th>8</th>\n",
       "      <td>Simple Minds</td>\n",
       "      <td>1.0</td>\n",
       "    </tr>\n",
       "    <tr>\n",
       "      <th>9</th>\n",
       "      <td>OceanLab</td>\n",
       "      <td>1.0</td>\n",
       "    </tr>\n",
       "  </tbody>\n",
       "</table>\n",
       "</div>"
      ],
      "text/plain": [
       "         artist  score\n",
       "0      Labrinth    1.0\n",
       "1   Fleet Foxes    1.0\n",
       "2  Evan Seleven    1.0\n",
       "3     The Clash    1.0\n",
       "4        Sleeck    1.0\n",
       "5    WHITEFISTS    1.0\n",
       "6     Peggy Gou    1.0\n",
       "7         Endel    1.0\n",
       "8  Simple Minds    1.0\n",
       "9      OceanLab    1.0"
      ]
     },
     "execution_count": 17,
     "metadata": {},
     "output_type": "execute_result"
    }
   ],
   "source": [
    "print(f'Artists similar to {artistname}')\n",
    "similar_artists = pd.DataFrame({\"artist\": musicbrainz_artist.loc[artists[ids]]['name'].tolist(), \"score\": scores})\n",
    "similar_artists.reset_index(drop=True, inplace=True)\n",
    "similar_artists"
   ]
  },
  {
   "cell_type": "code",
   "execution_count": null,
   "id": "7394df26-aea3-4651-93f3-ccb7d57a9d44",
   "metadata": {},
   "outputs": [],
   "source": []
  }
 ],
 "metadata": {
  "kernelspec": {
   "display_name": "Python 3 (ipykernel)",
   "language": "python",
   "name": "python3"
  },
  "language_info": {
   "codemirror_mode": {
    "name": "ipython",
    "version": 3
   },
   "file_extension": ".py",
   "mimetype": "text/x-python",
   "name": "python",
   "nbconvert_exporter": "python",
   "pygments_lexer": "ipython3",
   "version": "3.10.16"
  }
 },
 "nbformat": 4,
 "nbformat_minor": 5
}
